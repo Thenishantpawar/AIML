{
 "cells": [
  {
   "cell_type": "code",
   "execution_count": 12,
   "metadata": {},
   "outputs": [],
   "source": [
    "import pandas as pd\n",
    "import numpy as np\n",
    "import seaborn as sns\n",
    "import matplotlib.pyplot as plt\n",
    "import datetime\n",
    "from sklearn.linear_model import LinearRegression\n",
    "from sklearn.metrics import mean_squared_error , r2_score, accuracy_score\n",
    "from sklearn.model_selection import cross_val_score\n",
    "\n",
    "df_train_X = pd.read_csv(\"train.csv\", parse_dates=[0])\n",
    "df_train_Y =pd.read_csv(\"train_label.csv\", names =[\"Label\"])\n",
    "df_train_X[\"Month\"] = df_train_X.datetime.dt.month\n",
    "df_train_X[\"Year\"] = df_train_X.datetime.dt.year\n",
    "df_train_X[\"Hour\"] = df_train_X.datetime.dt.hour\n",
    "df_train_X[\"season\"] = df_train_X[\"season\"].map({\"Fall\":1,\"Spring\":2, \"Summer\":3,\"Winter\": 4})\n",
    "df_train_X[\"weather\"] = df_train_X[\"weather\"].map({\" Clear + Few clouds\":1,\" Light Snow, Light Rain\":2, \" Mist + Cloudy \":3,\" Heavy Rain + Thunderstorm \": 4})\n",
    "df_train_X = df_train_X.drop([\"datetime\"],axis=1)\n",
    "\n",
    "df_test_X = pd.read_csv(\"test.csv\", parse_dates=[0])\n",
    "df_test_Y =pd.read_csv(\"test_label.csv\", names =[\"Label\"])\n",
    "df_test_X[\"Month\"] = df_test_X.datetime.dt.month\n",
    "df_test_X[\"Year\"] = df_test_X.datetime.dt.year\n",
    "df_test_X[\"Hour\"] = df_test_X.datetime.dt.hour\n",
    "df_test_X[\"season\"] = df_test_X[\"season\"].map({\"Fall\":1,\"Spring\":2, \"Summer\":3,\"Winter\": 4})\n",
    "df_test_X[\"weather\"] = df_test_X[\"weather\"].map({\" Clear + Few clouds\":1,\" Light Snow, Light Rain\":2, \" Mist + Cloudy \":3,\" Heavy Rain + Thunderstorm \": 4})\n",
    "df_test_X = df_test_X.drop([\"datetime\"],axis=1)\n"
   ]
  },
  {
   "cell_type": "code",
   "execution_count": 11,
   "metadata": {},
   "outputs": [
    {
     "name": "stdout",
     "output_type": "stream",
     "text": [
      "Coefficient: [[15.11462974 -9.24296102 -0.71183731  4.09654321  4.52195146  3.13529338\n",
      "  -2.05214024  0.43331242  4.8967749  81.90056261  7.61805601]] \n",
      "Intercept: [-164758.99394004]\n"
     ]
    }
   ],
   "source": [
    "slm = LinearRegression()\n",
    "slm.fit(df_train_X, df_train_Y)\n",
    "print(\"Coefficient:\", slm.coef_,\"\\nIntercept:\", slm.intercept_)"
   ]
  },
  {
   "cell_type": "code",
   "execution_count": 6,
   "metadata": {},
   "outputs": [
    {
     "name": "stdout",
     "output_type": "stream",
     "text": [
      "Train Accuracy: \n",
      "MSE:  20006.718960518683\n",
      "Accuracy:  0.3929525164293759\n",
      "Test Accuracy: \n",
      "MSE:  19303.776401183724\n",
      "Accuracy:  0.4001509239671054\n"
     ]
    }
   ],
   "source": [
    "Train_Pred = slm.predict(df_train_X)\n",
    "print(\"Train Accuracy: \")\n",
    "print(\"MSE: \", mean_squared_error(df_train_Y, Train_Pred))\n",
    "print(\"Accuracy: \", r2_score(df_train_Y, Train_Pred))\n",
    "Test_Pred = slm.predict(df_test_X)    \n",
    "print(\"Test Accuracy: \")\n",
    "print(\"MSE: \", mean_squared_error(df_test_Y, Test_Pred))\n",
    "print(\"Accuracy: \", r2_score(df_test_Y, Test_Pred))"
   ]
  },
  {
   "cell_type": "code",
   "execution_count": 8,
   "metadata": {},
   "outputs": [
    {
     "name": "stdout",
     "output_type": "stream",
     "text": [
      "Scores: [0.39982683 0.40041374 0.40015202 0.39301101 0.35168608]\n",
      "Accuracy: 0.39 (+/- 0.04)\n"
     ]
    }
   ],
   "source": [
    "scores = cross_val_score(slm, df_train_X, df_train_Y, cv=5)\n",
    "\n",
    "print(\"Scores:\",scores)\n",
    "print(\"Accuracy: %0.2f (+/- %0.2f)\" % (scores.mean(), scores.std() * 2))"
   ]
  },
  {
   "cell_type": "code",
   "execution_count": 18,
   "metadata": {},
   "outputs": [
    {
     "name": "stderr",
     "output_type": "stream",
     "text": [
      "C:\\Users\\nishant.l\\AppData\\Local\\Continuum\\anaconda3\\lib\\site-packages\\sklearn\\ensemble\\forest.py:246: FutureWarning: The default value of n_estimators will change from 10 in version 0.20 to 100 in 0.22.\n",
      "  \"10 in version 0.20 to 100 in 0.22.\", FutureWarning)\n",
      "C:\\Users\\nishant.l\\AppData\\Local\\Continuum\\anaconda3\\lib\\site-packages\\ipykernel_launcher.py:3: DataConversionWarning: A column-vector y was passed when a 1d array was expected. Please change the shape of y to (n_samples,), for example using ravel().\n",
      "  This is separate from the ipykernel package so we can avoid doing imports until\n"
     ]
    },
    {
     "name": "stdout",
     "output_type": "stream",
     "text": [
      "Hour          19.854737\n",
      "humidity      17.010529\n",
      "windspeed     16.815624\n",
      "temp          12.650021\n",
      "atemp         12.563736\n",
      "Month          8.132709\n",
      "weather        4.596314\n",
      "workingday     3.021195\n",
      "season         2.691454\n",
      "Year           2.035223\n",
      "holiday        0.628456\n",
      "dtype: float64\n",
      "0.9807073954983923\n",
      "0.023415977961432508\n"
     ]
    }
   ],
   "source": [
    "from sklearn.ensemble import RandomForestClassifier\n",
    "rf = RandomForestClassifier()\n",
    "rf.fit(df_train_X, df_train_Y)\n",
    "rf_feat = pd.Series(rf.feature_importances_, index=df_train_X.columns)\n",
    "print((rf_feat*100).sort_values(ascending=False))\n",
    "print(rf.score(df_train_X, df_train_Y))\n",
    "print(rf.score(df_test_X, df_test_Y))"
   ]
  },
  {
   "cell_type": "code",
   "execution_count": 34,
   "metadata": {},
   "outputs": [
    {
     "name": "stdout",
     "output_type": "stream",
     "text": [
      "0.859364121605941\n",
      "0.008264462809917356\n"
     ]
    }
   ],
   "source": [
    "# [\"Hour\",\"humidity\",\"windspeed\",\"temp\",\"atemp\",\"Month\",\"weather\",\"workingday\",\"season\",\"Year\",\"holiday\"]\n",
    "rf.fit(df_train_X[[\"humidity\",\"windspeed\",\"temp\",\"atemp\",\"weather\",\"workingday\",\"season\",\"holiday\"]], df_train_Y)\n",
    "print(rf.score(df_train_X[[\"humidity\",\"windspeed\",\"temp\",\"atemp\",\"weather\",\"workingday\",\"season\",\"holiday\"]], df_train_Y))\n",
    "print(rf.score(df_test_X[[\"humidity\",\"windspeed\",\"temp\",\"atemp\",\"weather\",\"workingday\",\"season\",\"holiday\"]], df_test_Y))"
   ]
  },
  {
   "cell_type": "code",
   "execution_count": null,
   "metadata": {},
   "outputs": [],
   "source": []
  }
 ],
 "metadata": {
  "kernelspec": {
   "display_name": "Python 3",
   "language": "python",
   "name": "python3"
  },
  "language_info": {
   "codemirror_mode": {
    "name": "ipython",
    "version": 3
   },
   "file_extension": ".py",
   "mimetype": "text/x-python",
   "name": "python",
   "nbconvert_exporter": "python",
   "pygments_lexer": "ipython3",
   "version": "3.7.3"
  }
 },
 "nbformat": 4,
 "nbformat_minor": 2
}
