{
 "cells": [
  {
   "cell_type": "markdown",
   "metadata": {},
   "source": [
    "# Supporting Calculations and Executions for ML Model of Auto Insurence\n",
    "\n",
    "      PLEASE IGNORE THE AUDIO IN THIS FILE, IT WAS INCLUDED AS AN ALARM WHEN THE CODE EXECUTION IS COMPLETE"
   ]
  },
  {
   "cell_type": "markdown",
   "metadata": {},
   "source": [
    "## Section 1: Import the required Libraries & Read the Data"
   ]
  },
  {
   "cell_type": "code",
   "execution_count": 77,
   "metadata": {},
   "outputs": [],
   "source": [
    "########################################### IMPORT ALL THE REQUIRED LIBRARIES ###########################################\n",
    "import numpy as np\n",
    "import pandas as pd\n",
    "import seaborn as sns\n",
    "import matplotlib.pyplot as plt\n",
    "import datetime\n",
    "%matplotlib inline\n",
    "from sklearn.preprocessing import OneHotEncoder,StandardScaler\n",
    "from sklearn.model_selection import train_test_split, KFold, cross_val_score\n",
    "from sklearn.metrics import mean_squared_error , r2_score, accuracy_score,confusion_matrix, classification_report\n",
    "from sklearn.metrics import roc_curve, roc_auc_score, f1_score, precision_recall_curve\n",
    "from sklearn.ensemble import RandomForestClassifier, AdaBoostClassifier\n",
    "from sklearn import model_selection\n",
    "from sklearn.linear_model import LogisticRegression\n",
    "from sklearn.tree import DecisionTreeClassifier\n",
    "from sklearn.neighbors import KNeighborsClassifier\n",
    "from sklearn.discriminant_analysis import LinearDiscriminantAnalysis\n",
    "from sklearn.naive_bayes import GaussianNB\n",
    "from sklearn.svm import SVC\n",
    "from xgboost import XGBClassifier\n",
    "from xgboost import plot_importance\n",
    "import warnings\n",
    "warnings.simplefilter(action='ignore', category=FutureWarning)\n",
    "from sklearn.neural_network import MLPClassifier\n",
    "from IPython.display import Audio\n",
    "sound_file =\"Neene Modalu.mp3\""
   ]
  },
  {
   "cell_type": "code",
   "execution_count": 2,
   "metadata": {},
   "outputs": [
    {
     "name": "stdout",
     "output_type": "stream",
     "text": [
      "Shape of the Dataset: \n",
      " (595212, 59)\n"
     ]
    },
    {
     "data": {
      "text/html": [
       "<div>\n",
       "<style scoped>\n",
       "    .dataframe tbody tr th:only-of-type {\n",
       "        vertical-align: middle;\n",
       "    }\n",
       "\n",
       "    .dataframe tbody tr th {\n",
       "        vertical-align: top;\n",
       "    }\n",
       "\n",
       "    .dataframe thead th {\n",
       "        text-align: right;\n",
       "    }\n",
       "</style>\n",
       "<table border=\"1\" class=\"dataframe\">\n",
       "  <thead>\n",
       "    <tr style=\"text-align: right;\">\n",
       "      <th></th>\n",
       "      <th>id</th>\n",
       "      <th>target</th>\n",
       "      <th>ps_ind_01</th>\n",
       "      <th>ps_ind_02_cat</th>\n",
       "      <th>ps_ind_03</th>\n",
       "      <th>ps_ind_04_cat</th>\n",
       "      <th>ps_ind_05_cat</th>\n",
       "      <th>ps_ind_06_bin</th>\n",
       "      <th>ps_ind_07_bin</th>\n",
       "      <th>ps_ind_08_bin</th>\n",
       "      <th>...</th>\n",
       "      <th>ps_calc_11</th>\n",
       "      <th>ps_calc_12</th>\n",
       "      <th>ps_calc_13</th>\n",
       "      <th>ps_calc_14</th>\n",
       "      <th>ps_calc_15_bin</th>\n",
       "      <th>ps_calc_16_bin</th>\n",
       "      <th>ps_calc_17_bin</th>\n",
       "      <th>ps_calc_18_bin</th>\n",
       "      <th>ps_calc_19_bin</th>\n",
       "      <th>ps_calc_20_bin</th>\n",
       "    </tr>\n",
       "  </thead>\n",
       "  <tbody>\n",
       "    <tr>\n",
       "      <th>0</th>\n",
       "      <td>7</td>\n",
       "      <td>0</td>\n",
       "      <td>2</td>\n",
       "      <td>2</td>\n",
       "      <td>5</td>\n",
       "      <td>1</td>\n",
       "      <td>0</td>\n",
       "      <td>0</td>\n",
       "      <td>1</td>\n",
       "      <td>0</td>\n",
       "      <td>...</td>\n",
       "      <td>9</td>\n",
       "      <td>1</td>\n",
       "      <td>5</td>\n",
       "      <td>8</td>\n",
       "      <td>0</td>\n",
       "      <td>1</td>\n",
       "      <td>1</td>\n",
       "      <td>0</td>\n",
       "      <td>0</td>\n",
       "      <td>1</td>\n",
       "    </tr>\n",
       "    <tr>\n",
       "      <th>1</th>\n",
       "      <td>9</td>\n",
       "      <td>0</td>\n",
       "      <td>1</td>\n",
       "      <td>1</td>\n",
       "      <td>7</td>\n",
       "      <td>0</td>\n",
       "      <td>0</td>\n",
       "      <td>0</td>\n",
       "      <td>0</td>\n",
       "      <td>1</td>\n",
       "      <td>...</td>\n",
       "      <td>3</td>\n",
       "      <td>1</td>\n",
       "      <td>1</td>\n",
       "      <td>9</td>\n",
       "      <td>0</td>\n",
       "      <td>1</td>\n",
       "      <td>1</td>\n",
       "      <td>0</td>\n",
       "      <td>1</td>\n",
       "      <td>0</td>\n",
       "    </tr>\n",
       "    <tr>\n",
       "      <th>2</th>\n",
       "      <td>13</td>\n",
       "      <td>0</td>\n",
       "      <td>5</td>\n",
       "      <td>4</td>\n",
       "      <td>9</td>\n",
       "      <td>1</td>\n",
       "      <td>0</td>\n",
       "      <td>0</td>\n",
       "      <td>0</td>\n",
       "      <td>1</td>\n",
       "      <td>...</td>\n",
       "      <td>4</td>\n",
       "      <td>2</td>\n",
       "      <td>7</td>\n",
       "      <td>7</td>\n",
       "      <td>0</td>\n",
       "      <td>1</td>\n",
       "      <td>1</td>\n",
       "      <td>0</td>\n",
       "      <td>1</td>\n",
       "      <td>0</td>\n",
       "    </tr>\n",
       "    <tr>\n",
       "      <th>3</th>\n",
       "      <td>16</td>\n",
       "      <td>0</td>\n",
       "      <td>0</td>\n",
       "      <td>1</td>\n",
       "      <td>2</td>\n",
       "      <td>0</td>\n",
       "      <td>0</td>\n",
       "      <td>1</td>\n",
       "      <td>0</td>\n",
       "      <td>0</td>\n",
       "      <td>...</td>\n",
       "      <td>2</td>\n",
       "      <td>2</td>\n",
       "      <td>4</td>\n",
       "      <td>9</td>\n",
       "      <td>0</td>\n",
       "      <td>0</td>\n",
       "      <td>0</td>\n",
       "      <td>0</td>\n",
       "      <td>0</td>\n",
       "      <td>0</td>\n",
       "    </tr>\n",
       "    <tr>\n",
       "      <th>4</th>\n",
       "      <td>17</td>\n",
       "      <td>0</td>\n",
       "      <td>0</td>\n",
       "      <td>2</td>\n",
       "      <td>0</td>\n",
       "      <td>1</td>\n",
       "      <td>0</td>\n",
       "      <td>1</td>\n",
       "      <td>0</td>\n",
       "      <td>0</td>\n",
       "      <td>...</td>\n",
       "      <td>3</td>\n",
       "      <td>1</td>\n",
       "      <td>1</td>\n",
       "      <td>3</td>\n",
       "      <td>0</td>\n",
       "      <td>0</td>\n",
       "      <td>0</td>\n",
       "      <td>1</td>\n",
       "      <td>1</td>\n",
       "      <td>0</td>\n",
       "    </tr>\n",
       "  </tbody>\n",
       "</table>\n",
       "<p>5 rows × 59 columns</p>\n",
       "</div>"
      ],
      "text/plain": [
       "   id  target  ps_ind_01  ps_ind_02_cat  ps_ind_03  ps_ind_04_cat  \\\n",
       "0   7       0          2              2          5              1   \n",
       "1   9       0          1              1          7              0   \n",
       "2  13       0          5              4          9              1   \n",
       "3  16       0          0              1          2              0   \n",
       "4  17       0          0              2          0              1   \n",
       "\n",
       "   ps_ind_05_cat  ps_ind_06_bin  ps_ind_07_bin  ps_ind_08_bin  ...  \\\n",
       "0              0              0              1              0  ...   \n",
       "1              0              0              0              1  ...   \n",
       "2              0              0              0              1  ...   \n",
       "3              0              1              0              0  ...   \n",
       "4              0              1              0              0  ...   \n",
       "\n",
       "   ps_calc_11  ps_calc_12  ps_calc_13  ps_calc_14  ps_calc_15_bin  \\\n",
       "0           9           1           5           8               0   \n",
       "1           3           1           1           9               0   \n",
       "2           4           2           7           7               0   \n",
       "3           2           2           4           9               0   \n",
       "4           3           1           1           3               0   \n",
       "\n",
       "   ps_calc_16_bin  ps_calc_17_bin  ps_calc_18_bin  ps_calc_19_bin  \\\n",
       "0               1               1               0               0   \n",
       "1               1               1               0               1   \n",
       "2               1               1               0               1   \n",
       "3               0               0               0               0   \n",
       "4               0               0               1               1   \n",
       "\n",
       "   ps_calc_20_bin  \n",
       "0               1  \n",
       "1               0  \n",
       "2               0  \n",
       "3               0  \n",
       "4               0  \n",
       "\n",
       "[5 rows x 59 columns]"
      ]
     },
     "execution_count": 2,
     "metadata": {},
     "output_type": "execute_result"
    }
   ],
   "source": [
    "########################################### READ THE DATASET ###########################################\n",
    "df = pd.read_csv(\"train.csv\")\n",
    "print(\"Shape of the Dataset: \\n\",df.shape)\n",
    "df.head()  "
   ]
  },
  {
   "cell_type": "markdown",
   "metadata": {},
   "source": [
    "## Section 2: User defined Functions"
   ]
  },
  {
   "cell_type": "markdown",
   "metadata": {},
   "source": [
    "### Section 2.a: Function to run all the Classification Models"
   ]
  },
  {
   "cell_type": "code",
   "execution_count": 3,
   "metadata": {
    "scrolled": true
   },
   "outputs": [],
   "source": [
    "# Function to evaluate each model \n",
    "def run_models(spread,d_f,seed,Test_size):\n",
    "    #Select and Add the Models\n",
    "    models = []\n",
    "    models.append(('XGBoo ', XGBClassifier()))\n",
    "    models.append(('AdaBoo', AdaBoostClassifier(n_estimators=100, random_state=seed)))\n",
    "    models.append(('LogReg', LogisticRegression(solver='liblinear', multi_class='ovr')))\n",
    "    models.append(('LDA   ', LinearDiscriminantAnalysis()))\n",
    "    models.append(('KNearN', KNeighborsClassifier()))\n",
    "    models.append(('CART  ', DecisionTreeClassifier()))\n",
    "    models.append(('NaiveB', GaussianNB()))\n",
    "    models.append(('SupVec', SVC(gamma='auto', probability=True)))\n",
    "    models.append(('RandFo', RandomForestClassifier(n_estimators=100)))\n",
    "    \n",
    "    #Seperate out Features & Target\n",
    "    Y = d_f[\"target\"]\n",
    "    d_f = d_f.drop(\"target\",axis =1)\n",
    "    \n",
    "    #Split Data into Test & Train\n",
    "    X_train, X_validation, Y_train, Y_validation = model_selection.train_test_split(d_f, Y, test_size=Test_size,random_state=seed)\n",
    "    Res_final =pd.DataFrame()\n",
    "    for r in spread: # Select the Category of the Data Seperately\n",
    "        results = []\n",
    "        names = []\n",
    "        F1_Scores =[]\n",
    "        Auc_Scores =[]\n",
    "        Train_Scores =[]\n",
    "        Test_Scores =[]\n",
    "        Precision_Scores_0=[]\n",
    "        Precision_Scores_1=[]\n",
    "        Recall_Scores_1 =[]\n",
    "        Recall_Scores_0 =[]\n",
    "        #print(\"=========================================================\")\n",
    "        #print(\"Scores for \"+str(r)+\" Variables: \")\n",
    "        #print(\"=========================================================\")\n",
    "        q = spread[r]\n",
    "        X_train1 = X_train.iloc[:,q[0]:q[-1]]\n",
    "        X_validation1 = X_validation.iloc[:,q[0]:q[-1]]\n",
    "        Y_train1 = Y_train\n",
    "        Y_validation1 = Y_validation\n",
    "        for name, model in models: # Run The Models with Selected Data Category\n",
    "            #print(\"--------------------------------\")\n",
    "            m = model\n",
    "            m.fit(X_train1, Y_train1)\n",
    "            Trn_scr = np.round((m.score(X_train1, Y_train1)*100),2)\n",
    "            #msg = \"Train Score for :\"+\"%s: %.2f \" % (name,Trn_scr)\n",
    "            #print(msg)\n",
    "            Train_Scores.append(Trn_scr)\n",
    "\n",
    "            predictions = m.predict(X_validation1)\n",
    "            Tst_scr = np.round((accuracy_score(Y_validation1, predictions)*100),2)\n",
    "            #msg = \"Test Score for  :\"+\"%s: %.2f\" % (name, Tst_scr)\n",
    "            #print(msg)\n",
    "            Test_Scores.append(Tst_scr)\n",
    "\n",
    "            conf_mat = confusion_matrix(Y_validation1, predictions)\n",
    "            #print(\"Confusion Matrix: \\n\",conf_mat)\n",
    "            \n",
    "            CL_R = classification_report(Y_validation1, predictions)\n",
    "\n",
    "            #print(\"F1 Score : \", np.round(F1,2))\n",
    "\n",
    "            probs = m.predict_proba(X_validation1)\n",
    "            \n",
    "            # keep probabilities for the positive outcome only\n",
    "            probs = probs[:, 1]\n",
    "            # calculate scores\n",
    "            auc = roc_auc_score(Y_validation1, probs)\n",
    "            Auc_Scores.append(np.round(auc,2))\n",
    "            #print(\"AUC Score: \",np.round(auc,2))\n",
    "\n",
    "            tn = conf_mat[0][0]\n",
    "            fp = conf_mat[0][1]\n",
    "            fn = conf_mat[1][0]\n",
    "            tp = conf_mat[1][1]\n",
    "\n",
    "            precision_0 = np.round((tn/(tn+fn)),2)\n",
    "            precision_1 = np.round((tp/(fp+tp)),2)                        \n",
    "            recall_0 = np.round((tn/(tn+fp)),2)\n",
    "            recall_1 = np.round((tp/(fn+tp)),2)\n",
    "            \n",
    "            F1 = 2*((precision_1*recall_1)/(precision_1+recall_1))\n",
    "            F1_Scores.append(np.round(F1,2))\n",
    "            \n",
    "            Precision_Scores_0.append(precision_0) \n",
    "            Precision_Scores_1.append(precision_1)\n",
    "            Recall_Scores_0.append(recall_0)\n",
    "            Recall_Scores_1.append(recall_1)\n",
    "        \n",
    "        # summarize scores for selected Category for all the Models\n",
    "        #print(\"####################### \",str(r),\" Summary #######################\")\n",
    "        Res_Intmdt = pd.DataFrame()\n",
    "        Res_Intmdt[\"Model\"] = pd.DataFrame(models).iloc[:,0]\n",
    "        Res_Intmdt[\"Var\"] = str(r)\n",
    "        Res_Intmdt[\"Train\"] = pd.DataFrame(Train_Scores)\n",
    "        Res_Intmdt[\"Test\"] = pd.DataFrame(Test_Scores)\n",
    "        Res_Intmdt[\"Pre0\"] = pd.DataFrame(Precision_Scores_0)\n",
    "        Res_Intmdt[\"Pre1\"] = pd.DataFrame(Precision_Scores_1)\n",
    "        Res_Intmdt[\"Rec0\"] = pd.DataFrame(Recall_Scores_0)\n",
    "        Res_Intmdt[\"Rec1\"] = pd.DataFrame(Recall_Scores_1)\n",
    "        Res_Intmdt[\"F1\"] = pd.DataFrame(F1_Scores)\n",
    "        Res_Intmdt[\"AUC\"] = pd.DataFrame(Auc_Scores)\n",
    "        #print(Res_Intmdt)\n",
    "        #print(\"####################### End of Summary #######################\")\n",
    "        \n",
    "        # summarize scores for the Categories for all the Models\n",
    "        Res_final=pd.concat([Res_final,Res_Intmdt], axis=0)\n",
    "        #print(\"=========================================================\")\n",
    "    #print(\"\")\n",
    "    #print(\"################################## Final Summary ##################################\")\n",
    "    #print(Res_final)\n",
    "    #print(\"################################## End of Summary ##################################\")\n",
    "    return conf_mat, CL_R, Res_final"
   ]
  },
  {
   "cell_type": "markdown",
   "metadata": {},
   "source": [
    "### Section 2.b: Function to run Random Forest Model"
   ]
  },
  {
   "cell_type": "code",
   "execution_count": 40,
   "metadata": {},
   "outputs": [],
   "source": [
    "def run_RF(X_tr, X_val, Y_tr,Y_val, var1):\n",
    "    m = RandomForestClassifier(n_estimators=600)\n",
    "    m.fit(X_tr, Y_tr)\n",
    "    Trn_scr = np.round((m.score(X_tr, Y_tr)*100),2)\n",
    "    #msg = \"Train Score for :\"+\"%.2f \" % (Trn_scr)\n",
    "\n",
    "    predictions = m.predict(X_val)\n",
    "    Tst_scr = np.round((accuracy_score(Y_val, predictions)*100),2)\n",
    "    #msg = \"Test Score for  :\"+\"%.2f\" % (Tst_scr)\n",
    "    #print(msg)\n",
    "\n",
    "    conf_mat = confusion_matrix(Y_val, predictions)\n",
    "    #print(\"Confusion Matrix: \\n\",conf_mat)\n",
    "    \n",
    "    CL_R = classification_report(Y_val, predictions)\n",
    "\n",
    "    #F1 = np.round(f1_score(Y_val, predictions),2)\n",
    "    #print(\"F1 Score : \", np.round(F1,2))\n",
    "\n",
    "    probs = m.predict_proba(X_val)\n",
    "    # keep probabilities for the positive outcome only\n",
    "    probs = probs[:, 1]\n",
    "    # calculate scores\n",
    "    auc = np.round(roc_auc_score(Y_val, probs),2)\n",
    "    # summarize scores\n",
    "    #print(\"AUC Score: \",np.round(auc,2))\n",
    "\n",
    "    tn = conf_mat[0][0]\n",
    "    fp = conf_mat[0][1]\n",
    "    fn = conf_mat[1][0]\n",
    "    tp = conf_mat[1][1]\n",
    "\n",
    "    precision_0 = np.round((tn/(tn+fn)),2)\n",
    "    precision_1 = np.round((tp/(fp+tp)),2)                        \n",
    "    recall_0 = np.round((tn/(tn+fp)),2)\n",
    "    recall_1 = np.round((tp/(fn+tp)),2)\n",
    "            \n",
    "    F1 = 2*((precision_1*recall_1)/(precision_1+recall_1))\n",
    "    \n",
    "\n",
    "    Res_Intmdt1 = pd.DataFrame()\n",
    "    Res_Intmdt1[\"Model\"] = [\"RandFo\"]\n",
    "    Res_Intmdt1[\"Var\"] = [str(var1)]\n",
    "    Res_Intmdt1[\"Train\"] = [np.round(Trn_scr,2)]\n",
    "    Res_Intmdt1[\"Test\"] = [np.round(Tst_scr,2)]\n",
    "    Res_Intmdt1[\"Pre0\"] = [np.round(precision_0,2)]\n",
    "    Res_Intmdt1[\"Pre1\"] = [np.round(precision_1,2)]\n",
    "    Res_Intmdt1[\"Rec0\"] = [np.round(recall_0,2)]\n",
    "    Res_Intmdt1[\"Rec1\"] = [np.round(recall_1,2)]\n",
    "    Res_Intmdt1[\"F1\"] = [np.round(F1,2)]\n",
    "    Res_Intmdt1[\"AUC\"] = [np.round(auc,2)]\n",
    "    return conf_mat, CL_R, Res_Intmdt1"
   ]
  },
  {
   "cell_type": "markdown",
   "metadata": {},
   "source": [
    "### Section 2.c: Function to Generate the Sequence of reducing 2/3 s"
   ]
  },
  {
   "cell_type": "code",
   "execution_count": 5,
   "metadata": {},
   "outputs": [],
   "source": [
    "def two_third(n):\n",
    "    n1 = np.round(n*(2/3),0)   \n",
    "    t_3n.append(int(n1))\n",
    "    if n1!=1:\n",
    "        two_third(n1)         \n",
    "    return t_3n"
   ]
  },
  {
   "cell_type": "markdown",
   "metadata": {},
   "source": [
    "### Section 2.d: Function to run MLP for various architectures and iterations"
   ]
  },
  {
   "cell_type": "code",
   "execution_count": 175,
   "metadata": {},
   "outputs": [],
   "source": [
    "def run_mlp(hid_architecture, epochs,X,Y, nn=False):\n",
    "    X_train, X_validation, Y_train, Y_validation = model_selection.train_test_split(X, Y, test_size=0.3,random_state=7)\n",
    "    Res_final =pd.DataFrame()\n",
    "    ln1 = len(epochs)\n",
    "    for h in hid_architecture:\n",
    "        F1_Scores =[]\n",
    "        Auc_Scores =[]\n",
    "        Train_Scores =[]\n",
    "        Test_Scores =[]\n",
    "        Loss_Scores =[]\n",
    "        Precision_Scores_0=[]\n",
    "        Precision_Scores_1=[]\n",
    "        Recall_Scores_1 =[]\n",
    "        Recall_Scores_0 =[]\n",
    "        for e in epochs:\n",
    "            MLCP = MLPClassifier(hidden_layer_sizes=h, max_iter=e, alpha=1e-4,\n",
    "                                solver='adam', tol=1e-4, random_state=7,\n",
    "                                learning_rate_init=0.1, activation ='relu')\n",
    "\n",
    "            MLCP.fit(X, Y)\n",
    "\n",
    "            predictions = MLCP.predict(X_validation)\n",
    "            #prob_results = MLCP.predict_proba(X_validation)\n",
    "\n",
    "            Trn_scr = np.round(MLCP.score(X_train, Y_train)*100,2)\n",
    "            Tst_scr = np.round((accuracy_score(Y_validation, predictions)*100),2)\n",
    "            \n",
    "            Train_Scores.append(np.round(Trn_scr,2))\n",
    "            Test_Scores.append(np.round(Tst_scr,2))\n",
    "\n",
    "            conf_mat = confusion_matrix(Y_validation,predictions)\n",
    "            CL_R = classification_report(Y_validation,predictions)\n",
    "            \n",
    "            Loss_Scores.append(np.round(MLCP.loss_curve_[-1],2))\n",
    "\n",
    "            probs = MLCP.predict_proba(X_validation)\n",
    "            # keep probabilities for the positive outcome only\n",
    "            probs = probs[:, 1]\n",
    "            # calculate scores\n",
    "            auc = roc_auc_score(Y_validation, probs)\n",
    "            Auc_Scores.append(np.round(auc,2))\n",
    "            # summarize scores\n",
    "            #print(\"AUC Score: \",np.round(auc,2))\n",
    "\n",
    "            tn = conf_mat[0][0]\n",
    "            fp = conf_mat[0][1]\n",
    "            fn = conf_mat[1][0]\n",
    "            tp = conf_mat[1][1]\n",
    "\n",
    "            precision_0 = np.round((tn/(tn+fn)),2)\n",
    "            precision_1 = np.round((tp/(fp+tp)),2)                        \n",
    "            recall_0 = np.round((tn/(tn+fp)),2)\n",
    "            recall_1 = np.round((tp/(fn+tp)),2)\n",
    "            \n",
    "            F1 = 2*((precision_1*recall_1)/(precision_1+recall_1))\n",
    "            F1_Scores.append(np.round(F1,2))\n",
    "\n",
    "            Precision_Scores_0.append(precision_0) \n",
    "            Precision_Scores_1.append(precision_1)\n",
    "            Recall_Scores_0.append(recall_0)\n",
    "            Recall_Scores_1.append(recall_1)\n",
    "\n",
    "        #print(\"####################### \",str(r),\" Summary #######################\")\n",
    "        Res_Intmdt = pd.DataFrame()\n",
    "        #\n",
    "        if nn == True:\n",
    "            w = int(np.sum(h))\n",
    "            Res_Intmdt[\"Arch\"] = [w]*len(epochs)\n",
    "        else:\n",
    "            w = [str(1)+\":\"+str(len(h))+\":\"+str(1)]*ln1\n",
    "            Res_Intmdt[\"Arch\"] = w\n",
    "        \n",
    "        Res_Intmdt[\"Epoch\"] = epochs\n",
    "        Res_Intmdt[\"Train\"] = pd.DataFrame(Train_Scores)\n",
    "        Res_Intmdt[\"Test\"] = pd.DataFrame(Test_Scores)\n",
    "        Res_Intmdt[\"Loss\"] = pd.DataFrame(Loss_Scores)\n",
    "        Res_Intmdt[\"Pre0\"] = pd.DataFrame(Precision_Scores_0)\n",
    "        Res_Intmdt[\"Pre1\"] = pd.DataFrame(Precision_Scores_1)\n",
    "        Res_Intmdt[\"Rec0\"] = pd.DataFrame(Recall_Scores_0)\n",
    "        Res_Intmdt[\"Rec1\"] = pd.DataFrame(Recall_Scores_1)\n",
    "        Res_Intmdt[\"F1\"] = pd.DataFrame(F1_Scores)\n",
    "        Res_Intmdt[\"AUC\"] = pd.DataFrame(Auc_Scores)\n",
    "        #print(Res_Intmdt)\n",
    "            #print(\"####################### End of Summary #######################\")\n",
    "        Res_final=pd.concat([Res_final,Res_Intmdt], axis=0)\n",
    "        #print(\"=========================================================\")\n",
    "        #print(\"\")\n",
    "    #print(\"####################################### Final Summary #######################################\")\n",
    "    #print(Res_final)\n",
    "    #print(\"####################################### End of Summary #######################################\")\n",
    "    return conf_mat, CL_R, Res_final"
   ]
  },
  {
   "cell_type": "markdown",
   "metadata": {},
   "source": [
    "## Section 3: Data Preprocessing/Transformation"
   ]
  },
  {
   "cell_type": "markdown",
   "metadata": {},
   "source": [
    "### Section 3.1: Classify the Features according to their as is Categories, Over Sample the Data & Select 100K data "
   ]
  },
  {
   "cell_type": "code",
   "execution_count": 7,
   "metadata": {},
   "outputs": [],
   "source": [
    "#Classify the Features according to their as is Categories\n",
    "df_bin = df[[\"ps_calc_17_bin\",\"ps_calc_16_bin\",\"ps_calc_19_bin\",\"ps_calc_18_bin\",\"ps_ind_06_bin\",\"ps_ind_17_bin\",\"ps_ind_16_bin\",\"ps_ind_07_bin\",\"ps_calc_20_bin\",\"ps_calc_15_bin\",\"ps_ind_09_bin\",\"ps_ind_08_bin\",\"ps_ind_18_bin\",\"ps_ind_12_bin\",\"ps_ind_11_bin\",\"ps_ind_13_bin\",\"ps_ind_10_bin\"]]\n",
    "df_cat = df[[\"ps_car_11_cat\",\"ps_car_06_cat\",\"ps_car_01_cat\",\"ps_ind_05_cat\",\"ps_car_09_cat\",\"ps_car_05_cat\",\"ps_ind_02_cat\",\"ps_car_03_cat\",\"ps_ind_04_cat\",\"ps_car_04_cat\",\"ps_car_07_cat\",\"ps_car_02_cat\",\"ps_car_08_cat\",\"ps_car_10_cat\"]]\n",
    "df_ind = df[[\"ps_ind_15\",\"ps_ind_03\",\"ps_ind_01\",\"ps_ind_14\"]]\n",
    "df_car =df[[\"ps_car_13\",\"ps_car_14\",\"ps_car_15\",\"ps_car_12\",\"ps_car_11\"]]\n",
    "df_calc =df[[\"ps_calc_10\",\"ps_calc_14\",\"ps_calc_11\",\"ps_calc_01\",\"ps_calc_03\",\"ps_calc_02\",\"ps_calc_13\",\"ps_calc_08\",\"ps_calc_07\",\"ps_calc_06\",\"ps_calc_09\",\"ps_calc_12\",\"ps_calc_04\",\"ps_calc_05\"]]\n",
    "df_reg = df[[\"ps_reg_03\",\"ps_reg_02\",\"ps_reg_01\"]]\n",
    "\n",
    "df1= pd.concat([df_bin, df_cat,df_ind,df_car,df_calc,df_reg], axis=1)\n",
    "df1[\"target\"] = df[\"target\"]"
   ]
  },
  {
   "cell_type": "markdown",
   "metadata": {},
   "source": [
    "#### Oversample the data and Select 100K records"
   ]
  },
  {
   "cell_type": "code",
   "execution_count": 8,
   "metadata": {},
   "outputs": [],
   "source": [
    "#Over Sample the Data & Select 100K\n",
    "count_class_0, count_class_1 = df1.target.value_counts()\n",
    "df_class_0 = df1[df1[\"target\"]== 0]\n",
    "df_class_1 = df1[df1[\"target\"]== 1]\n",
    "df_class_1_over = df_class_1.sample(count_class_0, replace=True)\n",
    "df_over = pd.concat([df_class_0, df_class_1_over], axis=0)\n",
    "df_class_0 = df_over[df_over[\"target\"]== 0]\n",
    "df_class_1 = df_over[df_over[\"target\"]== 1]\n",
    "df_final = pd.concat([df_class_0.sample(50000, replace=True), df_class_1.sample(50000, replace=True)], axis=0)\n",
    "df_final1 = df_final.copy(deep=True)"
   ]
  },
  {
   "cell_type": "markdown",
   "metadata": {},
   "source": [
    "#### Complete Raw Dataset"
   ]
  },
  {
   "cell_type": "code",
   "execution_count": 9,
   "metadata": {},
   "outputs": [],
   "source": [
    "d_fF = df_final.copy(deep=True)\n",
    "YF = d_fF[\"target\"]\n",
    "d_fF = d_fF.drop(\"target\",axis =1)\n",
    "X_trainF, X_validationF, Y_trainF, Y_validationF = model_selection.train_test_split(d_fF, YF, test_size=0.3,random_state=7)"
   ]
  },
  {
   "cell_type": "markdown",
   "metadata": {},
   "source": [
    "#### DataSet Without Binary Variables"
   ]
  },
  {
   "cell_type": "code",
   "execution_count": 10,
   "metadata": {},
   "outputs": [],
   "source": [
    "X_train2 = X_trainF.drop([\"ps_calc_17_bin\",\"ps_calc_16_bin\",\"ps_calc_19_bin\",\"ps_calc_18_bin\",\"ps_ind_06_bin\",\"ps_ind_17_bin\",\"ps_ind_16_bin\",\"ps_ind_07_bin\",\"ps_calc_20_bin\",\"ps_calc_15_bin\",\"ps_ind_09_bin\",\"ps_ind_08_bin\",\"ps_ind_18_bin\",\"ps_ind_12_bin\",\"ps_ind_11_bin\",\"ps_ind_13_bin\",\"ps_ind_10_bin\",\"ps_ind_15\",\"ps_ind_03\",\"ps_ind_01\",\"ps_ind_14\"], axis=1)\n",
    "X_validation2 = X_validationF.drop([\"ps_calc_17_bin\",\"ps_calc_16_bin\",\"ps_calc_19_bin\",\"ps_calc_18_bin\",\"ps_ind_06_bin\",\"ps_ind_17_bin\",\"ps_ind_16_bin\",\"ps_ind_07_bin\",\"ps_calc_20_bin\",\"ps_calc_15_bin\",\"ps_ind_09_bin\",\"ps_ind_08_bin\",\"ps_ind_18_bin\",\"ps_ind_12_bin\",\"ps_ind_11_bin\",\"ps_ind_13_bin\",\"ps_ind_10_bin\",\"ps_ind_15\",\"ps_ind_03\",\"ps_ind_01\",\"ps_ind_14\"], axis=1)\n",
    "Y_train2 = Y_trainF\n",
    "Y_validation2 = Y_validationF\n"
   ]
  },
  {
   "cell_type": "markdown",
   "metadata": {},
   "source": [
    "#### DataSet Without Binary & Reg Variables"
   ]
  },
  {
   "cell_type": "code",
   "execution_count": 11,
   "metadata": {},
   "outputs": [],
   "source": [
    "X_train3 = X_train2.drop([\"ps_reg_03\",\"ps_reg_02\",\"ps_reg_01\"],axis=1)\n",
    "X_validation3 = X_validation2.drop([\"ps_reg_03\",\"ps_reg_02\",\"ps_reg_01\"],axis=1)"
   ]
  },
  {
   "cell_type": "markdown",
   "metadata": {},
   "source": [
    "#### DataSet Without Binary, Cat & Reg Variables"
   ]
  },
  {
   "cell_type": "code",
   "execution_count": 12,
   "metadata": {},
   "outputs": [],
   "source": [
    "X_train4 = X_train3.drop([\"ps_car_11_cat\",\"ps_car_06_cat\",\"ps_car_01_cat\",\"ps_ind_05_cat\",\"ps_car_09_cat\",\"ps_car_05_cat\",\"ps_ind_02_cat\",\"ps_car_03_cat\",\"ps_ind_04_cat\",\"ps_car_04_cat\",\"ps_car_07_cat\",\"ps_car_02_cat\",\"ps_car_08_cat\",\"ps_car_10_cat\"],axis=1)\n",
    "X_validation4 = X_validation3.drop([\"ps_car_11_cat\",\"ps_car_06_cat\",\"ps_car_01_cat\",\"ps_ind_05_cat\",\"ps_car_09_cat\",\"ps_car_05_cat\",\"ps_ind_02_cat\",\"ps_car_03_cat\",\"ps_ind_04_cat\",\"ps_car_04_cat\",\"ps_car_07_cat\",\"ps_car_02_cat\",\"ps_car_08_cat\",\"ps_car_10_cat\"],axis=1)"
   ]
  },
  {
   "cell_type": "markdown",
   "metadata": {},
   "source": [
    "#### DataSet Without Binary, Cat, Car & Reg Variables"
   ]
  },
  {
   "cell_type": "code",
   "execution_count": 13,
   "metadata": {},
   "outputs": [],
   "source": [
    "X_train5 = X_train4.drop([\"ps_car_13\",\"ps_car_14\",\"ps_car_15\",\"ps_car_12\",\"ps_car_11\"],axis=1)\n",
    "X_validation5 = X_validation4.drop([\"ps_car_13\",\"ps_car_14\",\"ps_car_15\",\"ps_car_12\",\"ps_car_11\"],axis=1)"
   ]
  },
  {
   "cell_type": "markdown",
   "metadata": {},
   "source": [
    "#### DataSet Without Binary, Cat, Car, Calc & Reg Variables"
   ]
  },
  {
   "cell_type": "code",
   "execution_count": 14,
   "metadata": {},
   "outputs": [],
   "source": [
    "X_train6 = X_train4.drop([\"ps_calc_05\",\"ps_calc_04\",\"ps_calc_12\"],axis=1)\n",
    "X_validation6 = X_validation4.drop([\"ps_calc_05\",\"ps_calc_04\",\"ps_calc_12\"],axis=1)"
   ]
  },
  {
   "cell_type": "markdown",
   "metadata": {},
   "source": [
    "#### Raw Data With only Calc and Cat Variables"
   ]
  },
  {
   "cell_type": "code",
   "execution_count": 15,
   "metadata": {},
   "outputs": [],
   "source": [
    "X_train7 = X_train3.drop([\"ps_car_13\",\"ps_car_14\",\"ps_car_15\",\"ps_car_12\",\"ps_car_11\"],axis=1)\n",
    "X_validation7 = X_validation3.drop([\"ps_car_13\",\"ps_car_14\",\"ps_car_15\",\"ps_car_12\",\"ps_car_11\"],axis=1)"
   ]
  },
  {
   "cell_type": "markdown",
   "metadata": {},
   "source": [
    "#### Complete Preprocessed Data"
   ]
  },
  {
   "cell_type": "code",
   "execution_count": 16,
   "metadata": {},
   "outputs": [],
   "source": [
    "#Fill Missing Values with Column Mean\n",
    "df_final2 = df_final.copy(deep=True)\n",
    "df_final2 = df_final2.reset_index(drop=True)\n",
    "for a in df_final2.columns:\n",
    "    df_final2[a] = df_final2[a].replace(-1,df_final2[a].mean())\n",
    "    \n",
    "#Normalize the data with column mean\n",
    "df_norm =((df_final2-df_final2.min())/(df_final2.max()-df_final2.min()))\n",
    "df_norm =pd.DataFrame(df_norm)"
   ]
  },
  {
   "cell_type": "code",
   "execution_count": 17,
   "metadata": {},
   "outputs": [],
   "source": [
    "#Hot Encode Categorical features\n",
    "df_norm_Ex_cat = df_norm.drop(list(df_cat.columns),axis=1)\n",
    "Tar = df_norm_Ex_cat[\"target\"]\n",
    "df_norm_Ex_cat= df_norm_Ex_cat.drop(\"target\", axis=1)\n",
    "\n",
    "df_cat_encoded = pd.DataFrame()\n",
    "onehotencoder = OneHotEncoder(categories='auto',sparse = False) \n",
    "data = onehotencoder.fit_transform(df_final2[list(df_cat.columns)])\n",
    "df_cat_encoded = pd.DataFrame(data)\n",
    "\n",
    "#Prepare final preprocessed/transformed Dataset\n",
    "df_norm_hot_en = pd.concat([df_norm_Ex_cat,df_cat_encoded, Tar],axis=1)\n",
    "X_in = df_norm_hot_en.drop(\"target\",axis=1)\n",
    "X_train9, X_validation9, Y_train9, Y_validation9 = model_selection.train_test_split(X_in, Tar, test_size=0.3,random_state=7)"
   ]
  },
  {
   "cell_type": "markdown",
   "metadata": {},
   "source": [
    "#### Processed Data with only Cat and Calc features"
   ]
  },
  {
   "cell_type": "code",
   "execution_count": 18,
   "metadata": {},
   "outputs": [],
   "source": [
    "df_final3 = df_final.copy(deep=True)\n",
    "df_final3 = df_final3.drop(list(df_bin.columns),axis=1)\n",
    "df_final3 = df_final3.drop(list(df_ind.columns),axis=1)\n",
    "df_final3 = df_final3.drop(list(df_car.columns),axis=1)\n",
    "df_final3 = df_final3.drop(list(df_reg.columns),axis=1)\n",
    "df_final3 = df_final3.reset_index(drop=True)\n",
    "for a in df_final3.columns:\n",
    "    df_final3[a] = df_final3[a].replace(-1,df_final3[a].mean())\n",
    "df_norm1 =((df_final3-df_final3.min())/(df_final3.max()-df_final3.min()))\n",
    "df_norm1 =pd.DataFrame(df_norm)\n",
    "\n",
    "df_norm_Ex_cat1 = df_norm1.drop(list(df_cat.columns),axis=1)\n",
    "Tar1 = df_norm_Ex_cat1[\"target\"]\n",
    "df_norm_Ex_cat1= df_norm_Ex_cat1.drop(\"target\", axis=1)\n",
    "\n",
    "df_cat_encoded1 = pd.DataFrame()\n",
    "onehotencoder = OneHotEncoder(categories='auto',sparse = False) \n",
    "data1 = onehotencoder.fit_transform(df_final3[list(df_cat.columns)])\n",
    "df_cat_encoded1 = pd.DataFrame(data1)\n",
    "df_norm_hot_en1 = pd.concat([df_norm_Ex_cat1,df_cat_encoded1, Tar],axis=1)\n",
    "\n",
    "X_train8, X_validation8, Y_train8, Y_validation8 = model_selection.train_test_split(df_norm_hot_en1, Tar1, test_size=0.3,random_state=7)"
   ]
  },
  {
   "cell_type": "markdown",
   "metadata": {},
   "source": [
    "### Section 3.2: Feature Selection"
   ]
  },
  {
   "cell_type": "markdown",
   "metadata": {},
   "source": [
    "#### Low Variance Filter:"
   ]
  },
  {
   "cell_type": "code",
   "execution_count": 19,
   "metadata": {},
   "outputs": [],
   "source": [
    "d_fF_norm = ((d_fF-d_fF.min())/(d_fF.max()-d_fF.min()))\n",
    "LV = np.round(d_fF_norm.var(),4).sort_values(ascending =True)\n",
    "LV1 = LV[LV<0.05]\n",
    "LV2 = LV1.index.to_list()\n",
    "d_fF_norm_LVar = d_fF_norm.drop(LV2,axis=1)"
   ]
  },
  {
   "cell_type": "markdown",
   "metadata": {},
   "source": [
    "#### High correlation Filter"
   ]
  },
  {
   "cell_type": "code",
   "execution_count": 20,
   "metadata": {},
   "outputs": [
    {
     "data": {
      "image/png": "[encoded data removed]",
      "text/plain": [
       "<Figure size 2160x2160 with 2 Axes>"
      ]
     },
     "metadata": {},
     "output_type": "display_data"
    }
   ],
   "source": [
    "corrmat1 = d_fF_norm_LVar.corr()\n",
    "k = d_fF_norm_LVar.shape[1] #number of variables for heatmap\n",
    "cols = corrmat1.nlargest(k, \"ps_calc_17_bin\")['ps_calc_17_bin'].index\n",
    "cm = np.corrcoef(d_fF_norm_LVar[cols].values.T)\n",
    "sns.set(font_scale=1.25)\n",
    "plt.figure(figsize=(30,30))\n",
    "hm = sns.heatmap(cm, cbar=True, annot=True, square=True, fmt='.2f', \n",
    "                 annot_kws={'size': 10}, yticklabels=cols.values, xticklabels=cols.values,)\n",
    "plt.show()"
   ]
  },
  {
   "cell_type": "code",
   "execution_count": 21,
   "metadata": {},
   "outputs": [
    {
     "name": "stdout",
     "output_type": "stream",
     "text": [
      "Below Variables show, strong correlation\n",
      "ps_car_03_cat  ps_car_05_cat    0.496874\n",
      "ps_reg_02      ps_reg_01        0.464776\n",
      "ps_ind_15      ps_ind_16_bin    0.303582\n",
      "ps_ind_04_cat  ps_ind_07_bin    0.297740\n",
      "ps_ind_03      ps_ind_01        0.226066\n",
      "ps_car_05_cat  ps_ind_01        0.225003\n",
      "ps_car_04_cat  ps_ind_07_bin    0.224710\n",
      "               ps_car_06_cat    0.216243\n",
      "ps_ind_01      ps_ind_08_bin    0.201107\n",
      "dtype: float64\n"
     ]
    }
   ],
   "source": [
    "cort = corrmat1[corrmat1>0.2]\n",
    "s = corrmat1.unstack()\n",
    "so = s.sort_values(ascending =False)\n",
    "so = so[so>=0.2] \n",
    "so = so[so<1]\n",
    "so = so.iloc[::2]\n",
    "print(\"Below Variables show, strong correlation\")\n",
    "print(so)"
   ]
  },
  {
   "cell_type": "code",
   "execution_count": 22,
   "metadata": {},
   "outputs": [],
   "source": [
    "HCor = []\n",
    "for i in range(len(so)):\n",
    "    HCor.append(so.index[i][0])\n",
    "d_fF_norm_LVar_HCor = d_fF_norm_LVar.drop(HCor,axis=1)"
   ]
  },
  {
   "cell_type": "markdown",
   "metadata": {},
   "source": [
    "#### Random Forest Feature Importance"
   ]
  },
  {
   "cell_type": "code",
   "execution_count": 23,
   "metadata": {},
   "outputs": [
    {
     "name": "stdout",
     "output_type": "stream",
     "text": [
      "ps_car_14         0.136415\n",
      "ps_calc_01        0.111028\n",
      "ps_calc_03        0.109491\n",
      "ps_calc_02        0.109426\n",
      "ps_car_11_cat     0.106629\n",
      "ps_reg_01         0.082934\n",
      "ps_car_06_cat     0.072897\n",
      "ps_car_11         0.037034\n",
      "ps_calc_17_bin    0.030066\n",
      "ps_calc_16_bin    0.029158\n",
      "ps_calc_19_bin    0.028484\n",
      "ps_calc_18_bin    0.027143\n",
      "ps_calc_20_bin    0.020744\n",
      "ps_calc_15_bin    0.018517\n",
      "ps_car_08_cat     0.012903\n",
      "ps_ind_16_bin     0.011419\n",
      "ps_car_02_cat     0.010629\n",
      "ps_ind_18_bin     0.009222\n",
      "ps_ind_17_bin     0.007958\n",
      "ps_ind_06_bin     0.007822\n",
      "ps_ind_07_bin     0.007290\n",
      "ps_ind_08_bin     0.006476\n",
      "ps_ind_09_bin     0.006314\n",
      "dtype: float64\n"
     ]
    }
   ],
   "source": [
    "m = RandomForestClassifier(n_estimators=500)\n",
    "m.fit(d_fF_norm_LVar_HCor, YF).score(d_fF_norm_LVar_HCor, YF)\n",
    "feature_imp = pd.Series(m.feature_importances_,index=list(d_fF_norm_LVar_HCor.columns)).sort_values(ascending=False)\n",
    "print(feature_imp)"
   ]
  },
  {
   "cell_type": "code",
   "execution_count": 24,
   "metadata": {},
   "outputs": [],
   "source": [
    "RF1 = feature_imp[feature_imp.cumsum()<0.91]\n",
    "d_fF_norm_LVar_HCor_RF = d_fF_norm_LVar_HCor.drop(RF1.index.tolist(),axis=1)\n",
    "for a in d_fF_norm_LVar_HCor_RF.columns:\n",
    "    d_fF_norm_LVar_HCor_RF[a]=d_fF_norm_LVar_HCor_RF[a].replace(-1,d_fF_norm_LVar_HCor_RF[a].mean() )"
   ]
  },
  {
   "cell_type": "markdown",
   "metadata": {},
   "source": [
    "#### Principal Component Analysis"
   ]
  },
  {
   "cell_type": "code",
   "execution_count": 25,
   "metadata": {},
   "outputs": [
    {
     "data": {
      "text/html": [
       "<div>\n",
       "<style scoped>\n",
       "    .dataframe tbody tr th:only-of-type {\n",
       "        vertical-align: middle;\n",
       "    }\n",
       "\n",
       "    .dataframe tbody tr th {\n",
       "        vertical-align: top;\n",
       "    }\n",
       "\n",
       "    .dataframe thead th {\n",
       "        text-align: right;\n",
       "    }\n",
       "</style>\n",
       "<table border=\"1\" class=\"dataframe\">\n",
       "  <thead>\n",
       "    <tr style=\"text-align: right;\">\n",
       "      <th></th>\n",
       "      <th>ps_calc_17_bin</th>\n",
       "      <th>ps_calc_16_bin</th>\n",
       "      <th>ps_calc_19_bin</th>\n",
       "      <th>ps_calc_18_bin</th>\n",
       "      <th>ps_ind_06_bin</th>\n",
       "      <th>ps_ind_17_bin</th>\n",
       "      <th>ps_ind_16_bin</th>\n",
       "      <th>ps_ind_07_bin</th>\n",
       "      <th>ps_calc_20_bin</th>\n",
       "      <th>ps_calc_15_bin</th>\n",
       "      <th>...</th>\n",
       "      <th>ps_calc_08</th>\n",
       "      <th>ps_calc_07</th>\n",
       "      <th>ps_calc_06</th>\n",
       "      <th>ps_calc_09</th>\n",
       "      <th>ps_calc_12</th>\n",
       "      <th>ps_calc_04</th>\n",
       "      <th>ps_calc_05</th>\n",
       "      <th>ps_reg_03</th>\n",
       "      <th>ps_reg_02</th>\n",
       "      <th>ps_reg_01</th>\n",
       "    </tr>\n",
       "  </thead>\n",
       "  <tbody>\n",
       "    <tr>\n",
       "      <th>0</th>\n",
       "      <td>-1.119109</td>\n",
       "      <td>-1.295468</td>\n",
       "      <td>1.364629</td>\n",
       "      <td>-0.639489</td>\n",
       "      <td>1.351819</td>\n",
       "      <td>-0.42066</td>\n",
       "      <td>0.767195</td>\n",
       "      <td>-0.641321</td>\n",
       "      <td>-0.422322</td>\n",
       "      <td>-0.374709</td>\n",
       "      <td>...</td>\n",
       "      <td>-0.153212</td>\n",
       "      <td>-0.005752</td>\n",
       "      <td>0.98363</td>\n",
       "      <td>1.326060</td>\n",
       "      <td>0.466381</td>\n",
       "      <td>-0.334810</td>\n",
       "      <td>0.980525</td>\n",
       "      <td>0.973279</td>\n",
       "      <td>2.893373</td>\n",
       "      <td>0.252980</td>\n",
       "    </tr>\n",
       "    <tr>\n",
       "      <th>1</th>\n",
       "      <td>0.893568</td>\n",
       "      <td>0.771922</td>\n",
       "      <td>-0.732800</td>\n",
       "      <td>1.563747</td>\n",
       "      <td>-0.739744</td>\n",
       "      <td>-0.42066</td>\n",
       "      <td>0.767195</td>\n",
       "      <td>-0.641321</td>\n",
       "      <td>-0.422322</td>\n",
       "      <td>2.668737</td>\n",
       "      <td>...</td>\n",
       "      <td>-0.837042</td>\n",
       "      <td>1.404023</td>\n",
       "      <td>0.23267</td>\n",
       "      <td>0.525232</td>\n",
       "      <td>-1.192159</td>\n",
       "      <td>-0.334810</td>\n",
       "      <td>1.858251</td>\n",
       "      <td>0.465132</td>\n",
       "      <td>0.063562</td>\n",
       "      <td>0.252980</td>\n",
       "    </tr>\n",
       "    <tr>\n",
       "      <th>2</th>\n",
       "      <td>0.893568</td>\n",
       "      <td>0.771922</td>\n",
       "      <td>-0.732800</td>\n",
       "      <td>1.563747</td>\n",
       "      <td>-0.739744</td>\n",
       "      <td>-0.42066</td>\n",
       "      <td>0.767195</td>\n",
       "      <td>-0.641321</td>\n",
       "      <td>-0.422322</td>\n",
       "      <td>-0.374709</td>\n",
       "      <td>...</td>\n",
       "      <td>0.530618</td>\n",
       "      <td>-0.005752</td>\n",
       "      <td>-0.51829</td>\n",
       "      <td>2.126889</td>\n",
       "      <td>-0.362889</td>\n",
       "      <td>1.459553</td>\n",
       "      <td>1.858251</td>\n",
       "      <td>-2.080377</td>\n",
       "      <td>-0.408073</td>\n",
       "      <td>-1.163203</td>\n",
       "    </tr>\n",
       "    <tr>\n",
       "      <th>3</th>\n",
       "      <td>0.893568</td>\n",
       "      <td>0.771922</td>\n",
       "      <td>-0.732800</td>\n",
       "      <td>-0.639489</td>\n",
       "      <td>-0.739744</td>\n",
       "      <td>-0.42066</td>\n",
       "      <td>-1.303450</td>\n",
       "      <td>1.559281</td>\n",
       "      <td>-0.422322</td>\n",
       "      <td>-0.374709</td>\n",
       "      <td>...</td>\n",
       "      <td>-0.837042</td>\n",
       "      <td>-0.005752</td>\n",
       "      <td>0.23267</td>\n",
       "      <td>1.326060</td>\n",
       "      <td>-0.362889</td>\n",
       "      <td>-0.334810</td>\n",
       "      <td>-0.774926</td>\n",
       "      <td>1.431099</td>\n",
       "      <td>2.893373</td>\n",
       "      <td>0.961071</td>\n",
       "    </tr>\n",
       "    <tr>\n",
       "      <th>4</th>\n",
       "      <td>0.893568</td>\n",
       "      <td>0.771922</td>\n",
       "      <td>-0.732800</td>\n",
       "      <td>-0.639489</td>\n",
       "      <td>-0.739744</td>\n",
       "      <td>-0.42066</td>\n",
       "      <td>0.767195</td>\n",
       "      <td>-0.641321</td>\n",
       "      <td>-0.422322</td>\n",
       "      <td>-0.374709</td>\n",
       "      <td>...</td>\n",
       "      <td>-1.520872</td>\n",
       "      <td>-1.415527</td>\n",
       "      <td>0.23267</td>\n",
       "      <td>1.326060</td>\n",
       "      <td>1.295651</td>\n",
       "      <td>1.459553</td>\n",
       "      <td>0.102799</td>\n",
       "      <td>-2.080377</td>\n",
       "      <td>-0.643890</td>\n",
       "      <td>-1.163203</td>\n",
       "    </tr>\n",
       "  </tbody>\n",
       "</table>\n",
       "<p>5 rows × 57 columns</p>\n",
       "</div>"
      ],
      "text/plain": [
       "   ps_calc_17_bin  ps_calc_16_bin  ps_calc_19_bin  ps_calc_18_bin  \\\n",
       "0       -1.119109       -1.295468        1.364629       -0.639489   \n",
       "1        0.893568        0.771922       -0.732800        1.563747   \n",
       "2        0.893568        0.771922       -0.732800        1.563747   \n",
       "3        0.893568        0.771922       -0.732800       -0.639489   \n",
       "4        0.893568        0.771922       -0.732800       -0.639489   \n",
       "\n",
       "   ps_ind_06_bin  ps_ind_17_bin  ps_ind_16_bin  ps_ind_07_bin  ps_calc_20_bin  \\\n",
       "0       1.351819       -0.42066       0.767195      -0.641321       -0.422322   \n",
       "1      -0.739744       -0.42066       0.767195      -0.641321       -0.422322   \n",
       "2      -0.739744       -0.42066       0.767195      -0.641321       -0.422322   \n",
       "3      -0.739744       -0.42066      -1.303450       1.559281       -0.422322   \n",
       "4      -0.739744       -0.42066       0.767195      -0.641321       -0.422322   \n",
       "\n",
       "   ps_calc_15_bin  ...  ps_calc_08  ps_calc_07  ps_calc_06  ps_calc_09  \\\n",
       "0       -0.374709  ...   -0.153212   -0.005752     0.98363    1.326060   \n",
       "1        2.668737  ...   -0.837042    1.404023     0.23267    0.525232   \n",
       "2       -0.374709  ...    0.530618   -0.005752    -0.51829    2.126889   \n",
       "3       -0.374709  ...   -0.837042   -0.005752     0.23267    1.326060   \n",
       "4       -0.374709  ...   -1.520872   -1.415527     0.23267    1.326060   \n",
       "\n",
       "   ps_calc_12  ps_calc_04  ps_calc_05  ps_reg_03  ps_reg_02  ps_reg_01  \n",
       "0    0.466381   -0.334810    0.980525   0.973279   2.893373   0.252980  \n",
       "1   -1.192159   -0.334810    1.858251   0.465132   0.063562   0.252980  \n",
       "2   -0.362889    1.459553    1.858251  -2.080377  -0.408073  -1.163203  \n",
       "3   -0.362889   -0.334810   -0.774926   1.431099   2.893373   0.961071  \n",
       "4    1.295651    1.459553    0.102799  -2.080377  -0.643890  -1.163203  \n",
       "\n",
       "[5 rows x 57 columns]"
      ]
     },
     "execution_count": 25,
     "metadata": {},
     "output_type": "execute_result"
    }
   ],
   "source": [
    "from sklearn.preprocessing import StandardScaler\n",
    "col_names = d_fF.columns\n",
    "SS=StandardScaler()\n",
    "df_SS = SS.fit_transform(d_fF)\n",
    "df_SS=pd.DataFrame(df_SS, columns=col_names)\n",
    "df_SS.head()"
   ]
  },
  {
   "cell_type": "code",
   "execution_count": 26,
   "metadata": {},
   "outputs": [
    {
     "name": "stdout",
     "output_type": "stream",
     "text": [
      "[0.066 0.112 0.152 0.187 0.219 0.249 0.278 0.302 0.324 0.346 0.365 0.384\n",
      " 0.402 0.421 0.439 0.457 0.475 0.493 0.51  0.528 0.546 0.564 0.581 0.599\n",
      " 0.616 0.634 0.651 0.668 0.686 0.703 0.72  0.737 0.754 0.771 0.787 0.804\n",
      " 0.82  0.836 0.851 0.866 0.88  0.893 0.906 0.918 0.93  0.941 0.951 0.961\n",
      " 0.971 0.979 0.986 0.992 0.996 0.998 1.    1.    1.   ]\n",
      "(100000, 8)\n",
      "[0.066 0.112 0.152 0.186 0.218 0.248 0.277 0.301]\n"
     ]
    }
   ],
   "source": [
    "from sklearn.decomposition import PCA\n",
    "pca = PCA()\n",
    "new_feat1 = pca.fit_transform(df_SS)\n",
    "print(np.round(pca.explained_variance_ratio_.cumsum(), 3))\n",
    "pca = PCA(n_components=8)\n",
    "new_feat2 = pca.fit_transform(df_SS)\n",
    "print(new_feat2.shape)\n",
    "print(np.round(pca.explained_variance_ratio_.cumsum(), 3))\n",
    "new_feat2_df = pd.DataFrame(new_feat2)"
   ]
  },
  {
   "cell_type": "markdown",
   "metadata": {},
   "source": [
    "## Section 4: Test All the Models"
   ]
  },
  {
   "cell_type": "markdown",
   "metadata": {},
   "source": [
    "### Section 4.a: SVC with Imbalance Check & Feature Optimization & only 100K Records "
   ]
  },
  {
   "cell_type": "code",
   "execution_count": 30,
   "metadata": {},
   "outputs": [
    {
     "name": "stdout",
     "output_type": "stream",
     "text": [
      "    Model  Var  Train   Test  Pre0  Pre1  Rec0  Rec1    F1   AUC\n",
      "0  SupVec  FET  56.13  56.14  0.56  0.56  0.58  0.54  0.55  0.43\n"
     ]
    }
   ],
   "source": [
    "X_tr1, X_val1, Y_tr1, Y_val1 = model_selection.train_test_split(d_fF_norm_LVar_HCor_RF, YF, test_size=0.3,random_state=7)\n",
    "m = SVC(gamma='auto', probability=True)\n",
    "m.fit(X_tr1, Y_tr1)\n",
    "\n",
    "Trn_scr = np.round((m.score(X_tr1, Y_tr1)*100),2)\n",
    "#msg = \"Train Score for :\"+\"%s: %.2f \" % (Trn_scr)\n",
    "predictions = m.predict(X_val1)\n",
    "Tst_scr = np.round((accuracy_score(Y_val1, predictions)*100),2)\n",
    "#msg = \"Test Score for  :\"+\"%s: %.2f\" % (name, Tst_scr)\n",
    "#print(msg)\n",
    "\n",
    "conf_mat_svc = confusion_matrix(Y_val1, predictions)\n",
    "#print(\"Confusion Matrix: \\n\",conf_mat)\n",
    "\n",
    "CL_R_svc = classification_report(Y_val1,predictions)\n",
    "\n",
    "probs = m.predict_proba(X_val1)\n",
    "# keep probabilities for the positive outcome only\n",
    "probs = probs[:, 1]\n",
    "# calculate scores\n",
    "auc = np.round(roc_auc_score(Y_val1, probs),2)\n",
    "# summarize scores\n",
    "#print(\"AUC Score: \",np.round(auc,2))\n",
    "\n",
    "tn = conf_mat_svc[0][0]\n",
    "fp = conf_mat_svc[0][1]\n",
    "fn = conf_mat_svc[1][0]\n",
    "tp = conf_mat_svc[1][1]\n",
    "\n",
    "precision_0 = np.round((tn/(tn+fn)),2)\n",
    "precision_1 = np.round((tp/(fp+tp)),2)                        \n",
    "recall_0 = np.round((tn/(tn+fp)),2)\n",
    "recall_1 = np.round((tp/(fn+tp)),2)\n",
    "            \n",
    "F1 = 2*((precision_1*recall_1)/(precision_1+recall_1))\n",
    "\n",
    "Res_Intmdt2 = pd.DataFrame()\n",
    "Res_Intmdt2[\"Model\"] = [\"SupVec\"]\n",
    "Res_Intmdt2[\"Var\"] = [\"FET\"]\n",
    "Res_Intmdt2[\"Train\"] = [np.round(Trn_scr,2)]\n",
    "Res_Intmdt2[\"Test\"] = [np.round(Tst_scr,2)]\n",
    "Res_Intmdt2[\"Pre0\"] = [np.round(precision_0,2)]\n",
    "Res_Intmdt2[\"Pre1\"] = [np.round(precision_1,2)]\n",
    "Res_Intmdt2[\"Rec0\"] = [np.round(recall_0,2)]\n",
    "Res_Intmdt2[\"Rec1\"] = [np.round(recall_1,2)]\n",
    "Res_Intmdt2[\"F1\"] = [np.round(F1,2)]\n",
    "Res_Intmdt2[\"AUC\"] = [np.round(auc,2)]\n",
    "print(Res_Intmdt2)"
   ]
  },
  {
   "cell_type": "markdown",
   "metadata": {},
   "source": [
    "### Section 4.b: SVC with PCA"
   ]
  },
  {
   "cell_type": "code",
   "execution_count": 31,
   "metadata": {},
   "outputs": [
    {
     "data": {
      "text/html": [
       "<div>\n",
       "<style scoped>\n",
       "    .dataframe tbody tr th:only-of-type {\n",
       "        vertical-align: middle;\n",
       "    }\n",
       "\n",
       "    .dataframe tbody tr th {\n",
       "        vertical-align: top;\n",
       "    }\n",
       "\n",
       "    .dataframe thead th {\n",
       "        text-align: right;\n",
       "    }\n",
       "</style>\n",
       "<table border=\"1\" class=\"dataframe\">\n",
       "  <thead>\n",
       "    <tr style=\"text-align: right;\">\n",
       "      <th></th>\n",
       "      <th>Model</th>\n",
       "      <th>Var</th>\n",
       "      <th>Train</th>\n",
       "      <th>Test</th>\n",
       "      <th>Pre0</th>\n",
       "      <th>Pre1</th>\n",
       "      <th>Rec0</th>\n",
       "      <th>Rec1</th>\n",
       "      <th>F1</th>\n",
       "      <th>AUC</th>\n",
       "    </tr>\n",
       "  </thead>\n",
       "  <tbody>\n",
       "    <tr>\n",
       "      <th>0</th>\n",
       "      <td>RandFo</td>\n",
       "      <td>PCA</td>\n",
       "      <td>61.1</td>\n",
       "      <td>59.1</td>\n",
       "      <td>0.59</td>\n",
       "      <td>0.59</td>\n",
       "      <td>0.63</td>\n",
       "      <td>0.56</td>\n",
       "      <td>0.57</td>\n",
       "      <td>0.5</td>\n",
       "    </tr>\n",
       "  </tbody>\n",
       "</table>\n",
       "</div>"
      ],
      "text/plain": [
       "    Model  Var  Train  Test  Pre0  Pre1  Rec0  Rec1    F1  AUC\n",
       "0  RandFo  PCA   61.1  59.1  0.59  0.59  0.63  0.56  0.57  0.5"
      ]
     },
     "execution_count": 31,
     "metadata": {},
     "output_type": "execute_result"
    }
   ],
   "source": [
    "X_tr2, X_val2, Y_tr2, Y_val2 = model_selection.train_test_split(new_feat2_df, YF, test_size=0.3,random_state=7)\n",
    "m = SVC(gamma='auto', probability=True)\n",
    "m.fit(X_tr2, Y_tr2)\n",
    "\n",
    "Trn_scr = np.round((m.score(X_tr2, Y_tr2)*100),2)\n",
    "#msg = \"Train Score for :\"+\"%s: %.2f \" % (Trn_scr)\n",
    "predictions = m.predict(X_val2)\n",
    "Tst_scr = np.round((accuracy_score(Y_val2, predictions)*100),2)\n",
    "#msg = \"Test Score for  :\"+\"%s: %.2f\" % (name, Tst_scr)\n",
    "#print(msg)\n",
    "\n",
    "conf_mat_svcpca = confusion_matrix(Y_val2, predictions)\n",
    "#print(\"Confusion Matrix: \\n\",conf_mat)\n",
    "\n",
    "CL_R_svcpca = classification_report(Y_val1,predictions)\n",
    "\n",
    "probs = m.predict_proba(X_val2)\n",
    "# keep probabilities for the positive outcome only\n",
    "probs = probs[:, 1]\n",
    "# calculate scores\n",
    "auc = np.round(roc_auc_score(Y_val2, probs),2)\n",
    "# summarize scores\n",
    "#print(\"AUC Score: \",np.round(auc,2))\n",
    "\n",
    "tn = conf_mat_svcpca[0][0]\n",
    "fp = conf_mat_svcpca[0][1]\n",
    "fn = conf_mat_svcpca[1][0]\n",
    "tp = conf_mat_svcpca[1][1]\n",
    "\n",
    "precision_0 = np.round((tn/(tn+fn)),2)\n",
    "precision_1 = np.round((tp/(fp+tp)),2)                        \n",
    "recall_0 = np.round((tn/(tn+fp)),2)\n",
    "recall_1 = np.round((tp/(fn+tp)),2)\n",
    "            \n",
    "F1 = 2*((precision_1*recall_1)/(precision_1+recall_1))\n",
    "\n",
    "Res_Intmdt3 = pd.DataFrame()\n",
    "Res_Intmdt3[\"Model\"] = [\"SupVec\"]\n",
    "Res_Intmdt3[\"Var\"] = [\"PCA\"]\n",
    "Res_Intmdt3[\"Train\"] = [np.round(Trn_scr,2)]\n",
    "Res_Intmdt3[\"Test\"] = [np.round(Tst_scr,2)]\n",
    "Res_Intmdt3[\"Pre0\"] = [np.round(precision_0,2)]\n",
    "Res_Intmdt3[\"Pre1\"] = [np.round(precision_1,2)]\n",
    "Res_Intmdt3[\"Rec0\"] = [np.round(recall_0,2)]\n",
    "Res_Intmdt3[\"Rec1\"] = [np.round(recall_1,2)]\n",
    "Res_Intmdt3[\"F1\"] = [np.round(F1,2)]\n",
    "Res_Intmdt3[\"AUC\"] = [np.round(auc,2)]\n",
    "Res_Intmdt3"
   ]
  },
  {
   "cell_type": "code",
   "execution_count": 178,
   "metadata": {},
   "outputs": [
    {
     "name": "stdout",
     "output_type": "stream",
     "text": [
      "    Model  Var  Train  Test  Pre0  Pre1  Rec0  Rec1    F1  AUC\n",
      "0  RandFo  PCA   61.1  59.1  0.59  0.59  0.63  0.56  0.57  0.5\n"
     ]
    }
   ],
   "source": [
    "print(Res_Intmdt3)"
   ]
  },
  {
   "cell_type": "markdown",
   "metadata": {},
   "source": [
    "### Section 4.c: Raw data, with all categories with all the models"
   ]
  },
  {
   "cell_type": "code",
   "execution_count": 32,
   "metadata": {},
   "outputs": [
    {
     "name": "stdout",
     "output_type": "stream",
     "text": [
      "    Model  Var   Train   Test  Pre0  Pre1  Rec0  Rec1    F1   AUC\n",
      "0  XGBoo   All   77.73  67.98  0.68  0.68  0.68  0.68  0.68  0.74\n",
      "1  AdaBoo  All   59.37  59.82  0.60  0.60  0.62  0.57  0.58  0.64\n",
      "2  LogReg  All   58.68  59.01  0.59  0.60  0.63  0.55  0.57  0.62\n",
      "3  LDA     All   58.69  58.92  0.58  0.60  0.64  0.54  0.57  0.62\n",
      "4  KNearN  All   76.79  63.97  0.66  0.63  0.59  0.69  0.66  0.69\n",
      "5  CART    All  100.00  78.43  0.85  0.74  0.70  0.87  0.80  0.78\n",
      "6  NaiveB  All   57.38  57.94  0.56  0.63  0.78  0.38  0.47  0.62\n",
      "7  SupVec  All   89.82  73.58  0.74  0.73  0.73  0.75  0.74  0.82\n",
      "8  RandFo  All  100.00  87.91  0.85  0.91  0.92  0.84  0.87  0.93\n"
     ]
    }
   ],
   "source": [
    "spread3 = {\"All\" :np.arange(0,57)}\n",
    "d_fF_all = pd.concat([d_fF,YF], axis=1)\n",
    "CM1, CLR1, Without_pre_process_all = run_models(spread =spread3,d_f=d_fF_all,seed=7,Test_size=0.3)\n",
    "print(Without_pre_process_all)"
   ]
  },
  {
   "cell_type": "markdown",
   "metadata": {},
   "source": [
    "### Section 4.d: Preprocessed data, with all categories with all the models"
   ]
  },
  {
   "cell_type": "code",
   "execution_count": 33,
   "metadata": {},
   "outputs": [
    {
     "name": "stdout",
     "output_type": "stream",
     "text": [
      "    Model  Var   Train   Test  Pre0  Pre1  Rec0  Rec1    F1   AUC\n",
      "0  XGBoo   All   76.47  66.78  0.67  0.67  0.67  0.67  0.67  0.73\n",
      "1  AdaBoo  All   58.93  58.99  0.59  0.59  0.61  0.57  0.58  0.62\n",
      "2  LogReg  All   57.69  58.27  0.58  0.59  0.62  0.54  0.56  0.61\n",
      "3  LDA     All   57.66  58.30  0.58  0.59  0.63  0.54  0.56  0.61\n",
      "4  KNearN  All   76.67  62.97  0.65  0.61  0.57  0.69  0.65  0.68\n",
      "5  CART    All  100.00  78.36  0.85  0.74  0.69  0.88  0.80  0.78\n",
      "6  NaiveB  All   55.45  56.02  0.54  0.61  0.80  0.32  0.42  0.60\n",
      "7  SupVec  All   56.46  56.50  0.57  0.56  0.56  0.57  0.56  0.40\n",
      "8  RandFo  All  100.00  87.76  0.85  0.91  0.92  0.83  0.87  0.93\n"
     ]
    }
   ],
   "source": [
    "spread3 = {\"All\" :np.arange(0,57)}\n",
    "CM2, CLR2, With_pre_process_all = run_models(spread =spread3,d_f=df_norm_hot_en,seed=7,Test_size=0.3)\n",
    "print(With_pre_process_all)"
   ]
  },
  {
   "cell_type": "markdown",
   "metadata": {},
   "source": [
    "### Section 4.e: Test All the Models with Feature classified as is Data (No Preprocessing/No Transformation)"
   ]
  },
  {
   "cell_type": "code",
   "execution_count": 34,
   "metadata": {},
   "outputs": [],
   "source": [
    "spread1 = {\"Bin\" :np.arange(0,17), \"Cat\":np.arange(17,31),\"Ind\":np.arange(31,35) , \"Car\":np.arange(35,40) , \"Cal\":np.arange(40,54) ,\"Reg\": np.arange(54,57)}\n",
    "CM3, CLR3, Without_pre_process = run_models(spread =spread1,d_f=df_final1,seed=7,Test_size=0.3)"
   ]
  },
  {
   "cell_type": "code",
   "execution_count": 35,
   "metadata": {},
   "outputs": [
    {
     "name": "stdout",
     "output_type": "stream",
     "text": [
      "     Model  Var   Train   Test  Pre0  Pre1  Rec0  Rec1    F1   AUC\n",
      "0   XGBoo   Bin   57.13  56.27  0.57  0.56  0.56  0.56  0.56  0.58\n",
      "1   AdaBoo  Bin   55.73  55.83  0.57  0.55  0.53  0.59  0.57  0.58\n",
      "2   LogReg  Bin   55.73  55.83  0.57  0.55  0.53  0.59  0.57  0.58\n",
      "3   LDA     Bin   55.73  55.83  0.57  0.55  0.53  0.59  0.57  0.58\n",
      "4   KNearN  Bin   53.90  52.82  0.53  0.53  0.56  0.50  0.51  0.54\n",
      "5   CART    Bin   57.88  56.00  0.56  0.56  0.56  0.56  0.56  0.58\n",
      "6   NaiveB  Bin   54.52  54.73  0.53  0.59  0.79  0.30  0.40  0.58\n",
      "7   SupVec  Bin   55.75  55.70  0.56  0.55  0.52  0.59  0.57  0.43\n",
      "8   RandFo  Bin   57.86  55.79  0.56  0.55  0.56  0.56  0.55  0.58\n",
      "9   XGBoo   Cat   65.26  60.90  0.60  0.62  0.65  0.56  0.59  0.65\n",
      "10  AdaBoo  Cat   57.89  57.84  0.57  0.59  0.63  0.52  0.55  0.61\n",
      "11  LogReg  Cat   57.11  57.47  0.57  0.59  0.65  0.49  0.54  0.60\n",
      "12  LDA     Cat   57.09  57.39  0.57  0.59  0.66  0.49  0.54  0.60\n",
      "13  KNearN  Cat   72.04  62.19  0.64  0.61  0.58  0.66  0.63  0.66\n",
      "14  CART    Cat   82.83  68.34  0.68  0.68  0.69  0.68  0.68  0.74\n",
      "15  NaiveB  Cat   56.50  56.69  0.55  0.60  0.73  0.40  0.48  0.60\n",
      "16  SupVec  Cat   65.15  60.28  0.60  0.61  0.65  0.56  0.58  0.64\n",
      "17  RandFo  Cat   82.83  69.12  0.70  0.68  0.67  0.71  0.69  0.77\n",
      "18  XGBoo   Ind   58.01  55.68  0.55  0.56  0.61  0.50  0.53  0.58\n",
      "19  AdaBoo  Ind   55.09  54.58  0.55  0.54  0.55  0.54  0.54  0.57\n",
      "20  LogReg  Ind   53.01  52.85  0.53  0.53  0.54  0.52  0.52  0.55\n",
      "21  LDA     Ind   53.00  52.84  0.53  0.53  0.54  0.52  0.52  0.55\n",
      "22  KNearN  Ind   54.19  52.83  0.53  0.53  0.53  0.53  0.53  0.54\n",
      "23  CART    Ind   58.41  55.59  0.55  0.56  0.62  0.50  0.53  0.58\n",
      "24  NaiveB  Ind   53.29  53.00  0.53  0.53  0.57  0.49  0.51  0.55\n",
      "25  SupVec  Ind   56.64  55.51  0.55  0.56  0.60  0.51  0.53  0.43\n",
      "26  RandFo  Ind   58.41  55.70  0.55  0.56  0.61  0.51  0.53  0.58\n",
      "27  XGBoo   Car   64.40  59.47  0.59  0.60  0.62  0.57  0.58  0.64\n",
      "28  AdaBoo  Car   56.14  56.13  0.56  0.56  0.57  0.55  0.55  0.58\n",
      "29  LogReg  Car   54.81  55.34  0.55  0.56  0.62  0.48  0.52  0.58\n",
      "30  LDA     Car   54.84  55.39  0.55  0.56  0.62  0.48  0.52  0.58\n",
      "31  KNearN  Car   74.76  62.30  0.64  0.61  0.57  0.68  0.64  0.67\n",
      "32  CART    Car   87.75  70.67  0.72  0.69  0.68  0.74  0.71  0.76\n",
      "33  NaiveB  Car   54.15  54.77  0.54  0.57  0.73  0.36  0.44  0.57\n",
      "34  SupVec  Car   55.18  55.54  0.55  0.56  0.62  0.49  0.52  0.42\n",
      "35  RandFo  Car   87.75  71.25  0.74  0.69  0.65  0.77  0.73  0.78\n",
      "36  XGBoo   Cal   70.87  60.34  0.61  0.59  0.57  0.64  0.61  0.65\n",
      "37  AdaBoo  Cal   52.32  51.30  0.52  0.51  0.47  0.56  0.53  0.51\n",
      "38  LogReg  Cal   50.99  50.22  0.51  0.50  0.46  0.55  0.52  0.50\n",
      "39  LDA     Cal   50.99  50.23  0.51  0.50  0.46  0.55  0.52  0.50\n",
      "40  KNearN  Cal   75.54  61.44  0.64  0.60  0.54  0.69  0.64  0.66\n",
      "41  CART    Cal  100.00  77.04  0.84  0.72  0.67  0.87  0.79  0.77\n",
      "42  NaiveB  Cal   51.08  50.26  0.51  0.50  0.45  0.56  0.53  0.50\n",
      "43  SupVec  Cal   71.14  60.42  0.62  0.59  0.57  0.64  0.61  0.50\n",
      "44  RandFo  Cal  100.00  88.10  0.84  0.94  0.95  0.81  0.87  0.91\n",
      "45  XGBoo   Reg   62.34  57.33  0.58  0.57  0.58  0.57  0.57  0.60\n",
      "46  AdaBoo  Reg   54.46  54.75  0.55  0.55  0.56  0.53  0.54  0.56\n",
      "47  LogReg  Reg   53.95  54.23  0.54  0.54  0.60  0.48  0.51  0.55\n",
      "48  LDA     Reg   53.97  54.23  0.54  0.54  0.60  0.48  0.51  0.55\n",
      "49  KNearN  Reg   66.44  58.10  0.60  0.57  0.52  0.65  0.61  0.61\n",
      "50  CART    Reg   71.83  61.29  0.61  0.62  0.65  0.58  0.60  0.66\n",
      "51  NaiveB  Reg   54.03  54.10  0.53  0.55  0.67  0.41  0.47  0.56\n",
      "52  SupVec  Reg   54.24  54.39  0.54  0.55  0.61  0.48  0.51  0.44\n",
      "53  RandFo  Reg   71.83  61.66  0.62  0.61  0.61  0.62  0.61  0.66\n"
     ]
    }
   ],
   "source": [
    "print(Without_pre_process.reset_index(drop=True))"
   ]
  },
  {
   "cell_type": "markdown",
   "metadata": {},
   "source": [
    "### Section 4.f: Test All the Models with Feature classified & Preprocessed/Transformed Data"
   ]
  },
  {
   "cell_type": "code",
   "execution_count": 36,
   "metadata": {},
   "outputs": [],
   "source": [
    "spread2 = {\"Bin\" :np.arange(0,17),\"Ind\":np.arange(17,21) , \"Car\":np.arange(21,26) , \"Cal\":np.arange(26,40) ,\"Reg\": np.arange(40,43),\"Cat\":np.arange(43,226)}\n",
    "CM4, CLR4, With_pre_process = run_models(spread =spread2,d_f=df_norm_hot_en,seed=7,Test_size=0.3)"
   ]
  },
  {
   "cell_type": "code",
   "execution_count": 37,
   "metadata": {},
   "outputs": [
    {
     "name": "stdout",
     "output_type": "stream",
     "text": [
      "     Model  Var   Train   Test  Pre0  Pre1  Rec0  Rec1    F1   AUC\n",
      "0   XGBoo   Bin   57.13  56.27  0.57  0.56  0.56  0.56  0.56  0.58\n",
      "1   AdaBoo  Bin   55.73  55.83  0.57  0.55  0.53  0.59  0.57  0.58\n",
      "2   LogReg  Bin   55.73  55.83  0.57  0.55  0.53  0.59  0.57  0.58\n",
      "3   LDA     Bin   55.73  55.83  0.57  0.55  0.53  0.59  0.57  0.58\n",
      "4   KNearN  Bin   53.90  52.82  0.53  0.53  0.56  0.50  0.51  0.54\n",
      "5   CART    Bin   57.88  56.00  0.56  0.56  0.56  0.56  0.56  0.58\n",
      "6   NaiveB  Bin   54.52  54.73  0.53  0.59  0.79  0.30  0.40  0.58\n",
      "7   SupVec  Bin   55.75  55.70  0.56  0.55  0.52  0.59  0.57  0.43\n",
      "8   RandFo  Bin   57.87  55.93  0.56  0.56  0.55  0.57  0.56  0.58\n",
      "9   XGBoo   Ind   58.01  55.68  0.55  0.56  0.61  0.50  0.53  0.58\n",
      "10  AdaBoo  Ind   55.09  54.58  0.55  0.54  0.55  0.54  0.54  0.57\n",
      "11  LogReg  Ind   53.01  52.85  0.53  0.53  0.54  0.52  0.52  0.55\n",
      "12  LDA     Ind   53.00  52.84  0.53  0.53  0.54  0.52  0.52  0.55\n",
      "13  KNearN  Ind   53.84  52.54  0.53  0.52  0.54  0.51  0.51  0.54\n",
      "14  CART    Ind   58.41  55.60  0.55  0.56  0.62  0.50  0.53  0.58\n",
      "15  NaiveB  Ind   53.29  53.00  0.53  0.53  0.57  0.49  0.51  0.55\n",
      "16  SupVec  Ind   53.75  53.59  0.53  0.54  0.66  0.41  0.47  0.45\n",
      "17  RandFo  Ind   58.40  55.70  0.55  0.56  0.61  0.50  0.53  0.58\n",
      "18  XGBoo   Car   64.59  59.32  0.59  0.59  0.62  0.57  0.58  0.64\n",
      "19  AdaBoo  Car   56.13  56.12  0.56  0.56  0.57  0.55  0.55  0.58\n",
      "20  LogReg  Car   55.35  55.71  0.55  0.56  0.63  0.49  0.52  0.58\n",
      "21  LDA     Car   55.37  55.67  0.55  0.56  0.63  0.48  0.52  0.58\n",
      "22  KNearN  Car   74.78  62.45  0.64  0.61  0.57  0.68  0.64  0.67\n",
      "23  CART    Car   87.75  70.57  0.72  0.69  0.68  0.74  0.71  0.76\n",
      "24  NaiveB  Car   54.36  55.14  0.54  0.57  0.73  0.37  0.45  0.58\n",
      "25  SupVec  Car   55.35  55.46  0.55  0.57  0.68  0.43  0.49  0.42\n",
      "26  RandFo  Car   87.75  71.09  0.74  0.69  0.65  0.77  0.73  0.78\n",
      "27  XGBoo   Cal   70.87  60.34  0.61  0.59  0.57  0.64  0.61  0.65\n",
      "28  AdaBoo  Cal   52.32  51.30  0.52  0.51  0.47  0.56  0.53  0.51\n",
      "29  LogReg  Cal   50.98  50.24  0.51  0.50  0.46  0.55  0.52  0.50\n",
      "30  LDA     Cal   50.99  50.23  0.51  0.50  0.46  0.55  0.52  0.50\n",
      "31  KNearN  Cal   75.81  61.90  0.64  0.60  0.55  0.69  0.64  0.67\n",
      "32  CART    Cal  100.00  76.87  0.84  0.72  0.67  0.87  0.79  0.77\n",
      "33  NaiveB  Cal   51.08  50.26  0.51  0.50  0.45  0.56  0.53  0.50\n",
      "34  SupVec  Cal   51.16  50.07  0.50  0.50  0.37  0.64  0.56  0.50\n",
      "35  RandFo  Cal  100.00  88.13  0.84  0.94  0.95  0.81  0.87  0.91\n",
      "36  XGBoo   Reg   61.78  56.80  0.57  0.57  0.58  0.56  0.56  0.60\n",
      "37  AdaBoo  Reg   54.63  54.75  0.55  0.55  0.56  0.53  0.54  0.56\n",
      "38  LogReg  Reg   54.13  54.26  0.54  0.55  0.66  0.42  0.48  0.56\n",
      "39  LDA     Reg   54.09  54.24  0.54  0.55  0.66  0.42  0.48  0.56\n",
      "40  KNearN  Reg   65.77  57.14  0.59  0.56  0.49  0.65  0.60  0.61\n",
      "41  CART    Reg   71.83  61.30  0.61  0.62  0.65  0.58  0.60  0.66\n",
      "42  NaiveB  Reg   53.56  53.80  0.53  0.56  0.75  0.32  0.41  0.56\n",
      "43  SupVec  Reg   54.23  54.34  0.54  0.55  0.64  0.45  0.50  0.44\n",
      "44  RandFo  Reg   71.82  61.77  0.62  0.61  0.61  0.62  0.61  0.66\n",
      "45  XGBoo   Cat   64.30  60.33  0.60  0.61  0.64  0.56  0.58  0.65\n",
      "46  AdaBoo  Cat   58.24  58.14  0.58  0.59  0.63  0.54  0.56  0.61\n",
      "47  LogReg  Cat   58.45  58.40  0.58  0.59  0.63  0.54  0.56  0.61\n",
      "48  LDA     Cat   58.49  58.42  0.58  0.59  0.63  0.54  0.56  0.61\n",
      "49  KNearN  Cat   73.10  62.66  0.64  0.62  0.59  0.66  0.64  0.67\n",
      "50  CART    Cat   82.98  68.27  0.68  0.68  0.69  0.68  0.68  0.74\n",
      "51  NaiveB  Cat   55.99  55.74  0.54  0.60  0.78  0.33  0.43  0.59\n",
      "52  SupVec  Cat   58.07  58.12  0.57  0.60  0.71  0.46  0.52  0.39\n",
      "53  RandFo  Cat   82.97  69.83  0.71  0.69  0.69  0.71  0.70  0.78\n"
     ]
    }
   ],
   "source": [
    "print(With_pre_process.reset_index(drop=True))"
   ]
  },
  {
   "cell_type": "markdown",
   "metadata": {},
   "source": [
    "### Section 4.g: Random Forest on Raw Data with only Calc & Cat Variables"
   ]
  },
  {
   "cell_type": "code",
   "execution_count": 41,
   "metadata": {},
   "outputs": [
    {
     "name": "stdout",
     "output_type": "stream",
     "text": [
      "    Model  Var  Train   Test  Pre0  Pre1  Rec0  Rec1    F1   AUC\n",
      "0  RandFo  C&C  100.0  87.91  0.85  0.92  0.93  0.83  0.87  0.93\n"
     ]
    }
   ],
   "source": [
    "var1 = \"C&C\"\n",
    "CM5, CLR5, RF_CatCalc= run_RF(X_train7, X_validation7, Y_train2,Y_validation2, var1)\n",
    "print(RF_CatCalc)"
   ]
  },
  {
   "cell_type": "markdown",
   "metadata": {},
   "source": [
    "### Section 4.h: Random Forest on Preprocessed Data with only Calc & Cat Variables"
   ]
  },
  {
   "cell_type": "code",
   "execution_count": 42,
   "metadata": {},
   "outputs": [
    {
     "name": "stdout",
     "output_type": "stream",
     "text": [
      "    Model  Var  Train   Test  Pre0  Pre1  Rec0  Rec1   F1  AUC\n",
      "0  RandFo  C&C  100.0  100.0   1.0   1.0   1.0   1.0  1.0  1.0\n"
     ]
    }
   ],
   "source": [
    "var2 =\"C&C\"\n",
    "CM6, CLR6,  RF_CatCalc1= run_RF(X_train8, X_validation8, Y_train8,Y_validation8, var2)\n",
    "print(RF_CatCalc1)"
   ]
  },
  {
   "cell_type": "markdown",
   "metadata": {},
   "source": [
    "## Section 5: Multilayer Perceptron Classification"
   ]
  },
  {
   "cell_type": "markdown",
   "metadata": {},
   "source": [
    "### Section 5.a: Generate the various acrchitectures with varying Hidden Layer Size and varying Neurons"
   ]
  },
  {
   "cell_type": "code",
   "execution_count": 43,
   "metadata": {},
   "outputs": [
    {
     "data": {
      "text/plain": [
       "[(151,),\n",
       " (151, 101),\n",
       " (151, 101, 67),\n",
       " (151, 101, 67, 45),\n",
       " (151, 101, 67, 45, 30),\n",
       " (151, 101, 67, 45, 30, 20),\n",
       " (151, 101, 67, 45, 30, 20, 13),\n",
       " (151, 101, 67, 45, 30, 20, 13, 9),\n",
       " (151, 101, 67, 45, 30, 20, 13, 9, 6),\n",
       " (151, 101, 67, 45, 30, 20, 13, 9, 6, 4),\n",
       " (151, 101, 67, 45, 30, 20, 13, 9, 6, 4, 3),\n",
       " (151, 101, 67, 45, 30, 20, 13, 9, 6, 4, 3, 2)]"
      ]
     },
     "execution_count": 43,
     "metadata": {},
     "output_type": "execute_result"
    }
   ],
   "source": [
    "Y = df_norm_hot_en[\"target\"]\n",
    "X = df_norm_hot_en.drop(\"target\", axis=1)\n",
    "Input_features = X.shape[1]\n",
    "hidden_Architecture =[]\n",
    "t_3n = []\n",
    "f = two_third(Input_features)\n",
    "hid_architecture = []\n",
    "ln =len(f)-1\n",
    "for i in range(ln):\n",
    "    if i==0:\n",
    "        hid_architecture.append(tuple(f[0:1]))\n",
    "    else:\n",
    "        hid_architecture.append(tuple(f[0:i+1]))\n",
    "hid_architecture"
   ]
  },
  {
   "cell_type": "markdown",
   "metadata": {},
   "source": [
    "### Section 5.b: Train and Test the MLP for the various architectures and iterations"
   ]
  },
  {
   "cell_type": "markdown",
   "metadata": {},
   "source": [
    "##### Section 5.b.1: MLP with hid_architecture (above output cell), and epochs of [10,20,25,50,70,100,200]"
   ]
  },
  {
   "cell_type": "code",
   "execution_count": 48,
   "metadata": {
    "collapsed": true
   },
   "outputs": [
    {
     "name": "stderr",
     "output_type": "stream",
     "text": [
      "C:\\Users\\nishant.l\\AppData\\Local\\Continuum\\anaconda3\\lib\\site-packages\\sklearn\\neural_network\\_multilayer_perceptron.py:571: ConvergenceWarning: Stochastic Optimizer: Maximum iterations (10) reached and the optimization hasn't converged yet.\n",
      "  % self.max_iter, ConvergenceWarning)\n",
      "C:\\Users\\nishant.l\\AppData\\Local\\Continuum\\anaconda3\\lib\\site-packages\\sklearn\\neural_network\\_multilayer_perceptron.py:571: ConvergenceWarning: Stochastic Optimizer: Maximum iterations (10) reached and the optimization hasn't converged yet.\n",
      "  % self.max_iter, ConvergenceWarning)\n",
      "C:\\Users\\nishant.l\\AppData\\Local\\Continuum\\anaconda3\\lib\\site-packages\\sklearn\\neural_network\\_multilayer_perceptron.py:571: ConvergenceWarning: Stochastic Optimizer: Maximum iterations (10) reached and the optimization hasn't converged yet.\n",
      "  % self.max_iter, ConvergenceWarning)\n",
      "C:\\Users\\nishant.l\\AppData\\Local\\Continuum\\anaconda3\\lib\\site-packages\\sklearn\\metrics\\_classification.py:1272: UndefinedMetricWarning: Precision and F-score are ill-defined and being set to 0.0 in labels with no predicted samples. Use `zero_division` parameter to control this behavior.\n",
      "  _warn_prf(average, modifier, msg_start, len(result))\n",
      "C:\\Users\\nishant.l\\AppData\\Local\\Continuum\\anaconda3\\lib\\site-packages\\ipykernel_launcher.py:51: RuntimeWarning: invalid value encountered in longlong_scalars\n",
      "C:\\Users\\nishant.l\\AppData\\Local\\Continuum\\anaconda3\\lib\\site-packages\\sklearn\\neural_network\\_multilayer_perceptron.py:571: ConvergenceWarning: Stochastic Optimizer: Maximum iterations (20) reached and the optimization hasn't converged yet.\n",
      "  % self.max_iter, ConvergenceWarning)\n",
      "C:\\Users\\nishant.l\\AppData\\Local\\Continuum\\anaconda3\\lib\\site-packages\\sklearn\\metrics\\_classification.py:1272: UndefinedMetricWarning: Precision and F-score are ill-defined and being set to 0.0 in labels with no predicted samples. Use `zero_division` parameter to control this behavior.\n",
      "  _warn_prf(average, modifier, msg_start, len(result))\n",
      "C:\\Users\\nishant.l\\AppData\\Local\\Continuum\\anaconda3\\lib\\site-packages\\ipykernel_launcher.py:50: RuntimeWarning: invalid value encountered in longlong_scalars\n",
      "C:\\Users\\nishant.l\\AppData\\Local\\Continuum\\anaconda3\\lib\\site-packages\\sklearn\\neural_network\\_multilayer_perceptron.py:571: ConvergenceWarning: Stochastic Optimizer: Maximum iterations (25) reached and the optimization hasn't converged yet.\n",
      "  % self.max_iter, ConvergenceWarning)\n",
      "C:\\Users\\nishant.l\\AppData\\Local\\Continuum\\anaconda3\\lib\\site-packages\\sklearn\\metrics\\_classification.py:1272: UndefinedMetricWarning: Precision and F-score are ill-defined and being set to 0.0 in labels with no predicted samples. Use `zero_division` parameter to control this behavior.\n",
      "  _warn_prf(average, modifier, msg_start, len(result))\n",
      "C:\\Users\\nishant.l\\AppData\\Local\\Continuum\\anaconda3\\lib\\site-packages\\ipykernel_launcher.py:51: RuntimeWarning: invalid value encountered in longlong_scalars\n",
      "C:\\Users\\nishant.l\\AppData\\Local\\Continuum\\anaconda3\\lib\\site-packages\\sklearn\\metrics\\_classification.py:1272: UndefinedMetricWarning: Precision and F-score are ill-defined and being set to 0.0 in labels with no predicted samples. Use `zero_division` parameter to control this behavior.\n",
      "  _warn_prf(average, modifier, msg_start, len(result))\n",
      "C:\\Users\\nishant.l\\AppData\\Local\\Continuum\\anaconda3\\lib\\site-packages\\ipykernel_launcher.py:50: RuntimeWarning: invalid value encountered in longlong_scalars\n",
      "C:\\Users\\nishant.l\\AppData\\Local\\Continuum\\anaconda3\\lib\\site-packages\\sklearn\\metrics\\_classification.py:1272: UndefinedMetricWarning: Precision and F-score are ill-defined and being set to 0.0 in labels with no predicted samples. Use `zero_division` parameter to control this behavior.\n",
      "  _warn_prf(average, modifier, msg_start, len(result))\n",
      "C:\\Users\\nishant.l\\AppData\\Local\\Continuum\\anaconda3\\lib\\site-packages\\ipykernel_launcher.py:50: RuntimeWarning: invalid value encountered in longlong_scalars\n",
      "C:\\Users\\nishant.l\\AppData\\Local\\Continuum\\anaconda3\\lib\\site-packages\\sklearn\\metrics\\_classification.py:1272: UndefinedMetricWarning: Precision and F-score are ill-defined and being set to 0.0 in labels with no predicted samples. Use `zero_division` parameter to control this behavior.\n",
      "  _warn_prf(average, modifier, msg_start, len(result))\n",
      "C:\\Users\\nishant.l\\AppData\\Local\\Continuum\\anaconda3\\lib\\site-packages\\ipykernel_launcher.py:50: RuntimeWarning: invalid value encountered in longlong_scalars\n",
      "C:\\Users\\nishant.l\\AppData\\Local\\Continuum\\anaconda3\\lib\\site-packages\\sklearn\\metrics\\_classification.py:1272: UndefinedMetricWarning: Precision and F-score are ill-defined and being set to 0.0 in labels with no predicted samples. Use `zero_division` parameter to control this behavior.\n",
      "  _warn_prf(average, modifier, msg_start, len(result))\n",
      "C:\\Users\\nishant.l\\AppData\\Local\\Continuum\\anaconda3\\lib\\site-packages\\ipykernel_launcher.py:50: RuntimeWarning: invalid value encountered in longlong_scalars\n",
      "C:\\Users\\nishant.l\\AppData\\Local\\Continuum\\anaconda3\\lib\\site-packages\\sklearn\\neural_network\\_multilayer_perceptron.py:571: ConvergenceWarning: Stochastic Optimizer: Maximum iterations (10) reached and the optimization hasn't converged yet.\n",
      "  % self.max_iter, ConvergenceWarning)\n",
      "C:\\Users\\nishant.l\\AppData\\Local\\Continuum\\anaconda3\\lib\\site-packages\\sklearn\\metrics\\_classification.py:1272: UndefinedMetricWarning: Precision and F-score are ill-defined and being set to 0.0 in labels with no predicted samples. Use `zero_division` parameter to control this behavior.\n",
      "  _warn_prf(average, modifier, msg_start, len(result))\n",
      "C:\\Users\\nishant.l\\AppData\\Local\\Continuum\\anaconda3\\lib\\site-packages\\ipykernel_launcher.py:50: RuntimeWarning: invalid value encountered in longlong_scalars\n",
      "C:\\Users\\nishant.l\\AppData\\Local\\Continuum\\anaconda3\\lib\\site-packages\\sklearn\\metrics\\_classification.py:1272: UndefinedMetricWarning: Precision and F-score are ill-defined and being set to 0.0 in labels with no predicted samples. Use `zero_division` parameter to control this behavior.\n",
      "  _warn_prf(average, modifier, msg_start, len(result))\n",
      "C:\\Users\\nishant.l\\AppData\\Local\\Continuum\\anaconda3\\lib\\site-packages\\ipykernel_launcher.py:50: RuntimeWarning: invalid value encountered in longlong_scalars\n",
      "C:\\Users\\nishant.l\\AppData\\Local\\Continuum\\anaconda3\\lib\\site-packages\\sklearn\\metrics\\_classification.py:1272: UndefinedMetricWarning: Precision and F-score are ill-defined and being set to 0.0 in labels with no predicted samples. Use `zero_division` parameter to control this behavior.\n",
      "  _warn_prf(average, modifier, msg_start, len(result))\n",
      "C:\\Users\\nishant.l\\AppData\\Local\\Continuum\\anaconda3\\lib\\site-packages\\ipykernel_launcher.py:50: RuntimeWarning: invalid value encountered in longlong_scalars\n",
      "C:\\Users\\nishant.l\\AppData\\Local\\Continuum\\anaconda3\\lib\\site-packages\\sklearn\\metrics\\_classification.py:1272: UndefinedMetricWarning: Precision and F-score are ill-defined and being set to 0.0 in labels with no predicted samples. Use `zero_division` parameter to control this behavior.\n",
      "  _warn_prf(average, modifier, msg_start, len(result))\n",
      "C:\\Users\\nishant.l\\AppData\\Local\\Continuum\\anaconda3\\lib\\site-packages\\ipykernel_launcher.py:50: RuntimeWarning: invalid value encountered in longlong_scalars\n",
      "C:\\Users\\nishant.l\\AppData\\Local\\Continuum\\anaconda3\\lib\\site-packages\\sklearn\\metrics\\_classification.py:1272: UndefinedMetricWarning: Precision and F-score are ill-defined and being set to 0.0 in labels with no predicted samples. Use `zero_division` parameter to control this behavior.\n",
      "  _warn_prf(average, modifier, msg_start, len(result))\n",
      "C:\\Users\\nishant.l\\AppData\\Local\\Continuum\\anaconda3\\lib\\site-packages\\ipykernel_launcher.py:50: RuntimeWarning: invalid value encountered in longlong_scalars\n",
      "C:\\Users\\nishant.l\\AppData\\Local\\Continuum\\anaconda3\\lib\\site-packages\\sklearn\\metrics\\_classification.py:1272: UndefinedMetricWarning: Precision and F-score are ill-defined and being set to 0.0 in labels with no predicted samples. Use `zero_division` parameter to control this behavior.\n",
      "  _warn_prf(average, modifier, msg_start, len(result))\n",
      "C:\\Users\\nishant.l\\AppData\\Local\\Continuum\\anaconda3\\lib\\site-packages\\ipykernel_launcher.py:50: RuntimeWarning: invalid value encountered in longlong_scalars\n"
     ]
    },
    {
     "name": "stderr",
     "output_type": "stream",
     "text": [
      "C:\\Users\\nishant.l\\AppData\\Local\\Continuum\\anaconda3\\lib\\site-packages\\sklearn\\neural_network\\_multilayer_perceptron.py:571: ConvergenceWarning: Stochastic Optimizer: Maximum iterations (10) reached and the optimization hasn't converged yet.\n",
      "  % self.max_iter, ConvergenceWarning)\n",
      "C:\\Users\\nishant.l\\AppData\\Local\\Continuum\\anaconda3\\lib\\site-packages\\sklearn\\metrics\\_classification.py:1272: UndefinedMetricWarning: Precision and F-score are ill-defined and being set to 0.0 in labels with no predicted samples. Use `zero_division` parameter to control this behavior.\n",
      "  _warn_prf(average, modifier, msg_start, len(result))\n",
      "C:\\Users\\nishant.l\\AppData\\Local\\Continuum\\anaconda3\\lib\\site-packages\\ipykernel_launcher.py:51: RuntimeWarning: invalid value encountered in longlong_scalars\n",
      "C:\\Users\\nishant.l\\AppData\\Local\\Continuum\\anaconda3\\lib\\site-packages\\sklearn\\neural_network\\_multilayer_perceptron.py:571: ConvergenceWarning: Stochastic Optimizer: Maximum iterations (20) reached and the optimization hasn't converged yet.\n",
      "  % self.max_iter, ConvergenceWarning)\n",
      "C:\\Users\\nishant.l\\AppData\\Local\\Continuum\\anaconda3\\lib\\site-packages\\sklearn\\metrics\\_classification.py:1272: UndefinedMetricWarning: Precision and F-score are ill-defined and being set to 0.0 in labels with no predicted samples. Use `zero_division` parameter to control this behavior.\n",
      "  _warn_prf(average, modifier, msg_start, len(result))\n",
      "C:\\Users\\nishant.l\\AppData\\Local\\Continuum\\anaconda3\\lib\\site-packages\\ipykernel_launcher.py:51: RuntimeWarning: invalid value encountered in longlong_scalars\n",
      "C:\\Users\\nishant.l\\AppData\\Local\\Continuum\\anaconda3\\lib\\site-packages\\sklearn\\neural_network\\_multilayer_perceptron.py:571: ConvergenceWarning: Stochastic Optimizer: Maximum iterations (25) reached and the optimization hasn't converged yet.\n",
      "  % self.max_iter, ConvergenceWarning)\n",
      "C:\\Users\\nishant.l\\AppData\\Local\\Continuum\\anaconda3\\lib\\site-packages\\sklearn\\metrics\\_classification.py:1272: UndefinedMetricWarning: Precision and F-score are ill-defined and being set to 0.0 in labels with no predicted samples. Use `zero_division` parameter to control this behavior.\n",
      "  _warn_prf(average, modifier, msg_start, len(result))\n",
      "C:\\Users\\nishant.l\\AppData\\Local\\Continuum\\anaconda3\\lib\\site-packages\\ipykernel_launcher.py:51: RuntimeWarning: invalid value encountered in longlong_scalars\n",
      "C:\\Users\\nishant.l\\AppData\\Local\\Continuum\\anaconda3\\lib\\site-packages\\sklearn\\metrics\\_classification.py:1272: UndefinedMetricWarning: Precision and F-score are ill-defined and being set to 0.0 in labels with no predicted samples. Use `zero_division` parameter to control this behavior.\n",
      "  _warn_prf(average, modifier, msg_start, len(result))\n",
      "C:\\Users\\nishant.l\\AppData\\Local\\Continuum\\anaconda3\\lib\\site-packages\\ipykernel_launcher.py:50: RuntimeWarning: invalid value encountered in longlong_scalars\n",
      "C:\\Users\\nishant.l\\AppData\\Local\\Continuum\\anaconda3\\lib\\site-packages\\sklearn\\metrics\\_classification.py:1272: UndefinedMetricWarning: Precision and F-score are ill-defined and being set to 0.0 in labels with no predicted samples. Use `zero_division` parameter to control this behavior.\n",
      "  _warn_prf(average, modifier, msg_start, len(result))\n",
      "C:\\Users\\nishant.l\\AppData\\Local\\Continuum\\anaconda3\\lib\\site-packages\\ipykernel_launcher.py:50: RuntimeWarning: invalid value encountered in longlong_scalars\n",
      "C:\\Users\\nishant.l\\AppData\\Local\\Continuum\\anaconda3\\lib\\site-packages\\sklearn\\metrics\\_classification.py:1272: UndefinedMetricWarning: Precision and F-score are ill-defined and being set to 0.0 in labels with no predicted samples. Use `zero_division` parameter to control this behavior.\n",
      "  _warn_prf(average, modifier, msg_start, len(result))\n",
      "C:\\Users\\nishant.l\\AppData\\Local\\Continuum\\anaconda3\\lib\\site-packages\\ipykernel_launcher.py:50: RuntimeWarning: invalid value encountered in longlong_scalars\n",
      "C:\\Users\\nishant.l\\AppData\\Local\\Continuum\\anaconda3\\lib\\site-packages\\sklearn\\metrics\\_classification.py:1272: UndefinedMetricWarning: Precision and F-score are ill-defined and being set to 0.0 in labels with no predicted samples. Use `zero_division` parameter to control this behavior.\n",
      "  _warn_prf(average, modifier, msg_start, len(result))\n",
      "C:\\Users\\nishant.l\\AppData\\Local\\Continuum\\anaconda3\\lib\\site-packages\\ipykernel_launcher.py:50: RuntimeWarning: invalid value encountered in longlong_scalars\n",
      "C:\\Users\\nishant.l\\AppData\\Local\\Continuum\\anaconda3\\lib\\site-packages\\sklearn\\neural_network\\_multilayer_perceptron.py:571: ConvergenceWarning: Stochastic Optimizer: Maximum iterations (10) reached and the optimization hasn't converged yet.\n",
      "  % self.max_iter, ConvergenceWarning)\n",
      "C:\\Users\\nishant.l\\AppData\\Local\\Continuum\\anaconda3\\lib\\site-packages\\sklearn\\metrics\\_classification.py:1272: UndefinedMetricWarning: Precision and F-score are ill-defined and being set to 0.0 in labels with no predicted samples. Use `zero_division` parameter to control this behavior.\n",
      "  _warn_prf(average, modifier, msg_start, len(result))\n",
      "C:\\Users\\nishant.l\\AppData\\Local\\Continuum\\anaconda3\\lib\\site-packages\\ipykernel_launcher.py:50: RuntimeWarning: invalid value encountered in longlong_scalars\n",
      "C:\\Users\\nishant.l\\AppData\\Local\\Continuum\\anaconda3\\lib\\site-packages\\sklearn\\neural_network\\_multilayer_perceptron.py:571: ConvergenceWarning: Stochastic Optimizer: Maximum iterations (20) reached and the optimization hasn't converged yet.\n",
      "  % self.max_iter, ConvergenceWarning)\n",
      "C:\\Users\\nishant.l\\AppData\\Local\\Continuum\\anaconda3\\lib\\site-packages\\sklearn\\metrics\\_classification.py:1272: UndefinedMetricWarning: Precision and F-score are ill-defined and being set to 0.0 in labels with no predicted samples. Use `zero_division` parameter to control this behavior.\n",
      "  _warn_prf(average, modifier, msg_start, len(result))\n",
      "C:\\Users\\nishant.l\\AppData\\Local\\Continuum\\anaconda3\\lib\\site-packages\\ipykernel_launcher.py:50: RuntimeWarning: invalid value encountered in longlong_scalars\n",
      "C:\\Users\\nishant.l\\AppData\\Local\\Continuum\\anaconda3\\lib\\site-packages\\sklearn\\neural_network\\_multilayer_perceptron.py:571: ConvergenceWarning: Stochastic Optimizer: Maximum iterations (25) reached and the optimization hasn't converged yet.\n",
      "  % self.max_iter, ConvergenceWarning)\n",
      "C:\\Users\\nishant.l\\AppData\\Local\\Continuum\\anaconda3\\lib\\site-packages\\sklearn\\metrics\\_classification.py:1272: UndefinedMetricWarning: Precision and F-score are ill-defined and being set to 0.0 in labels with no predicted samples. Use `zero_division` parameter to control this behavior.\n",
      "  _warn_prf(average, modifier, msg_start, len(result))\n",
      "C:\\Users\\nishant.l\\AppData\\Local\\Continuum\\anaconda3\\lib\\site-packages\\ipykernel_launcher.py:51: RuntimeWarning: invalid value encountered in longlong_scalars\n",
      "C:\\Users\\nishant.l\\AppData\\Local\\Continuum\\anaconda3\\lib\\site-packages\\sklearn\\metrics\\_classification.py:1272: UndefinedMetricWarning: Precision and F-score are ill-defined and being set to 0.0 in labels with no predicted samples. Use `zero_division` parameter to control this behavior.\n",
      "  _warn_prf(average, modifier, msg_start, len(result))\n",
      "C:\\Users\\nishant.l\\AppData\\Local\\Continuum\\anaconda3\\lib\\site-packages\\ipykernel_launcher.py:50: RuntimeWarning: invalid value encountered in longlong_scalars\n",
      "C:\\Users\\nishant.l\\AppData\\Local\\Continuum\\anaconda3\\lib\\site-packages\\sklearn\\metrics\\_classification.py:1272: UndefinedMetricWarning: Precision and F-score are ill-defined and being set to 0.0 in labels with no predicted samples. Use `zero_division` parameter to control this behavior.\n",
      "  _warn_prf(average, modifier, msg_start, len(result))\n",
      "C:\\Users\\nishant.l\\AppData\\Local\\Continuum\\anaconda3\\lib\\site-packages\\ipykernel_launcher.py:50: RuntimeWarning: invalid value encountered in longlong_scalars\n",
      "C:\\Users\\nishant.l\\AppData\\Local\\Continuum\\anaconda3\\lib\\site-packages\\sklearn\\metrics\\_classification.py:1272: UndefinedMetricWarning: Precision and F-score are ill-defined and being set to 0.0 in labels with no predicted samples. Use `zero_division` parameter to control this behavior.\n",
      "  _warn_prf(average, modifier, msg_start, len(result))\n",
      "C:\\Users\\nishant.l\\AppData\\Local\\Continuum\\anaconda3\\lib\\site-packages\\ipykernel_launcher.py:50: RuntimeWarning: invalid value encountered in longlong_scalars\n"
     ]
    },
    {
     "name": "stderr",
     "output_type": "stream",
     "text": [
      "C:\\Users\\nishant.l\\AppData\\Local\\Continuum\\anaconda3\\lib\\site-packages\\sklearn\\metrics\\_classification.py:1272: UndefinedMetricWarning: Precision and F-score are ill-defined and being set to 0.0 in labels with no predicted samples. Use `zero_division` parameter to control this behavior.\n",
      "  _warn_prf(average, modifier, msg_start, len(result))\n",
      "C:\\Users\\nishant.l\\AppData\\Local\\Continuum\\anaconda3\\lib\\site-packages\\ipykernel_launcher.py:50: RuntimeWarning: invalid value encountered in longlong_scalars\n",
      "C:\\Users\\nishant.l\\AppData\\Local\\Continuum\\anaconda3\\lib\\site-packages\\sklearn\\neural_network\\_multilayer_perceptron.py:571: ConvergenceWarning: Stochastic Optimizer: Maximum iterations (10) reached and the optimization hasn't converged yet.\n",
      "  % self.max_iter, ConvergenceWarning)\n",
      "C:\\Users\\nishant.l\\AppData\\Local\\Continuum\\anaconda3\\lib\\site-packages\\sklearn\\metrics\\_classification.py:1272: UndefinedMetricWarning: Precision and F-score are ill-defined and being set to 0.0 in labels with no predicted samples. Use `zero_division` parameter to control this behavior.\n",
      "  _warn_prf(average, modifier, msg_start, len(result))\n",
      "C:\\Users\\nishant.l\\AppData\\Local\\Continuum\\anaconda3\\lib\\site-packages\\ipykernel_launcher.py:50: RuntimeWarning: invalid value encountered in longlong_scalars\n",
      "C:\\Users\\nishant.l\\AppData\\Local\\Continuum\\anaconda3\\lib\\site-packages\\sklearn\\neural_network\\_multilayer_perceptron.py:571: ConvergenceWarning: Stochastic Optimizer: Maximum iterations (20) reached and the optimization hasn't converged yet.\n",
      "  % self.max_iter, ConvergenceWarning)\n",
      "C:\\Users\\nishant.l\\AppData\\Local\\Continuum\\anaconda3\\lib\\site-packages\\sklearn\\metrics\\_classification.py:1272: UndefinedMetricWarning: Precision and F-score are ill-defined and being set to 0.0 in labels with no predicted samples. Use `zero_division` parameter to control this behavior.\n",
      "  _warn_prf(average, modifier, msg_start, len(result))\n",
      "C:\\Users\\nishant.l\\AppData\\Local\\Continuum\\anaconda3\\lib\\site-packages\\ipykernel_launcher.py:51: RuntimeWarning: invalid value encountered in longlong_scalars\n",
      "C:\\Users\\nishant.l\\AppData\\Local\\Continuum\\anaconda3\\lib\\site-packages\\sklearn\\neural_network\\_multilayer_perceptron.py:571: ConvergenceWarning: Stochastic Optimizer: Maximum iterations (25) reached and the optimization hasn't converged yet.\n",
      "  % self.max_iter, ConvergenceWarning)\n",
      "C:\\Users\\nishant.l\\AppData\\Local\\Continuum\\anaconda3\\lib\\site-packages\\sklearn\\metrics\\_classification.py:1272: UndefinedMetricWarning: Precision and F-score are ill-defined and being set to 0.0 in labels with no predicted samples. Use `zero_division` parameter to control this behavior.\n",
      "  _warn_prf(average, modifier, msg_start, len(result))\n",
      "C:\\Users\\nishant.l\\AppData\\Local\\Continuum\\anaconda3\\lib\\site-packages\\ipykernel_launcher.py:50: RuntimeWarning: invalid value encountered in longlong_scalars\n",
      "C:\\Users\\nishant.l\\AppData\\Local\\Continuum\\anaconda3\\lib\\site-packages\\sklearn\\metrics\\_classification.py:1272: UndefinedMetricWarning: Precision and F-score are ill-defined and being set to 0.0 in labels with no predicted samples. Use `zero_division` parameter to control this behavior.\n",
      "  _warn_prf(average, modifier, msg_start, len(result))\n",
      "C:\\Users\\nishant.l\\AppData\\Local\\Continuum\\anaconda3\\lib\\site-packages\\ipykernel_launcher.py:51: RuntimeWarning: invalid value encountered in longlong_scalars\n",
      "C:\\Users\\nishant.l\\AppData\\Local\\Continuum\\anaconda3\\lib\\site-packages\\sklearn\\metrics\\_classification.py:1272: UndefinedMetricWarning: Precision and F-score are ill-defined and being set to 0.0 in labels with no predicted samples. Use `zero_division` parameter to control this behavior.\n",
      "  _warn_prf(average, modifier, msg_start, len(result))\n",
      "C:\\Users\\nishant.l\\AppData\\Local\\Continuum\\anaconda3\\lib\\site-packages\\ipykernel_launcher.py:51: RuntimeWarning: invalid value encountered in longlong_scalars\n",
      "C:\\Users\\nishant.l\\AppData\\Local\\Continuum\\anaconda3\\lib\\site-packages\\sklearn\\metrics\\_classification.py:1272: UndefinedMetricWarning: Precision and F-score are ill-defined and being set to 0.0 in labels with no predicted samples. Use `zero_division` parameter to control this behavior.\n",
      "  _warn_prf(average, modifier, msg_start, len(result))\n",
      "C:\\Users\\nishant.l\\AppData\\Local\\Continuum\\anaconda3\\lib\\site-packages\\ipykernel_launcher.py:51: RuntimeWarning: invalid value encountered in longlong_scalars\n",
      "C:\\Users\\nishant.l\\AppData\\Local\\Continuum\\anaconda3\\lib\\site-packages\\sklearn\\metrics\\_classification.py:1272: UndefinedMetricWarning: Precision and F-score are ill-defined and being set to 0.0 in labels with no predicted samples. Use `zero_division` parameter to control this behavior.\n",
      "  _warn_prf(average, modifier, msg_start, len(result))\n",
      "C:\\Users\\nishant.l\\AppData\\Local\\Continuum\\anaconda3\\lib\\site-packages\\ipykernel_launcher.py:51: RuntimeWarning: invalid value encountered in longlong_scalars\n",
      "C:\\Users\\nishant.l\\AppData\\Local\\Continuum\\anaconda3\\lib\\site-packages\\sklearn\\neural_network\\_multilayer_perceptron.py:571: ConvergenceWarning: Stochastic Optimizer: Maximum iterations (10) reached and the optimization hasn't converged yet.\n",
      "  % self.max_iter, ConvergenceWarning)\n",
      "C:\\Users\\nishant.l\\AppData\\Local\\Continuum\\anaconda3\\lib\\site-packages\\sklearn\\metrics\\_classification.py:1272: UndefinedMetricWarning: Precision and F-score are ill-defined and being set to 0.0 in labels with no predicted samples. Use `zero_division` parameter to control this behavior.\n",
      "  _warn_prf(average, modifier, msg_start, len(result))\n",
      "C:\\Users\\nishant.l\\AppData\\Local\\Continuum\\anaconda3\\lib\\site-packages\\ipykernel_launcher.py:51: RuntimeWarning: invalid value encountered in longlong_scalars\n",
      "C:\\Users\\nishant.l\\AppData\\Local\\Continuum\\anaconda3\\lib\\site-packages\\sklearn\\neural_network\\_multilayer_perceptron.py:571: ConvergenceWarning: Stochastic Optimizer: Maximum iterations (20) reached and the optimization hasn't converged yet.\n",
      "  % self.max_iter, ConvergenceWarning)\n",
      "C:\\Users\\nishant.l\\AppData\\Local\\Continuum\\anaconda3\\lib\\site-packages\\sklearn\\metrics\\_classification.py:1272: UndefinedMetricWarning: Precision and F-score are ill-defined and being set to 0.0 in labels with no predicted samples. Use `zero_division` parameter to control this behavior.\n",
      "  _warn_prf(average, modifier, msg_start, len(result))\n",
      "C:\\Users\\nishant.l\\AppData\\Local\\Continuum\\anaconda3\\lib\\site-packages\\ipykernel_launcher.py:51: RuntimeWarning: invalid value encountered in longlong_scalars\n",
      "C:\\Users\\nishant.l\\AppData\\Local\\Continuum\\anaconda3\\lib\\site-packages\\sklearn\\neural_network\\_multilayer_perceptron.py:571: ConvergenceWarning: Stochastic Optimizer: Maximum iterations (25) reached and the optimization hasn't converged yet.\n",
      "  % self.max_iter, ConvergenceWarning)\n",
      "C:\\Users\\nishant.l\\AppData\\Local\\Continuum\\anaconda3\\lib\\site-packages\\sklearn\\metrics\\_classification.py:1272: UndefinedMetricWarning: Precision and F-score are ill-defined and being set to 0.0 in labels with no predicted samples. Use `zero_division` parameter to control this behavior.\n",
      "  _warn_prf(average, modifier, msg_start, len(result))\n",
      "C:\\Users\\nishant.l\\AppData\\Local\\Continuum\\anaconda3\\lib\\site-packages\\ipykernel_launcher.py:50: RuntimeWarning: invalid value encountered in longlong_scalars\n",
      "C:\\Users\\nishant.l\\AppData\\Local\\Continuum\\anaconda3\\lib\\site-packages\\sklearn\\metrics\\_classification.py:1272: UndefinedMetricWarning: Precision and F-score are ill-defined and being set to 0.0 in labels with no predicted samples. Use `zero_division` parameter to control this behavior.\n",
      "  _warn_prf(average, modifier, msg_start, len(result))\n",
      "C:\\Users\\nishant.l\\AppData\\Local\\Continuum\\anaconda3\\lib\\site-packages\\ipykernel_launcher.py:51: RuntimeWarning: invalid value encountered in longlong_scalars\n",
      "C:\\Users\\nishant.l\\AppData\\Local\\Continuum\\anaconda3\\lib\\site-packages\\sklearn\\metrics\\_classification.py:1272: UndefinedMetricWarning: Precision and F-score are ill-defined and being set to 0.0 in labels with no predicted samples. Use `zero_division` parameter to control this behavior.\n",
      "  _warn_prf(average, modifier, msg_start, len(result))\n",
      "C:\\Users\\nishant.l\\AppData\\Local\\Continuum\\anaconda3\\lib\\site-packages\\ipykernel_launcher.py:51: RuntimeWarning: invalid value encountered in longlong_scalars\n"
     ]
    },
    {
     "name": "stderr",
     "output_type": "stream",
     "text": [
      "C:\\Users\\nishant.l\\AppData\\Local\\Continuum\\anaconda3\\lib\\site-packages\\sklearn\\metrics\\_classification.py:1272: UndefinedMetricWarning: Precision and F-score are ill-defined and being set to 0.0 in labels with no predicted samples. Use `zero_division` parameter to control this behavior.\n",
      "  _warn_prf(average, modifier, msg_start, len(result))\n",
      "C:\\Users\\nishant.l\\AppData\\Local\\Continuum\\anaconda3\\lib\\site-packages\\ipykernel_launcher.py:51: RuntimeWarning: invalid value encountered in longlong_scalars\n",
      "C:\\Users\\nishant.l\\AppData\\Local\\Continuum\\anaconda3\\lib\\site-packages\\sklearn\\metrics\\_classification.py:1272: UndefinedMetricWarning: Precision and F-score are ill-defined and being set to 0.0 in labels with no predicted samples. Use `zero_division` parameter to control this behavior.\n",
      "  _warn_prf(average, modifier, msg_start, len(result))\n",
      "C:\\Users\\nishant.l\\AppData\\Local\\Continuum\\anaconda3\\lib\\site-packages\\ipykernel_launcher.py:51: RuntimeWarning: invalid value encountered in longlong_scalars\n",
      "C:\\Users\\nishant.l\\AppData\\Local\\Continuum\\anaconda3\\lib\\site-packages\\sklearn\\neural_network\\_multilayer_perceptron.py:571: ConvergenceWarning: Stochastic Optimizer: Maximum iterations (10) reached and the optimization hasn't converged yet.\n",
      "  % self.max_iter, ConvergenceWarning)\n",
      "C:\\Users\\nishant.l\\AppData\\Local\\Continuum\\anaconda3\\lib\\site-packages\\sklearn\\metrics\\_classification.py:1272: UndefinedMetricWarning: Precision and F-score are ill-defined and being set to 0.0 in labels with no predicted samples. Use `zero_division` parameter to control this behavior.\n",
      "  _warn_prf(average, modifier, msg_start, len(result))\n",
      "C:\\Users\\nishant.l\\AppData\\Local\\Continuum\\anaconda3\\lib\\site-packages\\ipykernel_launcher.py:51: RuntimeWarning: invalid value encountered in longlong_scalars\n",
      "C:\\Users\\nishant.l\\AppData\\Local\\Continuum\\anaconda3\\lib\\site-packages\\sklearn\\neural_network\\_multilayer_perceptron.py:571: ConvergenceWarning: Stochastic Optimizer: Maximum iterations (20) reached and the optimization hasn't converged yet.\n",
      "  % self.max_iter, ConvergenceWarning)\n",
      "C:\\Users\\nishant.l\\AppData\\Local\\Continuum\\anaconda3\\lib\\site-packages\\sklearn\\metrics\\_classification.py:1272: UndefinedMetricWarning: Precision and F-score are ill-defined and being set to 0.0 in labels with no predicted samples. Use `zero_division` parameter to control this behavior.\n",
      "  _warn_prf(average, modifier, msg_start, len(result))\n",
      "C:\\Users\\nishant.l\\AppData\\Local\\Continuum\\anaconda3\\lib\\site-packages\\ipykernel_launcher.py:50: RuntimeWarning: invalid value encountered in longlong_scalars\n",
      "C:\\Users\\nishant.l\\AppData\\Local\\Continuum\\anaconda3\\lib\\site-packages\\sklearn\\neural_network\\_multilayer_perceptron.py:571: ConvergenceWarning: Stochastic Optimizer: Maximum iterations (25) reached and the optimization hasn't converged yet.\n",
      "  % self.max_iter, ConvergenceWarning)\n",
      "C:\\Users\\nishant.l\\AppData\\Local\\Continuum\\anaconda3\\lib\\site-packages\\sklearn\\metrics\\_classification.py:1272: UndefinedMetricWarning: Precision and F-score are ill-defined and being set to 0.0 in labels with no predicted samples. Use `zero_division` parameter to control this behavior.\n",
      "  _warn_prf(average, modifier, msg_start, len(result))\n",
      "C:\\Users\\nishant.l\\AppData\\Local\\Continuum\\anaconda3\\lib\\site-packages\\ipykernel_launcher.py:51: RuntimeWarning: invalid value encountered in longlong_scalars\n",
      "C:\\Users\\nishant.l\\AppData\\Local\\Continuum\\anaconda3\\lib\\site-packages\\sklearn\\metrics\\_classification.py:1272: UndefinedMetricWarning: Precision and F-score are ill-defined and being set to 0.0 in labels with no predicted samples. Use `zero_division` parameter to control this behavior.\n",
      "  _warn_prf(average, modifier, msg_start, len(result))\n",
      "C:\\Users\\nishant.l\\AppData\\Local\\Continuum\\anaconda3\\lib\\site-packages\\ipykernel_launcher.py:51: RuntimeWarning: invalid value encountered in longlong_scalars\n",
      "C:\\Users\\nishant.l\\AppData\\Local\\Continuum\\anaconda3\\lib\\site-packages\\sklearn\\metrics\\_classification.py:1272: UndefinedMetricWarning: Precision and F-score are ill-defined and being set to 0.0 in labels with no predicted samples. Use `zero_division` parameter to control this behavior.\n",
      "  _warn_prf(average, modifier, msg_start, len(result))\n",
      "C:\\Users\\nishant.l\\AppData\\Local\\Continuum\\anaconda3\\lib\\site-packages\\ipykernel_launcher.py:51: RuntimeWarning: invalid value encountered in longlong_scalars\n",
      "C:\\Users\\nishant.l\\AppData\\Local\\Continuum\\anaconda3\\lib\\site-packages\\sklearn\\metrics\\_classification.py:1272: UndefinedMetricWarning: Precision and F-score are ill-defined and being set to 0.0 in labels with no predicted samples. Use `zero_division` parameter to control this behavior.\n",
      "  _warn_prf(average, modifier, msg_start, len(result))\n",
      "C:\\Users\\nishant.l\\AppData\\Local\\Continuum\\anaconda3\\lib\\site-packages\\ipykernel_launcher.py:51: RuntimeWarning: invalid value encountered in longlong_scalars\n",
      "C:\\Users\\nishant.l\\AppData\\Local\\Continuum\\anaconda3\\lib\\site-packages\\sklearn\\metrics\\_classification.py:1272: UndefinedMetricWarning: Precision and F-score are ill-defined and being set to 0.0 in labels with no predicted samples. Use `zero_division` parameter to control this behavior.\n",
      "  _warn_prf(average, modifier, msg_start, len(result))\n",
      "C:\\Users\\nishant.l\\AppData\\Local\\Continuum\\anaconda3\\lib\\site-packages\\ipykernel_launcher.py:51: RuntimeWarning: invalid value encountered in longlong_scalars\n",
      "C:\\Users\\nishant.l\\AppData\\Local\\Continuum\\anaconda3\\lib\\site-packages\\sklearn\\neural_network\\_multilayer_perceptron.py:571: ConvergenceWarning: Stochastic Optimizer: Maximum iterations (10) reached and the optimization hasn't converged yet.\n",
      "  % self.max_iter, ConvergenceWarning)\n",
      "C:\\Users\\nishant.l\\AppData\\Local\\Continuum\\anaconda3\\lib\\site-packages\\sklearn\\metrics\\_classification.py:1272: UndefinedMetricWarning: Precision and F-score are ill-defined and being set to 0.0 in labels with no predicted samples. Use `zero_division` parameter to control this behavior.\n",
      "  _warn_prf(average, modifier, msg_start, len(result))\n",
      "C:\\Users\\nishant.l\\AppData\\Local\\Continuum\\anaconda3\\lib\\site-packages\\ipykernel_launcher.py:50: RuntimeWarning: invalid value encountered in longlong_scalars\n",
      "C:\\Users\\nishant.l\\AppData\\Local\\Continuum\\anaconda3\\lib\\site-packages\\sklearn\\neural_network\\_multilayer_perceptron.py:571: ConvergenceWarning: Stochastic Optimizer: Maximum iterations (20) reached and the optimization hasn't converged yet.\n",
      "  % self.max_iter, ConvergenceWarning)\n",
      "C:\\Users\\nishant.l\\AppData\\Local\\Continuum\\anaconda3\\lib\\site-packages\\sklearn\\metrics\\_classification.py:1272: UndefinedMetricWarning: Precision and F-score are ill-defined and being set to 0.0 in labels with no predicted samples. Use `zero_division` parameter to control this behavior.\n",
      "  _warn_prf(average, modifier, msg_start, len(result))\n",
      "C:\\Users\\nishant.l\\AppData\\Local\\Continuum\\anaconda3\\lib\\site-packages\\ipykernel_launcher.py:50: RuntimeWarning: invalid value encountered in longlong_scalars\n",
      "C:\\Users\\nishant.l\\AppData\\Local\\Continuum\\anaconda3\\lib\\site-packages\\sklearn\\neural_network\\_multilayer_perceptron.py:571: ConvergenceWarning: Stochastic Optimizer: Maximum iterations (25) reached and the optimization hasn't converged yet.\n",
      "  % self.max_iter, ConvergenceWarning)\n",
      "C:\\Users\\nishant.l\\AppData\\Local\\Continuum\\anaconda3\\lib\\site-packages\\sklearn\\metrics\\_classification.py:1272: UndefinedMetricWarning: Precision and F-score are ill-defined and being set to 0.0 in labels with no predicted samples. Use `zero_division` parameter to control this behavior.\n",
      "  _warn_prf(average, modifier, msg_start, len(result))\n",
      "C:\\Users\\nishant.l\\AppData\\Local\\Continuum\\anaconda3\\lib\\site-packages\\ipykernel_launcher.py:50: RuntimeWarning: invalid value encountered in longlong_scalars\n",
      "C:\\Users\\nishant.l\\AppData\\Local\\Continuum\\anaconda3\\lib\\site-packages\\sklearn\\metrics\\_classification.py:1272: UndefinedMetricWarning: Precision and F-score are ill-defined and being set to 0.0 in labels with no predicted samples. Use `zero_division` parameter to control this behavior.\n",
      "  _warn_prf(average, modifier, msg_start, len(result))\n",
      "C:\\Users\\nishant.l\\AppData\\Local\\Continuum\\anaconda3\\lib\\site-packages\\ipykernel_launcher.py:50: RuntimeWarning: invalid value encountered in longlong_scalars\n"
     ]
    },
    {
     "name": "stderr",
     "output_type": "stream",
     "text": [
      "C:\\Users\\nishant.l\\AppData\\Local\\Continuum\\anaconda3\\lib\\site-packages\\sklearn\\metrics\\_classification.py:1272: UndefinedMetricWarning: Precision and F-score are ill-defined and being set to 0.0 in labels with no predicted samples. Use `zero_division` parameter to control this behavior.\n",
      "  _warn_prf(average, modifier, msg_start, len(result))\n",
      "C:\\Users\\nishant.l\\AppData\\Local\\Continuum\\anaconda3\\lib\\site-packages\\ipykernel_launcher.py:50: RuntimeWarning: invalid value encountered in longlong_scalars\n",
      "C:\\Users\\nishant.l\\AppData\\Local\\Continuum\\anaconda3\\lib\\site-packages\\sklearn\\metrics\\_classification.py:1272: UndefinedMetricWarning: Precision and F-score are ill-defined and being set to 0.0 in labels with no predicted samples. Use `zero_division` parameter to control this behavior.\n",
      "  _warn_prf(average, modifier, msg_start, len(result))\n",
      "C:\\Users\\nishant.l\\AppData\\Local\\Continuum\\anaconda3\\lib\\site-packages\\ipykernel_launcher.py:50: RuntimeWarning: invalid value encountered in longlong_scalars\n",
      "C:\\Users\\nishant.l\\AppData\\Local\\Continuum\\anaconda3\\lib\\site-packages\\sklearn\\metrics\\_classification.py:1272: UndefinedMetricWarning: Precision and F-score are ill-defined and being set to 0.0 in labels with no predicted samples. Use `zero_division` parameter to control this behavior.\n",
      "  _warn_prf(average, modifier, msg_start, len(result))\n",
      "C:\\Users\\nishant.l\\AppData\\Local\\Continuum\\anaconda3\\lib\\site-packages\\ipykernel_launcher.py:50: RuntimeWarning: invalid value encountered in longlong_scalars\n",
      "C:\\Users\\nishant.l\\AppData\\Local\\Continuum\\anaconda3\\lib\\site-packages\\sklearn\\neural_network\\_multilayer_perceptron.py:571: ConvergenceWarning: Stochastic Optimizer: Maximum iterations (10) reached and the optimization hasn't converged yet.\n",
      "  % self.max_iter, ConvergenceWarning)\n",
      "C:\\Users\\nishant.l\\AppData\\Local\\Continuum\\anaconda3\\lib\\site-packages\\sklearn\\metrics\\_classification.py:1272: UndefinedMetricWarning: Precision and F-score are ill-defined and being set to 0.0 in labels with no predicted samples. Use `zero_division` parameter to control this behavior.\n",
      "  _warn_prf(average, modifier, msg_start, len(result))\n",
      "C:\\Users\\nishant.l\\AppData\\Local\\Continuum\\anaconda3\\lib\\site-packages\\ipykernel_launcher.py:51: RuntimeWarning: invalid value encountered in longlong_scalars\n",
      "C:\\Users\\nishant.l\\AppData\\Local\\Continuum\\anaconda3\\lib\\site-packages\\sklearn\\neural_network\\_multilayer_perceptron.py:571: ConvergenceWarning: Stochastic Optimizer: Maximum iterations (20) reached and the optimization hasn't converged yet.\n",
      "  % self.max_iter, ConvergenceWarning)\n",
      "C:\\Users\\nishant.l\\AppData\\Local\\Continuum\\anaconda3\\lib\\site-packages\\sklearn\\metrics\\_classification.py:1272: UndefinedMetricWarning: Precision and F-score are ill-defined and being set to 0.0 in labels with no predicted samples. Use `zero_division` parameter to control this behavior.\n",
      "  _warn_prf(average, modifier, msg_start, len(result))\n",
      "C:\\Users\\nishant.l\\AppData\\Local\\Continuum\\anaconda3\\lib\\site-packages\\ipykernel_launcher.py:50: RuntimeWarning: invalid value encountered in longlong_scalars\n",
      "C:\\Users\\nishant.l\\AppData\\Local\\Continuum\\anaconda3\\lib\\site-packages\\sklearn\\neural_network\\_multilayer_perceptron.py:571: ConvergenceWarning: Stochastic Optimizer: Maximum iterations (25) reached and the optimization hasn't converged yet.\n",
      "  % self.max_iter, ConvergenceWarning)\n",
      "C:\\Users\\nishant.l\\AppData\\Local\\Continuum\\anaconda3\\lib\\site-packages\\sklearn\\metrics\\_classification.py:1272: UndefinedMetricWarning: Precision and F-score are ill-defined and being set to 0.0 in labels with no predicted samples. Use `zero_division` parameter to control this behavior.\n",
      "  _warn_prf(average, modifier, msg_start, len(result))\n",
      "C:\\Users\\nishant.l\\AppData\\Local\\Continuum\\anaconda3\\lib\\site-packages\\ipykernel_launcher.py:50: RuntimeWarning: invalid value encountered in longlong_scalars\n",
      "C:\\Users\\nishant.l\\AppData\\Local\\Continuum\\anaconda3\\lib\\site-packages\\sklearn\\metrics\\_classification.py:1272: UndefinedMetricWarning: Precision and F-score are ill-defined and being set to 0.0 in labels with no predicted samples. Use `zero_division` parameter to control this behavior.\n",
      "  _warn_prf(average, modifier, msg_start, len(result))\n",
      "C:\\Users\\nishant.l\\AppData\\Local\\Continuum\\anaconda3\\lib\\site-packages\\ipykernel_launcher.py:51: RuntimeWarning: invalid value encountered in longlong_scalars\n",
      "C:\\Users\\nishant.l\\AppData\\Local\\Continuum\\anaconda3\\lib\\site-packages\\sklearn\\metrics\\_classification.py:1272: UndefinedMetricWarning: Precision and F-score are ill-defined and being set to 0.0 in labels with no predicted samples. Use `zero_division` parameter to control this behavior.\n",
      "  _warn_prf(average, modifier, msg_start, len(result))\n",
      "C:\\Users\\nishant.l\\AppData\\Local\\Continuum\\anaconda3\\lib\\site-packages\\ipykernel_launcher.py:51: RuntimeWarning: invalid value encountered in longlong_scalars\n",
      "C:\\Users\\nishant.l\\AppData\\Local\\Continuum\\anaconda3\\lib\\site-packages\\sklearn\\metrics\\_classification.py:1272: UndefinedMetricWarning: Precision and F-score are ill-defined and being set to 0.0 in labels with no predicted samples. Use `zero_division` parameter to control this behavior.\n",
      "  _warn_prf(average, modifier, msg_start, len(result))\n",
      "C:\\Users\\nishant.l\\AppData\\Local\\Continuum\\anaconda3\\lib\\site-packages\\ipykernel_launcher.py:51: RuntimeWarning: invalid value encountered in longlong_scalars\n",
      "C:\\Users\\nishant.l\\AppData\\Local\\Continuum\\anaconda3\\lib\\site-packages\\sklearn\\metrics\\_classification.py:1272: UndefinedMetricWarning: Precision and F-score are ill-defined and being set to 0.0 in labels with no predicted samples. Use `zero_division` parameter to control this behavior.\n",
      "  _warn_prf(average, modifier, msg_start, len(result))\n",
      "C:\\Users\\nishant.l\\AppData\\Local\\Continuum\\anaconda3\\lib\\site-packages\\ipykernel_launcher.py:51: RuntimeWarning: invalid value encountered in longlong_scalars\n",
      "C:\\Users\\nishant.l\\AppData\\Local\\Continuum\\anaconda3\\lib\\site-packages\\sklearn\\neural_network\\_multilayer_perceptron.py:571: ConvergenceWarning: Stochastic Optimizer: Maximum iterations (10) reached and the optimization hasn't converged yet.\n",
      "  % self.max_iter, ConvergenceWarning)\n",
      "C:\\Users\\nishant.l\\AppData\\Local\\Continuum\\anaconda3\\lib\\site-packages\\sklearn\\metrics\\_classification.py:1272: UndefinedMetricWarning: Precision and F-score are ill-defined and being set to 0.0 in labels with no predicted samples. Use `zero_division` parameter to control this behavior.\n",
      "  _warn_prf(average, modifier, msg_start, len(result))\n",
      "C:\\Users\\nishant.l\\AppData\\Local\\Continuum\\anaconda3\\lib\\site-packages\\ipykernel_launcher.py:51: RuntimeWarning: invalid value encountered in longlong_scalars\n",
      "C:\\Users\\nishant.l\\AppData\\Local\\Continuum\\anaconda3\\lib\\site-packages\\sklearn\\neural_network\\_multilayer_perceptron.py:571: ConvergenceWarning: Stochastic Optimizer: Maximum iterations (20) reached and the optimization hasn't converged yet.\n",
      "  % self.max_iter, ConvergenceWarning)\n",
      "C:\\Users\\nishant.l\\AppData\\Local\\Continuum\\anaconda3\\lib\\site-packages\\sklearn\\metrics\\_classification.py:1272: UndefinedMetricWarning: Precision and F-score are ill-defined and being set to 0.0 in labels with no predicted samples. Use `zero_division` parameter to control this behavior.\n",
      "  _warn_prf(average, modifier, msg_start, len(result))\n",
      "C:\\Users\\nishant.l\\AppData\\Local\\Continuum\\anaconda3\\lib\\site-packages\\ipykernel_launcher.py:51: RuntimeWarning: invalid value encountered in longlong_scalars\n",
      "C:\\Users\\nishant.l\\AppData\\Local\\Continuum\\anaconda3\\lib\\site-packages\\sklearn\\neural_network\\_multilayer_perceptron.py:571: ConvergenceWarning: Stochastic Optimizer: Maximum iterations (25) reached and the optimization hasn't converged yet.\n",
      "  % self.max_iter, ConvergenceWarning)\n",
      "C:\\Users\\nishant.l\\AppData\\Local\\Continuum\\anaconda3\\lib\\site-packages\\sklearn\\metrics\\_classification.py:1272: UndefinedMetricWarning: Precision and F-score are ill-defined and being set to 0.0 in labels with no predicted samples. Use `zero_division` parameter to control this behavior.\n",
      "  _warn_prf(average, modifier, msg_start, len(result))\n",
      "C:\\Users\\nishant.l\\AppData\\Local\\Continuum\\anaconda3\\lib\\site-packages\\ipykernel_launcher.py:50: RuntimeWarning: invalid value encountered in longlong_scalars\n"
     ]
    },
    {
     "name": "stderr",
     "output_type": "stream",
     "text": [
      "C:\\Users\\nishant.l\\AppData\\Local\\Continuum\\anaconda3\\lib\\site-packages\\sklearn\\metrics\\_classification.py:1272: UndefinedMetricWarning: Precision and F-score are ill-defined and being set to 0.0 in labels with no predicted samples. Use `zero_division` parameter to control this behavior.\n",
      "  _warn_prf(average, modifier, msg_start, len(result))\n",
      "C:\\Users\\nishant.l\\AppData\\Local\\Continuum\\anaconda3\\lib\\site-packages\\ipykernel_launcher.py:50: RuntimeWarning: invalid value encountered in longlong_scalars\n",
      "C:\\Users\\nishant.l\\AppData\\Local\\Continuum\\anaconda3\\lib\\site-packages\\sklearn\\metrics\\_classification.py:1272: UndefinedMetricWarning: Precision and F-score are ill-defined and being set to 0.0 in labels with no predicted samples. Use `zero_division` parameter to control this behavior.\n",
      "  _warn_prf(average, modifier, msg_start, len(result))\n",
      "C:\\Users\\nishant.l\\AppData\\Local\\Continuum\\anaconda3\\lib\\site-packages\\ipykernel_launcher.py:50: RuntimeWarning: invalid value encountered in longlong_scalars\n",
      "C:\\Users\\nishant.l\\AppData\\Local\\Continuum\\anaconda3\\lib\\site-packages\\sklearn\\metrics\\_classification.py:1272: UndefinedMetricWarning: Precision and F-score are ill-defined and being set to 0.0 in labels with no predicted samples. Use `zero_division` parameter to control this behavior.\n",
      "  _warn_prf(average, modifier, msg_start, len(result))\n",
      "C:\\Users\\nishant.l\\AppData\\Local\\Continuum\\anaconda3\\lib\\site-packages\\ipykernel_launcher.py:50: RuntimeWarning: invalid value encountered in longlong_scalars\n",
      "C:\\Users\\nishant.l\\AppData\\Local\\Continuum\\anaconda3\\lib\\site-packages\\sklearn\\metrics\\_classification.py:1272: UndefinedMetricWarning: Precision and F-score are ill-defined and being set to 0.0 in labels with no predicted samples. Use `zero_division` parameter to control this behavior.\n",
      "  _warn_prf(average, modifier, msg_start, len(result))\n",
      "C:\\Users\\nishant.l\\AppData\\Local\\Continuum\\anaconda3\\lib\\site-packages\\ipykernel_launcher.py:50: RuntimeWarning: invalid value encountered in longlong_scalars\n"
     ]
    }
   ],
   "source": [
    "#MLP with all the architectures(hid_architecture) defined with epochs from 10 to 500\n",
    "epochs =[10,20,25,50,70,100,200]\n",
    "CM10, CLR10, MLP_Res = run_mlp(hid_architecture, epochs,X,Y)"
   ]
  },
  {
   "cell_type": "code",
   "execution_count": 90,
   "metadata": {},
   "outputs": [
    {
     "name": "stdout",
     "output_type": "stream",
     "text": [
      "     Arch  Epoch  Train   Test  Loss  Pre0  Pre1  Rec0  Rec1    F1   AUC\n",
      "0   1:1:1     10   52.0  52.05  0.68  0.51  0.76  0.98  0.05  0.09  0.53\n",
      "1   1:1:1     20   59.0  59.48  0.68  0.57  0.64  0.78  0.41  0.50  0.61\n",
      "2   1:1:1     25   59.0  59.48  0.68  0.57  0.64  0.78  0.41  0.50  0.61\n",
      "3   1:1:1     50   59.0  59.48  0.68  0.57  0.64  0.78  0.41  0.50  0.61\n",
      "4   1:1:1     70   59.0  59.48  0.68  0.57  0.64  0.78  0.41  0.50  0.61\n",
      "5   1:1:1    100   59.0  59.48  0.68  0.57  0.64  0.78  0.41  0.50  0.61\n",
      "6   1:1:1    200   59.0  59.48  0.68  0.57  0.64  0.78  0.41  0.50  0.61\n",
      "7   1:2:1     10   58.0  58.62  0.68  0.56  0.65  0.81  0.36  0.46  0.62\n",
      "8   1:2:1     20   59.0  60.17  0.67  0.60  0.60  0.62  0.59  0.59  0.63\n",
      "9   1:2:1     25   59.0  60.17  0.67  0.60  0.60  0.62  0.59  0.59  0.63\n",
      "10  1:2:1     50   59.0  60.17  0.67  0.60  0.60  0.62  0.59  0.59  0.63\n",
      "11  1:2:1     70   59.0  60.17  0.67  0.60  0.60  0.62  0.59  0.59  0.63\n",
      "12  1:2:1    100   59.0  60.17  0.67  0.60  0.60  0.62  0.59  0.59  0.63\n",
      "13  1:2:1    200   59.0  60.17  0.67  0.60  0.60  0.62  0.59  0.59  0.63\n",
      "14  1:3:1     10   50.0  50.29  0.69  0.50   NaN  1.00  0.00   NaN  0.50\n",
      "15  1:3:1     20   50.0  49.71  0.69   NaN  0.50  0.00  1.00  0.67  0.50\n",
      "16  1:3:1     25   50.0  50.29  0.69  0.50   NaN  1.00  0.00   NaN  0.50\n",
      "17  1:3:1     50   50.0  49.71  0.69   NaN  0.50  0.00  1.00  0.67  0.50\n",
      "18  1:3:1     70   50.0  49.71  0.69   NaN  0.50  0.00  1.00  0.67  0.50\n",
      "19  1:3:1    100   50.0  49.71  0.69   NaN  0.50  0.00  1.00  0.67  0.50\n",
      "20  1:3:1    200   50.0  49.71  0.69   NaN  0.50  0.00  1.00  0.67  0.50\n",
      "21  1:4:1     10   59.0  59.51  0.68  0.58  0.61  0.67  0.52  0.56  0.62\n",
      "22  1:4:1     20   50.0  49.71  0.70   NaN  0.50  0.00  1.00  0.67  0.50\n",
      "23  1:4:1     25   50.0  49.71  0.70   NaN  0.50  0.00  1.00  0.67  0.50\n",
      "24  1:4:1     50   50.0  49.71  0.70   NaN  0.50  0.00  1.00  0.67  0.50\n",
      "25  1:4:1     70   50.0  49.71  0.70   NaN  0.50  0.00  1.00  0.67  0.50\n",
      "26  1:4:1    100   50.0  49.71  0.70   NaN  0.50  0.00  1.00  0.67  0.50\n",
      "27  1:4:1    200   50.0  49.71  0.70   NaN  0.50  0.00  1.00  0.67  0.50\n",
      "28  1:5:1     10   50.0  50.29  0.69  0.50   NaN  1.00  0.00   NaN  0.50\n",
      "29  1:5:1     20   50.0  50.29  0.69  0.50   NaN  1.00  0.00   NaN  0.50\n",
      "30  1:5:1     25   50.0  50.29  0.69  0.50   NaN  1.00  0.00   NaN  0.50\n",
      "31  1:5:1     50   50.0  49.71  0.69   NaN  0.50  0.00  1.00  0.67  0.50\n",
      "32  1:5:1     70   50.0  49.71  0.69   NaN  0.50  0.00  1.00  0.67  0.50\n",
      "33  1:5:1    100   50.0  49.71  0.69   NaN  0.50  0.00  1.00  0.67  0.50\n",
      "34  1:5:1    200   50.0  49.71  0.69   NaN  0.50  0.00  1.00  0.67  0.50\n",
      "35  1:6:1     10   50.0  49.71  0.69   NaN  0.50  0.00  1.00  0.67  0.50\n",
      "36  1:6:1     20   50.0  49.71  0.69   NaN  0.50  0.00  1.00  0.67  0.50\n",
      "37  1:6:1     25   50.0  50.29  0.69  0.50   NaN  1.00  0.00   NaN  0.50\n",
      "38  1:6:1     50   50.0  49.71  0.69   NaN  0.50  0.00  1.00  0.67  0.50\n",
      "39  1:6:1     70   50.0  49.71  0.69   NaN  0.50  0.00  1.00  0.67  0.50\n",
      "40  1:6:1    100   50.0  49.71  0.69   NaN  0.50  0.00  1.00  0.67  0.50\n",
      "41  1:6:1    200   50.0  49.71  0.69   NaN  0.50  0.00  1.00  0.67  0.50\n",
      "42  1:7:1     10   50.0  49.71  0.69   NaN  0.50  0.00  1.00  0.67  0.50\n",
      "43  1:7:1     20   50.0  50.29  0.69  0.50   NaN  1.00  0.00   NaN  0.50\n",
      "44  1:7:1     25   50.0  49.71  0.69   NaN  0.50  0.00  1.00  0.67  0.50\n",
      "45  1:7:1     50   50.0  50.29  0.69  0.50   NaN  1.00  0.00   NaN  0.50\n",
      "46  1:7:1     70   50.0  50.29  0.69  0.50   NaN  1.00  0.00   NaN  0.50\n",
      "47  1:7:1    100   50.0  50.29  0.69  0.50   NaN  1.00  0.00   NaN  0.50\n",
      "48  1:7:1    200   50.0  50.29  0.69  0.50   NaN  1.00  0.00   NaN  0.50\n",
      "49  1:8:1     10   50.0  50.29  0.69  0.50   NaN  1.00  0.00   NaN  0.50\n",
      "50  1:8:1     20   50.0  50.29  0.69  0.50   NaN  1.00  0.00   NaN  0.50\n",
      "51  1:8:1     25   50.0  49.71  0.69   NaN  0.50  0.00  1.00  0.67  0.50\n",
      "52  1:8:1     50   50.0  50.29  0.69  0.50   NaN  1.00  0.00   NaN  0.50\n",
      "53  1:8:1     70   50.0  50.29  0.69  0.50   NaN  1.00  0.00   NaN  0.50\n",
      "54  1:8:1    100   50.0  50.29  0.69  0.50   NaN  1.00  0.00   NaN  0.50\n",
      "55  1:8:1    200   50.0  50.29  0.69  0.50   NaN  1.00  0.00   NaN  0.50\n",
      "56  1:9:1     10   50.0  50.29  0.69  0.50   NaN  1.00  0.00   NaN  0.50\n",
      "57  1:9:1     20   50.0  49.71  0.69   NaN  0.50  0.00  1.00  0.67  0.50\n",
      "58  1:9:1     25   50.0  50.29  0.69  0.50   NaN  1.00  0.00   NaN  0.50\n",
      "59  1:9:1     50   50.0  50.29  0.69  0.50   NaN  1.00  0.00   NaN  0.50\n"
     ]
    }
   ],
   "source": [
    "MLP_Res[\"Train\"] = np.round(MLP_Res[\"Train\"]*100,2)\n",
    "print(MLP_Res.reset_index(drop=True).head(60))"
   ]
  },
  {
   "cell_type": "code",
   "execution_count": 180,
   "metadata": {},
   "outputs": [
    {
     "name": "stdout",
     "output_type": "stream",
     "text": [
      "      Arch  Epoch  Train   Test  Loss  Pre0  Pre1  Rec0  Rec1    F1   AUC\n",
      "60   1:9:1     70   50.0  50.29  0.69   0.5   NaN   1.0   0.0   NaN  0.50\n",
      "61   1:9:1    100   50.0  50.29  0.69   0.5   NaN   1.0   0.0   NaN  0.50\n",
      "62   1:9:1    200   50.0  50.29  0.69   0.5   NaN   1.0   0.0   NaN  0.50\n",
      "63  1:10:1     10   50.0  49.71  0.69   NaN   0.5   0.0   1.0  0.67  0.50\n",
      "64  1:10:1     20   50.0  49.71  0.69   NaN   0.5   0.0   1.0  0.67  0.50\n",
      "65  1:10:1     25   50.0  49.71  0.69   NaN   0.5   0.0   1.0  0.67  0.50\n",
      "66  1:10:1     50   50.0  49.71  0.69   NaN   0.5   0.0   1.0  0.67  0.50\n",
      "67  1:10:1     70   50.0  49.71  0.69   NaN   0.5   0.0   1.0  0.67  0.50\n",
      "68  1:10:1    100   50.0  49.71  0.69   NaN   0.5   0.0   1.0  0.67  0.50\n",
      "69  1:10:1    200   50.0  49.71  0.69   NaN   0.5   0.0   1.0  0.67  0.50\n",
      "70  1:11:1     10   50.0  50.29  0.69   0.5   NaN   1.0   0.0   NaN  0.50\n",
      "71  1:11:1     20   50.0  49.71  0.69   NaN   0.5   0.0   1.0  0.67  0.50\n",
      "72  1:11:1     25   50.0  49.71  0.69   NaN   0.5   0.0   1.0  0.67  0.50\n",
      "73  1:11:1     50   50.0  50.29  0.69   0.5   NaN   1.0   0.0   NaN  0.50\n",
      "74  1:11:1     70   50.0  50.29  0.69   0.5   NaN   1.0   0.0   NaN  0.50\n",
      "75  1:11:1    100   50.0  50.29  0.69   0.5   NaN   1.0   0.0   NaN  0.50\n",
      "76  1:11:1    200   50.0  50.29  0.69   0.5   NaN   1.0   0.0   NaN  0.50\n",
      "77  1:12:1     10   50.0  50.29  0.69   0.5   NaN   1.0   0.0   NaN  0.56\n",
      "78  1:12:1     20   50.0  50.29  0.69   0.5   NaN   1.0   0.0   NaN  0.50\n",
      "79  1:12:1     25   50.0  49.71  0.69   NaN   0.5   0.0   1.0  0.67  0.50\n",
      "80  1:12:1     50   50.0  49.71  0.69   NaN   0.5   0.0   1.0  0.67  0.50\n",
      "81  1:12:1     70   50.0  49.71  0.69   NaN   0.5   0.0   1.0  0.67  0.50\n",
      "82  1:12:1    100   50.0  49.71  0.69   NaN   0.5   0.0   1.0  0.67  0.50\n",
      "83  1:12:1    200   50.0  49.71  0.69   NaN   0.5   0.0   1.0  0.67  0.50\n"
     ]
    }
   ],
   "source": [
    "print(MLP_Res.reset_index(drop=True).tail(24))"
   ]
  },
  {
   "cell_type": "markdown",
   "metadata": {},
   "source": [
    "##### Section 5.b.2: MLP with all the architectures starting from 1st 2/3 layer of input (2/3rd of input feat =151) features defined with epochs from 10 to 80"
   ]
  },
  {
   "cell_type": "code",
   "execution_count": null,
   "metadata": {},
   "outputs": [],
   "source": [
    "epochs =[10,20,25,50,70,80]\n",
    "hid_architecture2 =[(151,),(151,101),(151,101,67),(151,101,67,45)]\n",
    "CM11, CLR11, MLP_Res2 = run_mlp(hid_architecture2, epochs,X,Y)"
   ]
  },
  {
   "cell_type": "code",
   "execution_count": 89,
   "metadata": {},
   "outputs": [
    {
     "name": "stdout",
     "output_type": "stream",
     "text": [
      "     Arch  Epoch  Train   Test  Loss  Pre0  Pre1  Rec0  Rec1    F1   AUC\n",
      "0   1:1:1     10   52.0  52.05  0.68  0.51  0.76  0.98  0.05  0.09  0.53\n",
      "1   1:1:1     20   59.0  59.48  0.68  0.57  0.64  0.78  0.41  0.50  0.61\n",
      "2   1:1:1     25   59.0  59.48  0.68  0.57  0.64  0.78  0.41  0.50  0.61\n",
      "3   1:1:1     50   59.0  59.48  0.68  0.57  0.64  0.78  0.41  0.50  0.61\n",
      "4   1:1:1     70   59.0  59.48  0.68  0.57  0.64  0.78  0.41  0.50  0.61\n",
      "5   1:1:1     80   59.0  59.48  0.68  0.57  0.64  0.78  0.41  0.50  0.61\n",
      "6   1:2:1     10   58.0  58.62  0.68  0.56  0.65  0.81  0.36  0.46  0.62\n",
      "7   1:2:1     20   59.0  60.17  0.67  0.60  0.60  0.62  0.59  0.59  0.63\n",
      "8   1:2:1     25   59.0  60.17  0.67  0.60  0.60  0.62  0.59  0.59  0.63\n",
      "9   1:2:1     50   59.0  60.17  0.67  0.60  0.60  0.62  0.59  0.59  0.63\n",
      "10  1:2:1     70   59.0  60.17  0.67  0.60  0.60  0.62  0.59  0.59  0.63\n",
      "11  1:2:1     80   59.0  60.17  0.67  0.60  0.60  0.62  0.59  0.59  0.63\n",
      "12  1:3:1     10   50.0  50.29  0.69  0.50   NaN  1.00  0.00   NaN  0.50\n",
      "13  1:3:1     20   50.0  49.71  0.69   NaN  0.50  0.00  1.00  0.67  0.50\n",
      "14  1:3:1     25   50.0  50.29  0.69  0.50   NaN  1.00  0.00   NaN  0.50\n",
      "15  1:3:1     50   50.0  49.71  0.69   NaN  0.50  0.00  1.00  0.67  0.50\n",
      "16  1:3:1     70   50.0  49.71  0.69   NaN  0.50  0.00  1.00  0.67  0.50\n",
      "17  1:3:1     80   50.0  49.71  0.69   NaN  0.50  0.00  1.00  0.67  0.50\n",
      "18  1:4:1     10   59.0  59.51  0.68  0.58  0.61  0.67  0.52  0.56  0.62\n",
      "19  1:4:1     20   50.0  49.71  0.70   NaN  0.50  0.00  1.00  0.67  0.50\n",
      "20  1:4:1     25   50.0  49.71  0.70   NaN  0.50  0.00  1.00  0.67  0.50\n",
      "21  1:4:1     50   50.0  49.71  0.70   NaN  0.50  0.00  1.00  0.67  0.50\n",
      "22  1:4:1     70   50.0  49.71  0.70   NaN  0.50  0.00  1.00  0.67  0.50\n",
      "23  1:4:1     80   50.0  49.71  0.70   NaN  0.50  0.00  1.00  0.67  0.50\n"
     ]
    }
   ],
   "source": [
    "MLP_Res2[\"Train\"] = np.round(MLP_Res2[\"Train\"]*100,2)\n",
    "print(MLP_Res2.reset_index(drop=True))"
   ]
  },
  {
   "cell_type": "markdown",
   "metadata": {},
   "source": [
    "##### Section 5.b.3: MLP with all the architectures starting from 2nd 2/3 layer of input (2 nd 2/3rd of input feat =101) features defined with epochs from 10 to 30¶"
   ]
  },
  {
   "cell_type": "code",
   "execution_count": null,
   "metadata": {},
   "outputs": [],
   "source": [
    "epochs =[10,20,21,22,23,24,25,30]\n",
    "hid_architecture3 =[(101,),(101,67),(101,67,45)]\n",
    "CM12, CLR12, MLP_Res3 = run_mlp(hid_architecture3, epochs,X,Y)"
   ]
  },
  {
   "cell_type": "code",
   "execution_count": 53,
   "metadata": {},
   "outputs": [
    {
     "name": "stdout",
     "output_type": "stream",
     "text": [
      "     Arch  Epoch  Train   Test  Loss  Pre0  Pre1  Rec0  Rec1    F1   AUC\n",
      "0   1:1:1     10   0.59  59.21  0.68  0.63  0.57  0.47  0.72  0.64  0.63\n",
      "1   1:1:1     20   0.60  59.75  0.68  0.61  0.59  0.57  0.62  0.60  0.63\n",
      "2   1:1:1     21   0.60  59.75  0.68  0.61  0.59  0.57  0.62  0.60  0.63\n",
      "3   1:1:1     22   0.60  59.75  0.68  0.61  0.59  0.57  0.62  0.60  0.63\n",
      "4   1:1:1     23   0.60  59.75  0.68  0.61  0.59  0.57  0.62  0.60  0.63\n",
      "5   1:1:1     24   0.60  59.75  0.68  0.61  0.59  0.57  0.62  0.60  0.63\n",
      "6   1:1:1     25   0.60  59.75  0.68  0.61  0.59  0.57  0.62  0.60  0.63\n",
      "7   1:1:1     30   0.60  59.75  0.68  0.61  0.59  0.57  0.62  0.60  0.63\n",
      "8   1:2:1     10   0.50  50.29  0.69  0.50   NaN  1.00  0.00   NaN  0.50\n",
      "9   1:2:1     20   0.50  50.29  0.69  0.50   NaN  1.00  0.00   NaN  0.50\n",
      "10  1:2:1     21   0.50  50.29  0.69  0.50   NaN  1.00  0.00   NaN  0.50\n",
      "11  1:2:1     22   0.50  50.29  0.69  0.50   NaN  1.00  0.00   NaN  0.50\n",
      "12  1:2:1     23   0.50  49.71  0.69   NaN  0.50  0.00  1.00  0.67  0.50\n",
      "13  1:2:1     24   0.50  49.71  0.69   NaN  0.50  0.00  1.00  0.67  0.50\n",
      "14  1:2:1     25   0.50  50.29  0.69  0.50   NaN  1.00  0.00   NaN  0.50\n",
      "15  1:2:1     30   0.50  49.71  0.69   NaN  0.50  0.00  1.00  0.67  0.50\n",
      "16  1:3:1     10   0.55  55.39  0.69  0.53  0.67  0.90  0.20  0.31  0.55\n",
      "17  1:3:1     20   0.53  53.83  0.69  0.52  0.69  0.94  0.13  0.22  0.54\n",
      "18  1:3:1     21   0.53  53.83  0.69  0.52  0.69  0.94  0.13  0.22  0.54\n",
      "19  1:3:1     22   0.53  53.83  0.69  0.52  0.69  0.94  0.13  0.22  0.54\n",
      "20  1:3:1     23   0.53  53.83  0.69  0.52  0.69  0.94  0.13  0.22  0.54\n",
      "21  1:3:1     24   0.53  53.83  0.69  0.52  0.69  0.94  0.13  0.22  0.54\n",
      "22  1:3:1     25   0.53  53.83  0.69  0.52  0.69  0.94  0.13  0.22  0.54\n",
      "23  1:3:1     30   0.53  53.83  0.69  0.52  0.69  0.94  0.13  0.22  0.54\n"
     ]
    }
   ],
   "source": [
    "print(MLP_Res3.reset_index(drop=True))"
   ]
  },
  {
   "cell_type": "markdown",
   "metadata": {},
   "source": [
    "##### Section 5.b.4: MLP with all the architectures starting from 2nd 2/3 layer of input features(2nd 2/3rd of input feat =101) defined with epochs from 10 to 70"
   ]
  },
  {
   "cell_type": "code",
   "execution_count": null,
   "metadata": {},
   "outputs": [],
   "source": [
    "epochs =[10,23,25,30,50,70]\n",
    "hid_architecture4 =[(101,67,45),(101,67,45,30)]\n",
    "CM13, CLR13, MLP_Res4 = run_mlp(hid_architecture4, epochs,X,Y)"
   ]
  },
  {
   "cell_type": "code",
   "execution_count": 85,
   "metadata": {},
   "outputs": [
    {
     "name": "stdout",
     "output_type": "stream",
     "text": [
      "     Arch  Epoch  Train   Test  Loss  Pre0  Pre1  Rec0  Rec1    F1   AUC\n",
      "0   1:3:1     10   59.0  59.85  0.67  0.58  0.64  0.76  0.43  0.51  0.64\n",
      "1   1:3:1     23   53.0  53.83  0.69  0.52  0.69  0.94  0.13  0.22  0.54\n",
      "2   1:3:1     25   53.0  53.83  0.69  0.52  0.69  0.94  0.13  0.22  0.54\n",
      "3   1:3:1     30   53.0  53.83  0.69  0.52  0.69  0.94  0.13  0.22  0.54\n",
      "4   1:3:1     50   53.0  53.83  0.69  0.52  0.69  0.94  0.13  0.22  0.54\n",
      "5   1:3:1     70   53.0  53.83  0.69  0.52  0.69  0.94  0.13  0.22  0.54\n",
      "6   1:4:1     10   50.0  49.71  0.69   NaN  0.50  0.00  1.00  0.67  0.50\n",
      "7   1:4:1     23   50.0  50.29  0.69  0.50   NaN  1.00  0.00   NaN  0.50\n",
      "8   1:4:1     25   50.0  50.29  0.69  0.50   NaN  1.00  0.00   NaN  0.50\n",
      "9   1:4:1     30   50.0  50.29  0.69  0.50   NaN  1.00  0.00   NaN  0.50\n",
      "10  1:4:1     50   50.0  50.29  0.69  0.50   NaN  1.00  0.00   NaN  0.50\n",
      "11  1:4:1     70   50.0  50.29  0.69  0.50   NaN  1.00  0.00   NaN  0.50\n"
     ]
    }
   ],
   "source": [
    "MLP_Res4[\"Train\"] = np.round(MLP_Res4[\"Train\"]*100,2)\n",
    "print(MLP_Res4.reset_index(drop=True))"
   ]
  },
  {
   "cell_type": "markdown",
   "metadata": {},
   "source": [
    "##### Section 5.b.5: MLP with all the architectures starting from 3rd 2/3 layer of input features(3rd 2/3rd of input feat =67) defined with epochs from 10 to 70"
   ]
  },
  {
   "cell_type": "code",
   "execution_count": null,
   "metadata": {},
   "outputs": [],
   "source": [
    "epochs =[10,23,25,30,50,70]\n",
    "hid_architecture5 =[(67,45),(67,45,30)]\n",
    "CM14, CLR14, MLP_Res5 = run_mlp(hid_architecture5, epochs,X,Y)"
   ]
  },
  {
   "cell_type": "code",
   "execution_count": 185,
   "metadata": {},
   "outputs": [
    {
     "name": "stdout",
     "output_type": "stream",
     "text": [
      "     Arch  Epoch  Train   Test  Loss  Pre0  Pre1  Rec0  Rec1    F1   AUC\n",
      "0   1:2:1     10   50.0  50.29  0.69  0.50   NaN  1.00  0.00   NaN  0.50\n",
      "1   1:2:1     23   50.0  49.71  0.69   NaN  0.50  0.00  1.00  0.67  0.50\n",
      "2   1:2:1     25   50.0  49.71  0.69   NaN  0.50  0.00  1.00  0.67  0.50\n",
      "3   1:2:1     30   50.0  49.71  0.69   NaN  0.50  0.00  1.00  0.67  0.50\n",
      "4   1:2:1     50   50.0  49.71  0.69   NaN  0.50  0.00  1.00  0.67  0.50\n",
      "5   1:2:1     70   50.0  49.71  0.69   NaN  0.50  0.00  1.00  0.67  0.50\n",
      "6   1:3:1     10   57.0  56.28  0.68  0.64  0.54  0.30  0.83  0.65  0.57\n",
      "7   1:3:1     23   58.0  58.59  0.68  0.56  0.63  0.77  0.40  0.49  0.59\n",
      "8   1:3:1     25   58.0  58.59  0.68  0.56  0.63  0.77  0.40  0.49  0.59\n",
      "9   1:3:1     30   58.0  58.59  0.68  0.56  0.63  0.77  0.40  0.49  0.59\n",
      "10  1:3:1     50   58.0  58.59  0.68  0.56  0.63  0.77  0.40  0.49  0.59\n",
      "11  1:3:1     70   58.0  58.59  0.68  0.56  0.63  0.77  0.40  0.49  0.59\n"
     ]
    }
   ],
   "source": [
    "print(MLP_Res5.reset_index(drop=True))"
   ]
  },
  {
   "cell_type": "markdown",
   "metadata": {},
   "source": [
    "##### Section 5.b.6: MLP with all the architectures starting from 4th 2/3 layer of input features(4th 2/3rd of input feat =45) defined with epochs from 10 to 30"
   ]
  },
  {
   "cell_type": "code",
   "execution_count": 176,
   "metadata": {
    "collapsed": true
   },
   "outputs": [
    {
     "name": "stderr",
     "output_type": "stream",
     "text": [
      "C:\\Users\\nishant.l\\AppData\\Local\\Continuum\\anaconda3\\lib\\site-packages\\sklearn\\neural_network\\_multilayer_perceptron.py:571: ConvergenceWarning: Stochastic Optimizer: Maximum iterations (10) reached and the optimization hasn't converged yet.\n",
      "  % self.max_iter, ConvergenceWarning)\n",
      "C:\\Users\\nishant.l\\AppData\\Local\\Continuum\\anaconda3\\lib\\site-packages\\sklearn\\neural_network\\_multilayer_perceptron.py:571: ConvergenceWarning: Stochastic Optimizer: Maximum iterations (10) reached and the optimization hasn't converged yet.\n",
      "  % self.max_iter, ConvergenceWarning)\n",
      "C:\\Users\\nishant.l\\AppData\\Local\\Continuum\\anaconda3\\lib\\site-packages\\sklearn\\metrics\\_classification.py:1272: UndefinedMetricWarning: Precision and F-score are ill-defined and being set to 0.0 in labels with no predicted samples. Use `zero_division` parameter to control this behavior.\n",
      "  _warn_prf(average, modifier, msg_start, len(result))\n",
      "C:\\Users\\nishant.l\\AppData\\Local\\Continuum\\anaconda3\\lib\\site-packages\\ipykernel_launcher.py:50: RuntimeWarning: invalid value encountered in longlong_scalars\n",
      "C:\\Users\\nishant.l\\AppData\\Local\\Continuum\\anaconda3\\lib\\site-packages\\sklearn\\metrics\\_classification.py:1272: UndefinedMetricWarning: Precision and F-score are ill-defined and being set to 0.0 in labels with no predicted samples. Use `zero_division` parameter to control this behavior.\n",
      "  _warn_prf(average, modifier, msg_start, len(result))\n",
      "C:\\Users\\nishant.l\\AppData\\Local\\Continuum\\anaconda3\\lib\\site-packages\\ipykernel_launcher.py:51: RuntimeWarning: invalid value encountered in longlong_scalars\n",
      "C:\\Users\\nishant.l\\AppData\\Local\\Continuum\\anaconda3\\lib\\site-packages\\sklearn\\metrics\\_classification.py:1272: UndefinedMetricWarning: Precision and F-score are ill-defined and being set to 0.0 in labels with no predicted samples. Use `zero_division` parameter to control this behavior.\n",
      "  _warn_prf(average, modifier, msg_start, len(result))\n",
      "C:\\Users\\nishant.l\\AppData\\Local\\Continuum\\anaconda3\\lib\\site-packages\\ipykernel_launcher.py:51: RuntimeWarning: invalid value encountered in longlong_scalars\n",
      "C:\\Users\\nishant.l\\AppData\\Local\\Continuum\\anaconda3\\lib\\site-packages\\sklearn\\metrics\\_classification.py:1272: UndefinedMetricWarning: Precision and F-score are ill-defined and being set to 0.0 in labels with no predicted samples. Use `zero_division` parameter to control this behavior.\n",
      "  _warn_prf(average, modifier, msg_start, len(result))\n",
      "C:\\Users\\nishant.l\\AppData\\Local\\Continuum\\anaconda3\\lib\\site-packages\\ipykernel_launcher.py:51: RuntimeWarning: invalid value encountered in longlong_scalars\n"
     ]
    }
   ],
   "source": [
    "epochs =[10,23,25,30]\n",
    "hid_architecture6 =[(45,30),(45,30,20)]\n",
    "CM15, CLR15, MLP_Res6 = run_mlp(hid_architecture6, epochs,X,Y)"
   ]
  },
  {
   "cell_type": "code",
   "execution_count": 186,
   "metadata": {},
   "outputs": [
    {
     "name": "stdout",
     "output_type": "stream",
     "text": [
      "    Arch  Epoch  Train   Test  Loss  Pre0  Pre1  Rec0  Rec1    F1   AUC\n",
      "0  1:2:1     10  58.16  58.52  0.67  0.63  0.56  0.41  0.76  0.64  0.64\n",
      "1  1:2:1     23  59.50  60.00  0.67  0.60  0.60  0.61  0.59  0.59  0.64\n",
      "2  1:2:1     25  59.50  60.00  0.67  0.60  0.60  0.61  0.59  0.59  0.64\n",
      "3  1:2:1     30  59.50  60.00  0.67  0.60  0.60  0.61  0.59  0.59  0.64\n",
      "4  1:3:1     10  50.12  49.71  0.69   NaN  0.50  0.00  1.00  0.67  0.50\n",
      "5  1:3:1     23  49.88  50.29  0.69  0.50   NaN  1.00  0.00   NaN  0.50\n",
      "6  1:3:1     25  49.88  50.29  0.69  0.50   NaN  1.00  0.00   NaN  0.50\n",
      "7  1:3:1     30  49.88  50.29  0.69  0.50   NaN  1.00  0.00   NaN  0.50\n"
     ]
    }
   ],
   "source": [
    "print(MLP_Res6.reset_index(drop=True))"
   ]
  },
  {
   "cell_type": "markdown",
   "metadata": {},
   "source": [
    "##### Section 5.b.7: MLP with all the architectures starting from 5th 2/3 layer of input features(5th 2/3rd of input feat =30) defined with epochs from 10 to 70"
   ]
  },
  {
   "cell_type": "code",
   "execution_count": 61,
   "metadata": {
    "collapsed": true
   },
   "outputs": [
    {
     "name": "stderr",
     "output_type": "stream",
     "text": [
      "C:\\Users\\nishant.l\\AppData\\Local\\Continuum\\anaconda3\\lib\\site-packages\\sklearn\\neural_network\\_multilayer_perceptron.py:571: ConvergenceWarning: Stochastic Optimizer: Maximum iterations (10) reached and the optimization hasn't converged yet.\n",
      "  % self.max_iter, ConvergenceWarning)\n",
      "C:\\Users\\nishant.l\\AppData\\Local\\Continuum\\anaconda3\\lib\\site-packages\\sklearn\\metrics\\_classification.py:1272: UndefinedMetricWarning: Precision and F-score are ill-defined and being set to 0.0 in labels with no predicted samples. Use `zero_division` parameter to control this behavior.\n",
      "  _warn_prf(average, modifier, msg_start, len(result))\n",
      "C:\\Users\\nishant.l\\AppData\\Local\\Continuum\\anaconda3\\lib\\site-packages\\ipykernel_launcher.py:51: RuntimeWarning: invalid value encountered in longlong_scalars\n",
      "C:\\Users\\nishant.l\\AppData\\Local\\Continuum\\anaconda3\\lib\\site-packages\\sklearn\\metrics\\_classification.py:1272: UndefinedMetricWarning: Precision and F-score are ill-defined and being set to 0.0 in labels with no predicted samples. Use `zero_division` parameter to control this behavior.\n",
      "  _warn_prf(average, modifier, msg_start, len(result))\n",
      "C:\\Users\\nishant.l\\AppData\\Local\\Continuum\\anaconda3\\lib\\site-packages\\ipykernel_launcher.py:51: RuntimeWarning: invalid value encountered in longlong_scalars\n",
      "C:\\Users\\nishant.l\\AppData\\Local\\Continuum\\anaconda3\\lib\\site-packages\\sklearn\\metrics\\_classification.py:1272: UndefinedMetricWarning: Precision and F-score are ill-defined and being set to 0.0 in labels with no predicted samples. Use `zero_division` parameter to control this behavior.\n",
      "  _warn_prf(average, modifier, msg_start, len(result))\n",
      "C:\\Users\\nishant.l\\AppData\\Local\\Continuum\\anaconda3\\lib\\site-packages\\ipykernel_launcher.py:51: RuntimeWarning: invalid value encountered in longlong_scalars\n",
      "C:\\Users\\nishant.l\\AppData\\Local\\Continuum\\anaconda3\\lib\\site-packages\\sklearn\\metrics\\_classification.py:1272: UndefinedMetricWarning: Precision and F-score are ill-defined and being set to 0.0 in labels with no predicted samples. Use `zero_division` parameter to control this behavior.\n",
      "  _warn_prf(average, modifier, msg_start, len(result))\n",
      "C:\\Users\\nishant.l\\AppData\\Local\\Continuum\\anaconda3\\lib\\site-packages\\ipykernel_launcher.py:51: RuntimeWarning: invalid value encountered in longlong_scalars\n",
      "C:\\Users\\nishant.l\\AppData\\Local\\Continuum\\anaconda3\\lib\\site-packages\\sklearn\\metrics\\_classification.py:1272: UndefinedMetricWarning: Precision and F-score are ill-defined and being set to 0.0 in labels with no predicted samples. Use `zero_division` parameter to control this behavior.\n",
      "  _warn_prf(average, modifier, msg_start, len(result))\n",
      "C:\\Users\\nishant.l\\AppData\\Local\\Continuum\\anaconda3\\lib\\site-packages\\ipykernel_launcher.py:51: RuntimeWarning: invalid value encountered in longlong_scalars\n",
      "C:\\Users\\nishant.l\\AppData\\Local\\Continuum\\anaconda3\\lib\\site-packages\\sklearn\\metrics\\_classification.py:1272: UndefinedMetricWarning: Precision and F-score are ill-defined and being set to 0.0 in labels with no predicted samples. Use `zero_division` parameter to control this behavior.\n",
      "  _warn_prf(average, modifier, msg_start, len(result))\n",
      "C:\\Users\\nishant.l\\AppData\\Local\\Continuum\\anaconda3\\lib\\site-packages\\ipykernel_launcher.py:51: RuntimeWarning: invalid value encountered in longlong_scalars\n",
      "C:\\Users\\nishant.l\\AppData\\Local\\Continuum\\anaconda3\\lib\\site-packages\\sklearn\\neural_network\\_multilayer_perceptron.py:571: ConvergenceWarning: Stochastic Optimizer: Maximum iterations (10) reached and the optimization hasn't converged yet.\n",
      "  % self.max_iter, ConvergenceWarning)\n",
      "C:\\Users\\nishant.l\\AppData\\Local\\Continuum\\anaconda3\\lib\\site-packages\\sklearn\\metrics\\_classification.py:1272: UndefinedMetricWarning: Precision and F-score are ill-defined and being set to 0.0 in labels with no predicted samples. Use `zero_division` parameter to control this behavior.\n",
      "  _warn_prf(average, modifier, msg_start, len(result))\n",
      "C:\\Users\\nishant.l\\AppData\\Local\\Continuum\\anaconda3\\lib\\site-packages\\ipykernel_launcher.py:50: RuntimeWarning: invalid value encountered in longlong_scalars\n",
      "C:\\Users\\nishant.l\\AppData\\Local\\Continuum\\anaconda3\\lib\\site-packages\\sklearn\\metrics\\_classification.py:1272: UndefinedMetricWarning: Precision and F-score are ill-defined and being set to 0.0 in labels with no predicted samples. Use `zero_division` parameter to control this behavior.\n",
      "  _warn_prf(average, modifier, msg_start, len(result))\n",
      "C:\\Users\\nishant.l\\AppData\\Local\\Continuum\\anaconda3\\lib\\site-packages\\ipykernel_launcher.py:51: RuntimeWarning: invalid value encountered in longlong_scalars\n",
      "C:\\Users\\nishant.l\\AppData\\Local\\Continuum\\anaconda3\\lib\\site-packages\\sklearn\\metrics\\_classification.py:1272: UndefinedMetricWarning: Precision and F-score are ill-defined and being set to 0.0 in labels with no predicted samples. Use `zero_division` parameter to control this behavior.\n",
      "  _warn_prf(average, modifier, msg_start, len(result))\n",
      "C:\\Users\\nishant.l\\AppData\\Local\\Continuum\\anaconda3\\lib\\site-packages\\ipykernel_launcher.py:51: RuntimeWarning: invalid value encountered in longlong_scalars\n",
      "C:\\Users\\nishant.l\\AppData\\Local\\Continuum\\anaconda3\\lib\\site-packages\\sklearn\\metrics\\_classification.py:1272: UndefinedMetricWarning: Precision and F-score are ill-defined and being set to 0.0 in labels with no predicted samples. Use `zero_division` parameter to control this behavior.\n",
      "  _warn_prf(average, modifier, msg_start, len(result))\n",
      "C:\\Users\\nishant.l\\AppData\\Local\\Continuum\\anaconda3\\lib\\site-packages\\ipykernel_launcher.py:51: RuntimeWarning: invalid value encountered in longlong_scalars\n",
      "C:\\Users\\nishant.l\\AppData\\Local\\Continuum\\anaconda3\\lib\\site-packages\\sklearn\\metrics\\_classification.py:1272: UndefinedMetricWarning: Precision and F-score are ill-defined and being set to 0.0 in labels with no predicted samples. Use `zero_division` parameter to control this behavior.\n",
      "  _warn_prf(average, modifier, msg_start, len(result))\n",
      "C:\\Users\\nishant.l\\AppData\\Local\\Continuum\\anaconda3\\lib\\site-packages\\ipykernel_launcher.py:51: RuntimeWarning: invalid value encountered in longlong_scalars\n",
      "C:\\Users\\nishant.l\\AppData\\Local\\Continuum\\anaconda3\\lib\\site-packages\\sklearn\\metrics\\_classification.py:1272: UndefinedMetricWarning: Precision and F-score are ill-defined and being set to 0.0 in labels with no predicted samples. Use `zero_division` parameter to control this behavior.\n",
      "  _warn_prf(average, modifier, msg_start, len(result))\n",
      "C:\\Users\\nishant.l\\AppData\\Local\\Continuum\\anaconda3\\lib\\site-packages\\ipykernel_launcher.py:51: RuntimeWarning: invalid value encountered in longlong_scalars\n"
     ]
    }
   ],
   "source": [
    "epochs =[10,23,25,30,50,70]\n",
    "hid_architecture7 =[(30,20),(30,20,13)]\n",
    "CM16, CLR16, MLP_Res7 = run_mlp(hid_architecture7, epochs,X,Y)"
   ]
  },
  {
   "cell_type": "code",
   "execution_count": 88,
   "metadata": {},
   "outputs": [
    {
     "name": "stdout",
     "output_type": "stream",
     "text": [
      "     Arch  Epoch  Train   Test  Loss  Pre0  Pre1  Rec0  Rec1    F1  AUC\n",
      "0   1:2:1     10   50.0  50.29  0.69   0.5   NaN   1.0   0.0   NaN  0.5\n",
      "1   1:2:1     23   50.0  50.29  0.69   0.5   NaN   1.0   0.0   NaN  0.5\n",
      "2   1:2:1     25   50.0  50.29  0.69   0.5   NaN   1.0   0.0   NaN  0.5\n",
      "3   1:2:1     30   50.0  50.29  0.69   0.5   NaN   1.0   0.0   NaN  0.5\n",
      "4   1:2:1     50   50.0  50.29  0.69   0.5   NaN   1.0   0.0   NaN  0.5\n",
      "5   1:2:1     70   50.0  50.29  0.69   0.5   NaN   1.0   0.0   NaN  0.5\n",
      "6   1:3:1     10   50.0  49.71  0.69   NaN   0.5   0.0   1.0  0.67  0.5\n",
      "7   1:3:1     23   50.0  50.29  0.69   0.5   NaN   1.0   0.0   NaN  0.5\n",
      "8   1:3:1     25   50.0  50.29  0.69   0.5   NaN   1.0   0.0   NaN  0.5\n",
      "9   1:3:1     30   50.0  50.29  0.69   0.5   NaN   1.0   0.0   NaN  0.5\n",
      "10  1:3:1     50   50.0  50.29  0.69   0.5   NaN   1.0   0.0   NaN  0.5\n",
      "11  1:3:1     70   50.0  50.29  0.69   0.5   NaN   1.0   0.0   NaN  0.5\n"
     ]
    }
   ],
   "source": [
    "MLP_Res7[\"Train\"] = np.round(MLP_Res7[\"Train\"]*100,2)\n",
    "print(MLP_Res7.reset_index(drop=True))"
   ]
  },
  {
   "cell_type": "markdown",
   "metadata": {},
   "source": [
    "##### Section 5.b.8: MLP with 1 hidden layer with neurons in the range 90 to 180"
   ]
  },
  {
   "cell_type": "code",
   "execution_count": 154,
   "metadata": {},
   "outputs": [],
   "source": [
    "hid_architecture8 =[]\n",
    "hid_architecture9 =[]\n",
    "for i in range(90,180,1):\n",
    "    hid_architecture8.append((i))\n",
    "    hid_architecture9.append( tuple(hid_architecture8[i-90:i+1-90:],))"
   ]
  },
  {
   "cell_type": "code",
   "execution_count": null,
   "metadata": {},
   "outputs": [],
   "source": [
    "epochs =[10,20,23,25]\n",
    "CM17, CLR17, MLP_Res8 = run_mlp(hid_architecture9, epochs,nn = True,X,Y)\n",
    "Audio(sound_file,autoplay=True)"
   ]
  },
  {
   "cell_type": "code",
   "execution_count": 187,
   "metadata": {},
   "outputs": [
    {
     "name": "stdout",
     "output_type": "stream",
     "text": [
      "    Arch  Epoch  Train   Test  Loss  Pre0  Pre1  Rec0  Rec1    F1   AUC\n",
      "0     90     10  49.88  50.29  0.69  0.50   NaN  1.00  0.00   NaN  0.50\n",
      "1     90     20  49.88  50.29  0.69  0.50   NaN  1.00  0.00   NaN  0.50\n",
      "2     90     23  49.88  50.29  0.69  0.50   NaN  1.00  0.00   NaN  0.50\n",
      "3     90     25  50.12  49.71  0.69   NaN  0.50  0.00  1.00  0.67  0.50\n",
      "0     91     10  59.16  59.57  0.68  0.62  0.58  0.52  0.67  0.62  0.63\n",
      "1     91     20  59.06  59.88  0.68  0.62  0.58  0.53  0.67  0.62  0.63\n",
      "2     91     23  59.06  59.88  0.68  0.62  0.58  0.53  0.67  0.62  0.63\n",
      "3     91     25  59.06  59.88  0.68  0.62  0.58  0.53  0.67  0.62  0.63\n",
      "0     92     10  59.32  59.94  0.67  0.59  0.61  0.68  0.52  0.56  0.63\n",
      "1     92     20  59.34  59.46  0.68  0.61  0.58  0.54  0.65  0.61  0.63\n",
      "2     92     23  59.45  60.10  0.67  0.60  0.60  0.62  0.59  0.59  0.64\n",
      "3     92     25  59.45  60.10  0.67  0.60  0.60  0.62  0.59  0.59  0.64\n",
      "0     93     10  50.12  49.71  0.69   NaN  0.50  0.00  1.00  0.67  0.50\n",
      "1     93     20  50.12  49.71  0.69   NaN  0.50  0.00  1.00  0.67  0.50\n",
      "2     93     23  49.88  50.29  0.69  0.50   NaN  1.00  0.00   NaN  0.50\n",
      "3     93     25  49.88  50.29  0.69  0.50   NaN  1.00  0.00   NaN  0.50\n",
      "0     94     10  59.35  59.70  0.68  0.59  0.60  0.63  0.56  0.58  0.62\n",
      "1     94     20  53.77  54.16  0.67  0.52  0.73  0.96  0.12  0.21  0.62\n",
      "2     94     23  56.02  56.34  0.67  0.54  0.68  0.90  0.23  0.34  0.62\n",
      "3     94     25  59.21  59.64  0.68  0.58  0.62  0.70  0.49  0.55  0.63\n",
      "0     95     10  49.88  50.29  0.69  0.50   NaN  1.00  0.00   NaN  0.50\n",
      "1     95     20  49.88  50.29  0.69  0.50   NaN  1.00  0.00   NaN  0.50\n",
      "2     95     23  49.88  50.29  0.69  0.50   NaN  1.00  0.00   NaN  0.50\n",
      "3     95     25  49.88  50.29  0.69  0.50   NaN  1.00  0.00   NaN  0.50\n",
      "0     96     10  59.57  59.93  0.68  0.59  0.61  0.64  0.55  0.58  0.64\n",
      "1     96     20  59.51  59.91  0.68  0.60  0.60  0.62  0.57  0.58  0.63\n",
      "2     96     23  50.59  50.11  0.68  0.71  0.50  0.01  0.99  0.66  0.51\n",
      "3     96     25  50.49  50.12  0.68  0.75  0.50  0.01  1.00  0.67  0.51\n",
      "0     97     10  50.03  50.47  0.67  0.50  0.95  1.00  0.00  0.00  0.63\n",
      "1     97     20  56.19  56.54  0.68  0.54  0.69  0.89  0.23  0.34  0.62\n",
      "..   ...    ...    ...    ...   ...   ...   ...   ...   ...   ...   ...\n",
      "2    172     23  50.12  49.71  0.69   NaN  0.50  0.00  1.00  0.67  0.50\n",
      "3    172     25  50.12  49.71  0.69   NaN  0.50  0.00  1.00  0.67  0.50\n",
      "0    173     10  59.10  59.69  0.68  0.60  0.60  0.62  0.58  0.59  0.63\n",
      "1    173     20  57.55  58.28  0.68  0.56  0.67  0.85  0.32  0.43  0.62\n",
      "2    173     23  59.19  59.80  0.67  0.58  0.62  0.71  0.48  0.54  0.63\n",
      "3    173     25  58.85  59.40  0.67  0.62  0.58  0.50  0.69  0.63  0.63\n",
      "0    174     10  59.26  59.65  0.68  0.61  0.59  0.56  0.64  0.61  0.63\n",
      "1    174     20  59.55  60.15  0.68  0.61  0.60  0.59  0.62  0.61  0.63\n",
      "2    174     23  59.51  60.04  0.68  0.60  0.60  0.60  0.60  0.60  0.63\n",
      "3    174     25  59.51  60.04  0.68  0.60  0.60  0.60  0.60  0.60  0.63\n",
      "0    175     10  50.12  49.71  0.69   NaN  0.50  0.00  1.00  0.67  0.50\n",
      "1    175     20  49.88  50.29  0.69  0.50   NaN  1.00  0.00   NaN  0.50\n",
      "2    175     23  49.88  50.29  0.69  0.50   NaN  1.00  0.00   NaN  0.50\n",
      "3    175     25  49.88  50.29  0.69  0.50   NaN  1.00  0.00   NaN  0.50\n",
      "0    176     10  59.40  59.80  0.68  0.59  0.61  0.67  0.52  0.56  0.63\n",
      "1    176     20  58.19  58.17  0.68  0.65  0.55  0.36  0.80  0.65  0.63\n",
      "2    176     23  58.19  58.17  0.68  0.65  0.55  0.36  0.80  0.65  0.63\n",
      "3    176     25  58.19  58.17  0.68  0.65  0.55  0.36  0.80  0.65  0.63\n",
      "0    177     10  58.96  59.68  0.67  0.58  0.63  0.74  0.45  0.52  0.63\n",
      "1    177     20  58.28  59.11  0.67  0.57  0.65  0.79  0.39  0.49  0.63\n",
      "2    177     23  59.48  60.14  0.67  0.60  0.61  0.64  0.56  0.58  0.63\n",
      "3    177     25  55.49  56.02  0.67  0.54  0.71  0.92  0.20  0.31  0.63\n",
      "0    178     10  58.92  59.70  0.67  0.58  0.63  0.73  0.46  0.53  0.63\n",
      "1    178     20  58.77  59.15  0.68  0.63  0.57  0.45  0.74  0.64  0.64\n",
      "2    178     23  59.57  60.16  0.68  0.62  0.59  0.55  0.65  0.62  0.64\n",
      "3    178     25  56.08  55.77  0.67  0.66  0.53  0.25  0.87  0.66  0.59\n",
      "0    179     10  59.16  59.60  0.68  0.58  0.64  0.75  0.44  0.52  0.63\n",
      "1    179     20  58.77  59.44  0.68  0.57  0.64  0.77  0.42  0.51  0.62\n",
      "2    179     23  58.77  59.44  0.68  0.57  0.64  0.77  0.42  0.51  0.62\n",
      "3    179     25  58.77  59.44  0.68  0.57  0.64  0.77  0.42  0.51  0.62\n",
      "\n",
      "[360 rows x 11 columns]\n"
     ]
    }
   ],
   "source": [
    "print(MLP_Res8)"
   ]
  },
  {
   "cell_type": "markdown",
   "metadata": {},
   "source": [
    "## Section 6: Miscellaneous Executions"
   ]
  },
  {
   "cell_type": "markdown",
   "metadata": {},
   "source": [
    "#### Section 6.a Random Forest Without Binary"
   ]
  },
  {
   "cell_type": "code",
   "execution_count": 63,
   "metadata": {},
   "outputs": [
    {
     "name": "stdout",
     "output_type": "stream",
     "text": [
      "--------------------------------\n",
      "Train Score for : 100.00 \n",
      "Test Score for  : 87.36\n",
      "Confusion Matrix: \n",
      " [[13686  1401]\n",
      " [ 2392 12521]]\n",
      "Classification Report: \n",
      "               precision    recall  f1-score   support\n",
      "\n",
      "           0       0.85      0.91      0.88     15087\n",
      "           1       0.90      0.84      0.87     14913\n",
      "\n",
      "    accuracy                           0.87     30000\n",
      "   macro avg       0.88      0.87      0.87     30000\n",
      "weighted avg       0.88      0.87      0.87     30000\n",
      "\n",
      "ps_car_13        0.074375\n",
      "ps_reg_03        0.064079\n",
      "ps_car_14        0.049168\n",
      "ps_calc_10       0.043640\n",
      "ps_calc_14       0.043294\n",
      "ps_car_11_cat    0.041091\n",
      "ps_calc_11       0.040200\n",
      "ps_calc_01       0.039538\n",
      "ps_calc_02       0.039346\n",
      "ps_calc_03       0.039276\n",
      "ps_reg_02        0.036074\n",
      "ps_calc_13       0.034084\n",
      "ps_car_15        0.032016\n",
      "ps_calc_08       0.031754\n",
      "ps_calc_07       0.031543\n",
      "ps_calc_06       0.030421\n",
      "ps_reg_01        0.029757\n",
      "ps_calc_09       0.029262\n",
      "ps_car_06_cat    0.028348\n",
      "ps_calc_04       0.027786\n",
      "ps_calc_05       0.027608\n",
      "ps_calc_12       0.026748\n",
      "ps_car_12        0.024927\n",
      "ps_car_01_cat    0.024366\n",
      "ps_ind_02_cat    0.014077\n",
      "ps_ind_05_cat    0.013648\n",
      "ps_car_09_cat    0.013563\n",
      "ps_car_11        0.012605\n",
      "ps_car_05_cat    0.012416\n",
      "ps_ind_04_cat    0.009730\n",
      "ps_car_03_cat    0.009346\n",
      "ps_car_04_cat    0.008235\n",
      "ps_car_07_cat    0.006749\n",
      "ps_car_02_cat    0.005068\n",
      "ps_car_08_cat    0.004833\n",
      "ps_car_10_cat    0.001030\n",
      "dtype: float64\n"
     ]
    }
   ],
   "source": [
    "print(\"--------------------------------\")\n",
    "m = RandomForestClassifier(n_estimators=100)\n",
    "m.fit(X_train2, Y_train2).score(X_train2, Y_train2)\n",
    "msg = \"Train Score for :\"+\" %.2f \" % (np.round((m.fit(X_train2, Y_train2).score(X_train2, Y_train2)*100),2))\n",
    "print(msg)\n",
    "\n",
    "predictions = m.predict(X_validation2)\n",
    "msg = \"Test Score for  :\"+\" %.2f\" % ( np.round((accuracy_score(Y_validation2, predictions)*100),2))\n",
    "print(msg)\n",
    "conf_mat = confusion_matrix(Y_validation2, predictions)\n",
    "print(\"Confusion Matrix: \\n\",conf_mat)\n",
    "Cl_R = classification_report(Y_validation2, predictions)\n",
    "print(\"Classification Report: \\n\",Cl_R)\n",
    "feature_imp = pd.Series(m.feature_importances_,index=list(X_train2.columns)).sort_values(ascending=False)\n",
    "print(feature_imp)"
   ]
  },
  {
   "cell_type": "markdown",
   "metadata": {},
   "source": [
    "#### Section 6.b: Random Forest Without Binary & Reg"
   ]
  },
  {
   "cell_type": "code",
   "execution_count": 64,
   "metadata": {},
   "outputs": [
    {
     "name": "stdout",
     "output_type": "stream",
     "text": [
      "--------------------------------\n",
      "Train Score for : 100.00 \n",
      "Test Score for  : 87.84\n",
      "Classification Report: \n",
      "               precision    recall  f1-score   support\n",
      "\n",
      "           0       0.85      0.92      0.88     15087\n",
      "           1       0.91      0.84      0.87     14913\n",
      "\n",
      "    accuracy                           0.88     30000\n",
      "   macro avg       0.88      0.88      0.88     30000\n",
      "weighted avg       0.88      0.88      0.88     30000\n",
      "\n",
      "ps_car_13        0.084316\n",
      "ps_car_14        0.054259\n",
      "ps_calc_10       0.051493\n",
      "ps_calc_14       0.050326\n",
      "ps_calc_11       0.047164\n",
      "ps_calc_03       0.046284\n",
      "ps_calc_01       0.046277\n",
      "ps_calc_02       0.045966\n",
      "ps_car_11_cat    0.044552\n",
      "ps_calc_13       0.040508\n",
      "ps_calc_08       0.037986\n",
      "ps_calc_07       0.037317\n",
      "ps_car_15        0.036325\n",
      "ps_calc_06       0.036093\n",
      "ps_calc_09       0.034822\n",
      "ps_calc_04       0.032687\n",
      "ps_calc_05       0.032340\n",
      "ps_calc_12       0.031939\n",
      "ps_car_06_cat    0.031364\n",
      "ps_car_12        0.027649\n",
      "ps_car_01_cat    0.026919\n",
      "ps_ind_02_cat    0.016138\n",
      "ps_car_09_cat    0.015351\n",
      "ps_ind_05_cat    0.014647\n",
      "ps_car_11        0.014286\n",
      "ps_car_05_cat    0.014067\n",
      "ps_ind_04_cat    0.011451\n",
      "ps_car_03_cat    0.009509\n",
      "ps_car_04_cat    0.008680\n",
      "ps_car_07_cat    0.007145\n",
      "ps_car_02_cat    0.005568\n",
      "ps_car_08_cat    0.005388\n",
      "ps_car_10_cat    0.001187\n",
      "dtype: float64\n"
     ]
    }
   ],
   "source": [
    "print(\"--------------------------------\")\n",
    "m = RandomForestClassifier(n_estimators=500)\n",
    "m.fit(X_train3, Y_train2).score(X_train3, Y_train2)\n",
    "msg = \"Train Score for :\"+\" %.2f \" % (np.round((m.fit(X_train3, Y_train2).score(X_train3, Y_train2)*100),2))\n",
    "print(msg)\n",
    "\n",
    "predictions = m.predict(X_validation3)\n",
    "msg = \"Test Score for  :\"+\" %.2f\" % ( np.round((accuracy_score(Y_validation2, predictions)*100),2))\n",
    "print(msg)\n",
    "print(\"Classification Report: \\n\",classification_report(Y_validation2, predictions))\n",
    "feature_imp = pd.Series(m.feature_importances_,index=list(X_train3.columns)).sort_values(ascending=False)\n",
    "print(feature_imp)"
   ]
  },
  {
   "cell_type": "markdown",
   "metadata": {},
   "source": [
    "#### Section 6.c: Random Forest Without Binary, Cat & Reg"
   ]
  },
  {
   "cell_type": "code",
   "execution_count": 65,
   "metadata": {},
   "outputs": [
    {
     "name": "stdout",
     "output_type": "stream",
     "text": [
      "--------------------------------\n",
      "Train Score for : 100.00 \n",
      "Test Score for  : 88.08\n",
      "Classification Report: \n",
      "               precision    recall  f1-score   support\n",
      "\n",
      "           0       0.84      0.94      0.89     15087\n",
      "           1       0.93      0.82      0.87     14913\n",
      "\n",
      "    accuracy                           0.88     30000\n",
      "   macro avg       0.89      0.88      0.88     30000\n",
      "weighted avg       0.89      0.88      0.88     30000\n",
      "\n",
      "ps_car_13     0.115735\n",
      "ps_car_14     0.080640\n",
      "ps_calc_10    0.064869\n",
      "ps_calc_14    0.061900\n",
      "ps_calc_11    0.059258\n",
      "ps_calc_01    0.057475\n",
      "ps_calc_02    0.057130\n",
      "ps_calc_03    0.056187\n",
      "ps_calc_13    0.049391\n",
      "ps_calc_08    0.047251\n",
      "ps_calc_07    0.046238\n",
      "ps_calc_06    0.044564\n",
      "ps_car_15     0.042861\n",
      "ps_calc_09    0.042058\n",
      "ps_calc_04    0.040053\n",
      "ps_calc_05    0.039992\n",
      "ps_calc_12    0.039357\n",
      "ps_car_12     0.035598\n",
      "ps_car_11     0.019442\n",
      "dtype: float64\n"
     ]
    }
   ],
   "source": [
    "print(\"--------------------------------\")\n",
    "m = RandomForestClassifier(n_estimators=500)\n",
    "f = m.fit(X_train4, Y_train2)\n",
    "score = f.score(X_train4, Y_train2)\n",
    "msg = \"Train Score for :\"+\" %.2f \" % (np.round((score*100),2))\n",
    "print(msg)\n",
    "\n",
    "predictions = m.predict(X_validation4)\n",
    "msg = \"Test Score for  :\"+\" %.2f\" % ( np.round((accuracy_score(Y_validation2, predictions)*100),2))\n",
    "print(msg)\n",
    "print(\"Classification Report: \\n\",classification_report(Y_validation2, predictions))\n",
    "feature_imp = pd.Series(m.feature_importances_,index=list(X_train4.columns)).sort_values(ascending=False)\n",
    "print(feature_imp)"
   ]
  },
  {
   "cell_type": "markdown",
   "metadata": {},
   "source": [
    "#### Section 6.d: Random Forest Without Binary, Cat, Car & Reg"
   ]
  },
  {
   "cell_type": "code",
   "execution_count": 66,
   "metadata": {},
   "outputs": [
    {
     "name": "stdout",
     "output_type": "stream",
     "text": [
      "--------------------------------\n",
      "Train Score for : 100.00 \n",
      "Test Score for  : 89.56\n",
      "Classification Report: \n",
      "               precision    recall  f1-score   support\n",
      "\n",
      "           0       0.84      0.98      0.90     15087\n",
      "           1       0.98      0.81      0.88     14913\n",
      "\n",
      "    accuracy                           0.90     30000\n",
      "   macro avg       0.91      0.90      0.89     30000\n",
      "weighted avg       0.91      0.90      0.89     30000\n",
      "\n",
      "ps_calc_10    0.092685\n",
      "ps_calc_11    0.086705\n",
      "ps_calc_14    0.086064\n",
      "ps_calc_02    0.082154\n",
      "ps_calc_01    0.080181\n",
      "ps_calc_03    0.075845\n",
      "ps_calc_13    0.070660\n",
      "ps_calc_08    0.068153\n",
      "ps_calc_06    0.064869\n",
      "ps_calc_07    0.063106\n",
      "ps_calc_09    0.059251\n",
      "ps_calc_05    0.058025\n",
      "ps_calc_12    0.057002\n",
      "ps_calc_04    0.055300\n",
      "dtype: float64\n"
     ]
    }
   ],
   "source": [
    "print(\"--------------------------------\")\n",
    "m = RandomForestClassifier(n_estimators=500)\n",
    "f = m.fit(X_train5, Y_train2)\n",
    "score = f.score(X_train5, Y_train2)\n",
    "msg = \"Train Score for :\"+\" %.2f \" % (np.round((score*100),2))\n",
    "print(msg)\n",
    "\n",
    "predictions = m.predict(X_validation5)\n",
    "msg = \"Test Score for  :\"+\" %.2f\" % ( np.round((accuracy_score(Y_validation2, predictions)*100),2))\n",
    "print(msg)\n",
    "print(\"Classification Report: \\n\",classification_report(Y_validation2, predictions))\n",
    "feature_imp = pd.Series(m.feature_importances_,index=list(X_train5.columns)).sort_values(ascending=False)\n",
    "print(feature_imp)"
   ]
  },
  {
   "cell_type": "markdown",
   "metadata": {},
   "source": [
    "#### Section 6.e: Random Forest Without Binary, Cat, Car, Calc & Reg"
   ]
  },
  {
   "cell_type": "code",
   "execution_count": 69,
   "metadata": {},
   "outputs": [
    {
     "name": "stdout",
     "output_type": "stream",
     "text": [
      "--------------------------------\n",
      "Train Score for : 100.00 \n",
      "Test Score for  : 87.89\n",
      "Classification Report: \n",
      "               precision    recall  f1-score   support\n",
      "\n",
      "           0       0.85      0.93      0.89     15087\n",
      "           1       0.92      0.83      0.87     14913\n",
      "\n",
      "    accuracy                           0.88     30000\n",
      "   macro avg       0.88      0.88      0.88     30000\n",
      "weighted avg       0.88      0.88      0.88     30000\n",
      "\n",
      "ps_car_13     0.134438\n",
      "ps_car_14     0.089039\n",
      "ps_calc_10    0.073787\n",
      "ps_calc_14    0.070639\n",
      "ps_calc_11    0.067826\n",
      "ps_calc_01    0.065736\n",
      "ps_calc_02    0.064938\n",
      "ps_calc_03    0.064538\n",
      "ps_calc_13    0.057082\n",
      "ps_calc_08    0.054036\n",
      "ps_calc_07    0.052486\n",
      "ps_calc_06    0.050793\n",
      "ps_calc_09    0.048393\n",
      "ps_car_15     0.047031\n",
      "ps_car_12     0.038307\n",
      "ps_car_11     0.020932\n",
      "dtype: float64\n"
     ]
    }
   ],
   "source": [
    "print(\"--------------------------------\")\n",
    "m = RandomForestClassifier(n_estimators=600)\n",
    "f = m.fit(X_train6, Y_train2)\n",
    "score = f.score(X_train6, Y_train2)\n",
    "msg = \"Train Score for :\"+\" %.2f \" % (np.round((score*100),2))\n",
    "print(msg)\n",
    "\n",
    "predictions = m.predict(X_validation6)\n",
    "msg = \"Test Score for  :\"+\" %.2f\" % ( np.round((accuracy_score(Y_validation2, predictions)*100),2))\n",
    "print(msg)\n",
    "print(\"Classification Report: \\n\",classification_report(Y_validation2, predictions))\n",
    "feature_imp = pd.Series(m.feature_importances_,index=list(X_train6.columns)).sort_values(ascending=False)\n",
    "print(feature_imp)"
   ]
  },
  {
   "cell_type": "markdown",
   "metadata": {},
   "source": [
    "#### Section 6.f: XG Boost with as is complete Data"
   ]
  },
  {
   "cell_type": "code",
   "execution_count": null,
   "metadata": {},
   "outputs": [],
   "source": [
    "Xgb = XGBClassifier()\n",
    "Xgb.fit(X_trainF, Y_trainF)\n",
    "Xgb_score = Xgb.fit(X_trainF, Y_trainF).score(X_trainF, Y_trainF)\n",
    "\n",
    "msg = \"Train Score for :\"+\" %.2f \" % (np.round((Xgb_score*100),2))\n",
    "print(msg)\n",
    "\n",
    "predictions = Xgb.predict(X_validationF)\n",
    "msg = \"Test Score for  :\"+\" %.2f\" % ( np.round((accuracy_score(Y_validationF, predictions)*100),2))\n",
    "print(msg)\n",
    "print(\"Classification Report: \\n\",classification_report(Y_validationF, predictions))\n",
    "\n",
    "plot_importance(Xgb)\n",
    "plt.show()\n",
    "Audio(sound_file,autoplay=True)"
   ]
  },
  {
   "cell_type": "markdown",
   "metadata": {},
   "source": [
    "#### Section 6.g: XG Boost with preprocessed complete Data"
   ]
  },
  {
   "cell_type": "code",
   "execution_count": null,
   "metadata": {},
   "outputs": [],
   "source": [
    "Xgb = XGBClassifier()\n",
    "Xgb.fit(X_train9, Y_train9)\n",
    "Xgb_score = Xgb.fit(X_train9, Y_train9).score(X_train9, Y_train9)\n",
    "\n",
    "msg = \"Train Score for :\"+\" %.2f \" % (np.round((Xgb_score*100),2))\n",
    "print(msg)\n",
    "\n",
    "predictions = Xgb.predict(X_validation9)\n",
    "msg = \"Test Score for  :\"+\" %.2f\" % ( np.round((accuracy_score(Y_validation9, predictions)*100),2))\n",
    "print(msg)\n",
    "print(\"Classification Report: \\n\",classification_report(Y_validation9, predictions))\n",
    "\n",
    "plot_importance(Xgb)\n",
    "plt.show()"
   ]
  },
  {
   "cell_type": "code",
   "execution_count": 134,
   "metadata": {},
   "outputs": [
    {
     "name": "stdout",
     "output_type": "stream",
     "text": [
      "(151,)\n",
      "151\n",
      "(151, 101)\n",
      "252\n",
      "(151, 101, 67)\n",
      "319\n",
      "(151, 101, 67, 45)\n",
      "364\n",
      "(151, 101, 67, 45, 30)\n",
      "394\n",
      "(151, 101, 67, 45, 30, 20)\n",
      "414\n",
      "(151, 101, 67, 45, 30, 20, 13)\n",
      "427\n",
      "(151, 101, 67, 45, 30, 20, 13, 9)\n",
      "436\n",
      "(151, 101, 67, 45, 30, 20, 13, 9, 6)\n",
      "442\n",
      "(151, 101, 67, 45, 30, 20, 13, 9, 6, 4)\n",
      "446\n",
      "(151, 101, 67, 45, 30, 20, 13, 9, 6, 4, 3)\n",
      "449\n",
      "(151, 101, 67, 45, 30, 20, 13, 9, 6, 4, 3, 2)\n",
      "451\n"
     ]
    }
   ],
   "source": [
    "for h in hid_architecture:\n",
    "    print(h)\n",
    "    print(str(np.sum(h)))"
   ]
  },
  {
   "cell_type": "code",
   "execution_count": 135,
   "metadata": {},
   "outputs": [
    {
     "data": {
      "text/plain": [
       "[(90,), (91,)]"
      ]
     },
     "execution_count": 135,
     "metadata": {},
     "output_type": "execute_result"
    }
   ],
   "source": [
    "hid_architecture9[0:2]"
   ]
  },
  {
   "cell_type": "code",
   "execution_count": 136,
   "metadata": {},
   "outputs": [
    {
     "data": {
      "text/plain": [
       "'90'"
      ]
     },
     "execution_count": 136,
     "metadata": {},
     "output_type": "execute_result"
    }
   ],
   "source": [
    "u= hid_architecture9[0]\n",
    "str(np.sum(u))"
   ]
  },
  {
   "cell_type": "code",
   "execution_count": null,
   "metadata": {},
   "outputs": [],
   "source": []
  }
 ],
 "metadata": {
  "kernelspec": {
   "display_name": "Python 3",
   "language": "python",
   "name": "python3"
  },
  "language_info": {
   "codemirror_mode": {
    "name": "ipython",
    "version": 3
   },
   "file_extension": ".py",
   "mimetype": "text/x-python",
   "name": "python",
   "nbconvert_exporter": "python",
   "pygments_lexer": "ipython3",
   "version": "3.7.3"
  },
  "widgets": {
   "application/vnd.jupyter.widget-state+json": {
    "state": {},
    "version_major": 2,
    "version_minor": 0
   }
  }
 },
 "nbformat": 4,
 "nbformat_minor": 2
}
